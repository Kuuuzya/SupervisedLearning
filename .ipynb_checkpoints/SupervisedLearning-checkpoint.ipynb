{
 "cells": [
  {
   "cell_type": "markdown",
   "metadata": {},
   "source": [
    "**Ссылка на репозиторий:** https://github.com/Kuuuzya/SupervisedLearning"
   ]
  },
  {
   "cell_type": "markdown",
   "metadata": {
    "toc": true
   },
   "source": [
    "<h1>Содержание<span class=\"tocSkip\"></span></h1>\n",
    "<div class=\"toc\"><ul class=\"toc-item\"><li><span><a href=\"#Подготовка-данных\" data-toc-modified-id=\"Подготовка-данных-1\"><span class=\"toc-item-num\">1&nbsp;&nbsp;</span>Подготовка данных</a></span></li><li><span><a href=\"#Исследование-задачи\" data-toc-modified-id=\"Исследование-задачи-2\"><span class=\"toc-item-num\">2&nbsp;&nbsp;</span>Исследование задачи</a></span></li><li><span><a href=\"#Борьба-с-дисбалансом\" data-toc-modified-id=\"Борьба-с-дисбалансом-3\"><span class=\"toc-item-num\">3&nbsp;&nbsp;</span>Борьба с дисбалансом</a></span></li><li><span><a href=\"#Тестирование-модели\" data-toc-modified-id=\"Тестирование-модели-4\"><span class=\"toc-item-num\">4&nbsp;&nbsp;</span>Тестирование модели</a></span></li><li><span><a href=\"#Чек-лист-готовности-проекта\" data-toc-modified-id=\"Чек-лист-готовности-проекта-5\"><span class=\"toc-item-num\">5&nbsp;&nbsp;</span>Чек-лист готовности проекта</a></span></li></ul></div>"
   ]
  },
  {
   "cell_type": "markdown",
   "metadata": {},
   "source": [
    "# Отток клиентов"
   ]
  },
  {
   "cell_type": "markdown",
   "metadata": {},
   "source": [
    "Из «Бета-Банка» стали уходить клиенты. Каждый месяц. Немного, но заметно. Банковские маркетологи посчитали: сохранять текущих клиентов дешевле, чем привлекать новых.\n",
    "\n",
    "Нужно спрогнозировать, уйдёт клиент из банка в ближайшее время или нет. Вам предоставлены исторические данные о поведении клиентов и расторжении договоров с банком. \n",
    "\n",
    "Постройте модель с предельно большим значением *F1*-меры. Чтобы сдать проект успешно, нужно довести метрику до 0.59. Проверьте *F1*-меру на тестовой выборке самостоятельно.\n",
    "\n",
    "Дополнительно измеряйте *AUC-ROC*, сравнивайте её значение с *F1*-мерой.\n",
    "\n",
    "Источник данных: [https://www.kaggle.com/barelydedicated/bank-customer-churn-modeling](https://www.kaggle.com/barelydedicated/bank-customer-churn-modeling)"
   ]
  },
  {
   "cell_type": "markdown",
   "metadata": {},
   "source": [
    "## Подготовка данных"
   ]
  },
  {
   "cell_type": "markdown",
   "metadata": {},
   "source": [
    "Передо мной поставлена задача об анализе исторических данных клиентов Бета-банка. Необходимо проанализировать датасет и с помощью машинного обучения спрогнозировать, уйдёт клиент из банка или нет, чтобы в дальнейшем руководители подразделений смогли предпринять те или иные шаги. Для начала загрузим данные и изучим их."
   ]
  },
  {
   "cell_type": "code",
   "execution_count": 1,
   "metadata": {},
   "outputs": [],
   "source": [
    "#Все импорты, а их будет много, собираю тут, перезапуская ячейку при необходимости\n",
    "import pandas as pd\n",
    "import numpy as np\n",
    "import matplotlib.pyplot as plt\n",
    "\n",
    "from sklearn.tree import DecisionTreeClassifier \n",
    "from sklearn.linear_model import LogisticRegression\n",
    "from sklearn.model_selection import train_test_split\n",
    "from sklearn.ensemble import RandomForestClassifier\n",
    "from sklearn.metrics import mean_absolute_error, r2_score, confusion_matrix,f1_score, recall_score, precision_score, precision_recall_curve,roc_curve, roc_auc_score \n",
    "from sklearn.utils import shuffle\n",
    "from sklearn.preprocessing import StandardScaler"
   ]
  },
  {
   "cell_type": "code",
   "execution_count": 2,
   "metadata": {},
   "outputs": [
    {
     "name": "stdout",
     "output_type": "stream",
     "text": [
      "Датасет загружен в переменную data\n"
     ]
    }
   ],
   "source": [
    "#попробуем считать датасет из файла и положить в переменную. Выдадим ошибку, если это не получится.\n",
    "try:\n",
    "    data = pd.read_csv('./Churn.csv')\n",
    "    print('Датасет загружен в переменную data')\n",
    "except:\n",
    "    print('Не удалось загрузить датасет')"
   ]
  },
  {
   "cell_type": "code",
   "execution_count": 3,
   "metadata": {},
   "outputs": [
    {
     "data": {
      "text/plain": [
       "10000"
      ]
     },
     "execution_count": 3,
     "metadata": {},
     "output_type": "execute_result"
    }
   ],
   "source": [
    "#Посмотрим на размер датасета\n",
    "data.shape[0]"
   ]
  },
  {
   "cell_type": "markdown",
   "metadata": {},
   "source": [
    "10 тысяч записей. Не идеально, но неплохо, есть, с чем работать. \n",
    "Посмотрим, что там с колонками и все ли данные у нас есть"
   ]
  },
  {
   "cell_type": "code",
   "execution_count": 4,
   "metadata": {},
   "outputs": [
    {
     "name": "stdout",
     "output_type": "stream",
     "text": [
      "<class 'pandas.core.frame.DataFrame'>\n",
      "RangeIndex: 10000 entries, 0 to 9999\n",
      "Data columns (total 14 columns):\n",
      " #   Column           Non-Null Count  Dtype  \n",
      "---  ------           --------------  -----  \n",
      " 0   RowNumber        10000 non-null  int64  \n",
      " 1   CustomerId       10000 non-null  int64  \n",
      " 2   Surname          10000 non-null  object \n",
      " 3   CreditScore      10000 non-null  int64  \n",
      " 4   Geography        10000 non-null  object \n",
      " 5   Gender           10000 non-null  object \n",
      " 6   Age              10000 non-null  int64  \n",
      " 7   Tenure           9091 non-null   float64\n",
      " 8   Balance          10000 non-null  float64\n",
      " 9   NumOfProducts    10000 non-null  int64  \n",
      " 10  HasCrCard        10000 non-null  int64  \n",
      " 11  IsActiveMember   10000 non-null  int64  \n",
      " 12  EstimatedSalary  10000 non-null  float64\n",
      " 13  Exited           10000 non-null  int64  \n",
      "dtypes: float64(3), int64(8), object(3)\n",
      "memory usage: 1.1+ MB\n"
     ]
    }
   ],
   "source": [
    "data.info()"
   ]
  },
  {
   "cell_type": "markdown",
   "metadata": {},
   "source": [
    "Неплохо, бывали датасеты в этом курсе и похуже. \n",
    "Проблема только с колонкой Tenure — сколько лет клиент был в банке.\n",
    "Посмотрим на датасет глазами."
   ]
  },
  {
   "cell_type": "code",
   "execution_count": 5,
   "metadata": {
    "scrolled": true
   },
   "outputs": [
    {
     "data": {
      "text/html": [
       "<div>\n",
       "<style scoped>\n",
       "    .dataframe tbody tr th:only-of-type {\n",
       "        vertical-align: middle;\n",
       "    }\n",
       "\n",
       "    .dataframe tbody tr th {\n",
       "        vertical-align: top;\n",
       "    }\n",
       "\n",
       "    .dataframe thead th {\n",
       "        text-align: right;\n",
       "    }\n",
       "</style>\n",
       "<table border=\"1\" class=\"dataframe\">\n",
       "  <thead>\n",
       "    <tr style=\"text-align: right;\">\n",
       "      <th></th>\n",
       "      <th>RowNumber</th>\n",
       "      <th>CustomerId</th>\n",
       "      <th>Surname</th>\n",
       "      <th>CreditScore</th>\n",
       "      <th>Geography</th>\n",
       "      <th>Gender</th>\n",
       "      <th>Age</th>\n",
       "      <th>Tenure</th>\n",
       "      <th>Balance</th>\n",
       "      <th>NumOfProducts</th>\n",
       "      <th>HasCrCard</th>\n",
       "      <th>IsActiveMember</th>\n",
       "      <th>EstimatedSalary</th>\n",
       "      <th>Exited</th>\n",
       "    </tr>\n",
       "  </thead>\n",
       "  <tbody>\n",
       "    <tr>\n",
       "      <th>0</th>\n",
       "      <td>1</td>\n",
       "      <td>15634602</td>\n",
       "      <td>Hargrave</td>\n",
       "      <td>619</td>\n",
       "      <td>France</td>\n",
       "      <td>Female</td>\n",
       "      <td>42</td>\n",
       "      <td>2.0</td>\n",
       "      <td>0.00</td>\n",
       "      <td>1</td>\n",
       "      <td>1</td>\n",
       "      <td>1</td>\n",
       "      <td>101348.88</td>\n",
       "      <td>1</td>\n",
       "    </tr>\n",
       "    <tr>\n",
       "      <th>1</th>\n",
       "      <td>2</td>\n",
       "      <td>15647311</td>\n",
       "      <td>Hill</td>\n",
       "      <td>608</td>\n",
       "      <td>Spain</td>\n",
       "      <td>Female</td>\n",
       "      <td>41</td>\n",
       "      <td>1.0</td>\n",
       "      <td>83807.86</td>\n",
       "      <td>1</td>\n",
       "      <td>0</td>\n",
       "      <td>1</td>\n",
       "      <td>112542.58</td>\n",
       "      <td>0</td>\n",
       "    </tr>\n",
       "    <tr>\n",
       "      <th>2</th>\n",
       "      <td>3</td>\n",
       "      <td>15619304</td>\n",
       "      <td>Onio</td>\n",
       "      <td>502</td>\n",
       "      <td>France</td>\n",
       "      <td>Female</td>\n",
       "      <td>42</td>\n",
       "      <td>8.0</td>\n",
       "      <td>159660.80</td>\n",
       "      <td>3</td>\n",
       "      <td>1</td>\n",
       "      <td>0</td>\n",
       "      <td>113931.57</td>\n",
       "      <td>1</td>\n",
       "    </tr>\n",
       "    <tr>\n",
       "      <th>3</th>\n",
       "      <td>4</td>\n",
       "      <td>15701354</td>\n",
       "      <td>Boni</td>\n",
       "      <td>699</td>\n",
       "      <td>France</td>\n",
       "      <td>Female</td>\n",
       "      <td>39</td>\n",
       "      <td>1.0</td>\n",
       "      <td>0.00</td>\n",
       "      <td>2</td>\n",
       "      <td>0</td>\n",
       "      <td>0</td>\n",
       "      <td>93826.63</td>\n",
       "      <td>0</td>\n",
       "    </tr>\n",
       "    <tr>\n",
       "      <th>4</th>\n",
       "      <td>5</td>\n",
       "      <td>15737888</td>\n",
       "      <td>Mitchell</td>\n",
       "      <td>850</td>\n",
       "      <td>Spain</td>\n",
       "      <td>Female</td>\n",
       "      <td>43</td>\n",
       "      <td>2.0</td>\n",
       "      <td>125510.82</td>\n",
       "      <td>1</td>\n",
       "      <td>1</td>\n",
       "      <td>1</td>\n",
       "      <td>79084.10</td>\n",
       "      <td>0</td>\n",
       "    </tr>\n",
       "    <tr>\n",
       "      <th>5</th>\n",
       "      <td>6</td>\n",
       "      <td>15574012</td>\n",
       "      <td>Chu</td>\n",
       "      <td>645</td>\n",
       "      <td>Spain</td>\n",
       "      <td>Male</td>\n",
       "      <td>44</td>\n",
       "      <td>8.0</td>\n",
       "      <td>113755.78</td>\n",
       "      <td>2</td>\n",
       "      <td>1</td>\n",
       "      <td>0</td>\n",
       "      <td>149756.71</td>\n",
       "      <td>1</td>\n",
       "    </tr>\n",
       "    <tr>\n",
       "      <th>6</th>\n",
       "      <td>7</td>\n",
       "      <td>15592531</td>\n",
       "      <td>Bartlett</td>\n",
       "      <td>822</td>\n",
       "      <td>France</td>\n",
       "      <td>Male</td>\n",
       "      <td>50</td>\n",
       "      <td>7.0</td>\n",
       "      <td>0.00</td>\n",
       "      <td>2</td>\n",
       "      <td>1</td>\n",
       "      <td>1</td>\n",
       "      <td>10062.80</td>\n",
       "      <td>0</td>\n",
       "    </tr>\n",
       "    <tr>\n",
       "      <th>7</th>\n",
       "      <td>8</td>\n",
       "      <td>15656148</td>\n",
       "      <td>Obinna</td>\n",
       "      <td>376</td>\n",
       "      <td>Germany</td>\n",
       "      <td>Female</td>\n",
       "      <td>29</td>\n",
       "      <td>4.0</td>\n",
       "      <td>115046.74</td>\n",
       "      <td>4</td>\n",
       "      <td>1</td>\n",
       "      <td>0</td>\n",
       "      <td>119346.88</td>\n",
       "      <td>1</td>\n",
       "    </tr>\n",
       "    <tr>\n",
       "      <th>8</th>\n",
       "      <td>9</td>\n",
       "      <td>15792365</td>\n",
       "      <td>He</td>\n",
       "      <td>501</td>\n",
       "      <td>France</td>\n",
       "      <td>Male</td>\n",
       "      <td>44</td>\n",
       "      <td>4.0</td>\n",
       "      <td>142051.07</td>\n",
       "      <td>2</td>\n",
       "      <td>0</td>\n",
       "      <td>1</td>\n",
       "      <td>74940.50</td>\n",
       "      <td>0</td>\n",
       "    </tr>\n",
       "    <tr>\n",
       "      <th>9</th>\n",
       "      <td>10</td>\n",
       "      <td>15592389</td>\n",
       "      <td>H?</td>\n",
       "      <td>684</td>\n",
       "      <td>France</td>\n",
       "      <td>Male</td>\n",
       "      <td>27</td>\n",
       "      <td>2.0</td>\n",
       "      <td>134603.88</td>\n",
       "      <td>1</td>\n",
       "      <td>1</td>\n",
       "      <td>1</td>\n",
       "      <td>71725.73</td>\n",
       "      <td>0</td>\n",
       "    </tr>\n",
       "    <tr>\n",
       "      <th>10</th>\n",
       "      <td>11</td>\n",
       "      <td>15767821</td>\n",
       "      <td>Bearce</td>\n",
       "      <td>528</td>\n",
       "      <td>France</td>\n",
       "      <td>Male</td>\n",
       "      <td>31</td>\n",
       "      <td>6.0</td>\n",
       "      <td>102016.72</td>\n",
       "      <td>2</td>\n",
       "      <td>0</td>\n",
       "      <td>0</td>\n",
       "      <td>80181.12</td>\n",
       "      <td>0</td>\n",
       "    </tr>\n",
       "    <tr>\n",
       "      <th>11</th>\n",
       "      <td>12</td>\n",
       "      <td>15737173</td>\n",
       "      <td>Andrews</td>\n",
       "      <td>497</td>\n",
       "      <td>Spain</td>\n",
       "      <td>Male</td>\n",
       "      <td>24</td>\n",
       "      <td>3.0</td>\n",
       "      <td>0.00</td>\n",
       "      <td>2</td>\n",
       "      <td>1</td>\n",
       "      <td>0</td>\n",
       "      <td>76390.01</td>\n",
       "      <td>0</td>\n",
       "    </tr>\n",
       "    <tr>\n",
       "      <th>12</th>\n",
       "      <td>13</td>\n",
       "      <td>15632264</td>\n",
       "      <td>Kay</td>\n",
       "      <td>476</td>\n",
       "      <td>France</td>\n",
       "      <td>Female</td>\n",
       "      <td>34</td>\n",
       "      <td>10.0</td>\n",
       "      <td>0.00</td>\n",
       "      <td>2</td>\n",
       "      <td>1</td>\n",
       "      <td>0</td>\n",
       "      <td>26260.98</td>\n",
       "      <td>0</td>\n",
       "    </tr>\n",
       "    <tr>\n",
       "      <th>13</th>\n",
       "      <td>14</td>\n",
       "      <td>15691483</td>\n",
       "      <td>Chin</td>\n",
       "      <td>549</td>\n",
       "      <td>France</td>\n",
       "      <td>Female</td>\n",
       "      <td>25</td>\n",
       "      <td>5.0</td>\n",
       "      <td>0.00</td>\n",
       "      <td>2</td>\n",
       "      <td>0</td>\n",
       "      <td>0</td>\n",
       "      <td>190857.79</td>\n",
       "      <td>0</td>\n",
       "    </tr>\n",
       "    <tr>\n",
       "      <th>14</th>\n",
       "      <td>15</td>\n",
       "      <td>15600882</td>\n",
       "      <td>Scott</td>\n",
       "      <td>635</td>\n",
       "      <td>Spain</td>\n",
       "      <td>Female</td>\n",
       "      <td>35</td>\n",
       "      <td>7.0</td>\n",
       "      <td>0.00</td>\n",
       "      <td>2</td>\n",
       "      <td>1</td>\n",
       "      <td>1</td>\n",
       "      <td>65951.65</td>\n",
       "      <td>0</td>\n",
       "    </tr>\n",
       "    <tr>\n",
       "      <th>15</th>\n",
       "      <td>16</td>\n",
       "      <td>15643966</td>\n",
       "      <td>Goforth</td>\n",
       "      <td>616</td>\n",
       "      <td>Germany</td>\n",
       "      <td>Male</td>\n",
       "      <td>45</td>\n",
       "      <td>3.0</td>\n",
       "      <td>143129.41</td>\n",
       "      <td>2</td>\n",
       "      <td>0</td>\n",
       "      <td>1</td>\n",
       "      <td>64327.26</td>\n",
       "      <td>0</td>\n",
       "    </tr>\n",
       "    <tr>\n",
       "      <th>16</th>\n",
       "      <td>17</td>\n",
       "      <td>15737452</td>\n",
       "      <td>Romeo</td>\n",
       "      <td>653</td>\n",
       "      <td>Germany</td>\n",
       "      <td>Male</td>\n",
       "      <td>58</td>\n",
       "      <td>1.0</td>\n",
       "      <td>132602.88</td>\n",
       "      <td>1</td>\n",
       "      <td>1</td>\n",
       "      <td>0</td>\n",
       "      <td>5097.67</td>\n",
       "      <td>1</td>\n",
       "    </tr>\n",
       "    <tr>\n",
       "      <th>17</th>\n",
       "      <td>18</td>\n",
       "      <td>15788218</td>\n",
       "      <td>Henderson</td>\n",
       "      <td>549</td>\n",
       "      <td>Spain</td>\n",
       "      <td>Female</td>\n",
       "      <td>24</td>\n",
       "      <td>9.0</td>\n",
       "      <td>0.00</td>\n",
       "      <td>2</td>\n",
       "      <td>1</td>\n",
       "      <td>1</td>\n",
       "      <td>14406.41</td>\n",
       "      <td>0</td>\n",
       "    </tr>\n",
       "    <tr>\n",
       "      <th>18</th>\n",
       "      <td>19</td>\n",
       "      <td>15661507</td>\n",
       "      <td>Muldrow</td>\n",
       "      <td>587</td>\n",
       "      <td>Spain</td>\n",
       "      <td>Male</td>\n",
       "      <td>45</td>\n",
       "      <td>6.0</td>\n",
       "      <td>0.00</td>\n",
       "      <td>1</td>\n",
       "      <td>0</td>\n",
       "      <td>0</td>\n",
       "      <td>158684.81</td>\n",
       "      <td>0</td>\n",
       "    </tr>\n",
       "    <tr>\n",
       "      <th>19</th>\n",
       "      <td>20</td>\n",
       "      <td>15568982</td>\n",
       "      <td>Hao</td>\n",
       "      <td>726</td>\n",
       "      <td>France</td>\n",
       "      <td>Female</td>\n",
       "      <td>24</td>\n",
       "      <td>6.0</td>\n",
       "      <td>0.00</td>\n",
       "      <td>2</td>\n",
       "      <td>1</td>\n",
       "      <td>1</td>\n",
       "      <td>54724.03</td>\n",
       "      <td>0</td>\n",
       "    </tr>\n",
       "    <tr>\n",
       "      <th>20</th>\n",
       "      <td>21</td>\n",
       "      <td>15577657</td>\n",
       "      <td>McDonald</td>\n",
       "      <td>732</td>\n",
       "      <td>France</td>\n",
       "      <td>Male</td>\n",
       "      <td>41</td>\n",
       "      <td>8.0</td>\n",
       "      <td>0.00</td>\n",
       "      <td>2</td>\n",
       "      <td>1</td>\n",
       "      <td>1</td>\n",
       "      <td>170886.17</td>\n",
       "      <td>0</td>\n",
       "    </tr>\n",
       "    <tr>\n",
       "      <th>21</th>\n",
       "      <td>22</td>\n",
       "      <td>15597945</td>\n",
       "      <td>Dellucci</td>\n",
       "      <td>636</td>\n",
       "      <td>Spain</td>\n",
       "      <td>Female</td>\n",
       "      <td>32</td>\n",
       "      <td>8.0</td>\n",
       "      <td>0.00</td>\n",
       "      <td>2</td>\n",
       "      <td>1</td>\n",
       "      <td>0</td>\n",
       "      <td>138555.46</td>\n",
       "      <td>0</td>\n",
       "    </tr>\n",
       "    <tr>\n",
       "      <th>22</th>\n",
       "      <td>23</td>\n",
       "      <td>15699309</td>\n",
       "      <td>Gerasimov</td>\n",
       "      <td>510</td>\n",
       "      <td>Spain</td>\n",
       "      <td>Female</td>\n",
       "      <td>38</td>\n",
       "      <td>4.0</td>\n",
       "      <td>0.00</td>\n",
       "      <td>1</td>\n",
       "      <td>1</td>\n",
       "      <td>0</td>\n",
       "      <td>118913.53</td>\n",
       "      <td>1</td>\n",
       "    </tr>\n",
       "    <tr>\n",
       "      <th>23</th>\n",
       "      <td>24</td>\n",
       "      <td>15725737</td>\n",
       "      <td>Mosman</td>\n",
       "      <td>669</td>\n",
       "      <td>France</td>\n",
       "      <td>Male</td>\n",
       "      <td>46</td>\n",
       "      <td>3.0</td>\n",
       "      <td>0.00</td>\n",
       "      <td>2</td>\n",
       "      <td>0</td>\n",
       "      <td>1</td>\n",
       "      <td>8487.75</td>\n",
       "      <td>0</td>\n",
       "    </tr>\n",
       "    <tr>\n",
       "      <th>24</th>\n",
       "      <td>25</td>\n",
       "      <td>15625047</td>\n",
       "      <td>Yen</td>\n",
       "      <td>846</td>\n",
       "      <td>France</td>\n",
       "      <td>Female</td>\n",
       "      <td>38</td>\n",
       "      <td>5.0</td>\n",
       "      <td>0.00</td>\n",
       "      <td>1</td>\n",
       "      <td>1</td>\n",
       "      <td>1</td>\n",
       "      <td>187616.16</td>\n",
       "      <td>0</td>\n",
       "    </tr>\n",
       "    <tr>\n",
       "      <th>25</th>\n",
       "      <td>26</td>\n",
       "      <td>15738191</td>\n",
       "      <td>Maclean</td>\n",
       "      <td>577</td>\n",
       "      <td>France</td>\n",
       "      <td>Male</td>\n",
       "      <td>25</td>\n",
       "      <td>3.0</td>\n",
       "      <td>0.00</td>\n",
       "      <td>2</td>\n",
       "      <td>0</td>\n",
       "      <td>1</td>\n",
       "      <td>124508.29</td>\n",
       "      <td>0</td>\n",
       "    </tr>\n",
       "    <tr>\n",
       "      <th>26</th>\n",
       "      <td>27</td>\n",
       "      <td>15736816</td>\n",
       "      <td>Young</td>\n",
       "      <td>756</td>\n",
       "      <td>Germany</td>\n",
       "      <td>Male</td>\n",
       "      <td>36</td>\n",
       "      <td>2.0</td>\n",
       "      <td>136815.64</td>\n",
       "      <td>1</td>\n",
       "      <td>1</td>\n",
       "      <td>1</td>\n",
       "      <td>170041.95</td>\n",
       "      <td>0</td>\n",
       "    </tr>\n",
       "    <tr>\n",
       "      <th>27</th>\n",
       "      <td>28</td>\n",
       "      <td>15700772</td>\n",
       "      <td>Nebechi</td>\n",
       "      <td>571</td>\n",
       "      <td>France</td>\n",
       "      <td>Male</td>\n",
       "      <td>44</td>\n",
       "      <td>9.0</td>\n",
       "      <td>0.00</td>\n",
       "      <td>2</td>\n",
       "      <td>0</td>\n",
       "      <td>0</td>\n",
       "      <td>38433.35</td>\n",
       "      <td>0</td>\n",
       "    </tr>\n",
       "    <tr>\n",
       "      <th>28</th>\n",
       "      <td>29</td>\n",
       "      <td>15728693</td>\n",
       "      <td>McWilliams</td>\n",
       "      <td>574</td>\n",
       "      <td>Germany</td>\n",
       "      <td>Female</td>\n",
       "      <td>43</td>\n",
       "      <td>3.0</td>\n",
       "      <td>141349.43</td>\n",
       "      <td>1</td>\n",
       "      <td>1</td>\n",
       "      <td>1</td>\n",
       "      <td>100187.43</td>\n",
       "      <td>0</td>\n",
       "    </tr>\n",
       "    <tr>\n",
       "      <th>29</th>\n",
       "      <td>30</td>\n",
       "      <td>15656300</td>\n",
       "      <td>Lucciano</td>\n",
       "      <td>411</td>\n",
       "      <td>France</td>\n",
       "      <td>Male</td>\n",
       "      <td>29</td>\n",
       "      <td>0.0</td>\n",
       "      <td>59697.17</td>\n",
       "      <td>2</td>\n",
       "      <td>1</td>\n",
       "      <td>1</td>\n",
       "      <td>53483.21</td>\n",
       "      <td>0</td>\n",
       "    </tr>\n",
       "    <tr>\n",
       "      <th>30</th>\n",
       "      <td>31</td>\n",
       "      <td>15589475</td>\n",
       "      <td>Azikiwe</td>\n",
       "      <td>591</td>\n",
       "      <td>Spain</td>\n",
       "      <td>Female</td>\n",
       "      <td>39</td>\n",
       "      <td>NaN</td>\n",
       "      <td>0.00</td>\n",
       "      <td>3</td>\n",
       "      <td>1</td>\n",
       "      <td>0</td>\n",
       "      <td>140469.38</td>\n",
       "      <td>1</td>\n",
       "    </tr>\n",
       "    <tr>\n",
       "      <th>31</th>\n",
       "      <td>32</td>\n",
       "      <td>15706552</td>\n",
       "      <td>Odinakachukwu</td>\n",
       "      <td>533</td>\n",
       "      <td>France</td>\n",
       "      <td>Male</td>\n",
       "      <td>36</td>\n",
       "      <td>7.0</td>\n",
       "      <td>85311.70</td>\n",
       "      <td>1</td>\n",
       "      <td>0</td>\n",
       "      <td>1</td>\n",
       "      <td>156731.91</td>\n",
       "      <td>0</td>\n",
       "    </tr>\n",
       "    <tr>\n",
       "      <th>32</th>\n",
       "      <td>33</td>\n",
       "      <td>15750181</td>\n",
       "      <td>Sanderson</td>\n",
       "      <td>553</td>\n",
       "      <td>Germany</td>\n",
       "      <td>Male</td>\n",
       "      <td>41</td>\n",
       "      <td>9.0</td>\n",
       "      <td>110112.54</td>\n",
       "      <td>2</td>\n",
       "      <td>0</td>\n",
       "      <td>0</td>\n",
       "      <td>81898.81</td>\n",
       "      <td>0</td>\n",
       "    </tr>\n",
       "    <tr>\n",
       "      <th>33</th>\n",
       "      <td>34</td>\n",
       "      <td>15659428</td>\n",
       "      <td>Maggard</td>\n",
       "      <td>520</td>\n",
       "      <td>Spain</td>\n",
       "      <td>Female</td>\n",
       "      <td>42</td>\n",
       "      <td>6.0</td>\n",
       "      <td>0.00</td>\n",
       "      <td>2</td>\n",
       "      <td>1</td>\n",
       "      <td>1</td>\n",
       "      <td>34410.55</td>\n",
       "      <td>0</td>\n",
       "    </tr>\n",
       "    <tr>\n",
       "      <th>34</th>\n",
       "      <td>35</td>\n",
       "      <td>15732963</td>\n",
       "      <td>Clements</td>\n",
       "      <td>722</td>\n",
       "      <td>Spain</td>\n",
       "      <td>Female</td>\n",
       "      <td>29</td>\n",
       "      <td>9.0</td>\n",
       "      <td>0.00</td>\n",
       "      <td>2</td>\n",
       "      <td>1</td>\n",
       "      <td>1</td>\n",
       "      <td>142033.07</td>\n",
       "      <td>0</td>\n",
       "    </tr>\n",
       "    <tr>\n",
       "      <th>35</th>\n",
       "      <td>36</td>\n",
       "      <td>15794171</td>\n",
       "      <td>Lombardo</td>\n",
       "      <td>475</td>\n",
       "      <td>France</td>\n",
       "      <td>Female</td>\n",
       "      <td>45</td>\n",
       "      <td>0.0</td>\n",
       "      <td>134264.04</td>\n",
       "      <td>1</td>\n",
       "      <td>1</td>\n",
       "      <td>0</td>\n",
       "      <td>27822.99</td>\n",
       "      <td>1</td>\n",
       "    </tr>\n",
       "    <tr>\n",
       "      <th>36</th>\n",
       "      <td>37</td>\n",
       "      <td>15788448</td>\n",
       "      <td>Watson</td>\n",
       "      <td>490</td>\n",
       "      <td>Spain</td>\n",
       "      <td>Male</td>\n",
       "      <td>31</td>\n",
       "      <td>3.0</td>\n",
       "      <td>145260.23</td>\n",
       "      <td>1</td>\n",
       "      <td>0</td>\n",
       "      <td>1</td>\n",
       "      <td>114066.77</td>\n",
       "      <td>0</td>\n",
       "    </tr>\n",
       "    <tr>\n",
       "      <th>37</th>\n",
       "      <td>38</td>\n",
       "      <td>15729599</td>\n",
       "      <td>Lorenzo</td>\n",
       "      <td>804</td>\n",
       "      <td>Spain</td>\n",
       "      <td>Male</td>\n",
       "      <td>33</td>\n",
       "      <td>7.0</td>\n",
       "      <td>76548.60</td>\n",
       "      <td>1</td>\n",
       "      <td>0</td>\n",
       "      <td>1</td>\n",
       "      <td>98453.45</td>\n",
       "      <td>0</td>\n",
       "    </tr>\n",
       "    <tr>\n",
       "      <th>38</th>\n",
       "      <td>39</td>\n",
       "      <td>15717426</td>\n",
       "      <td>Armstrong</td>\n",
       "      <td>850</td>\n",
       "      <td>France</td>\n",
       "      <td>Male</td>\n",
       "      <td>36</td>\n",
       "      <td>7.0</td>\n",
       "      <td>0.00</td>\n",
       "      <td>1</td>\n",
       "      <td>1</td>\n",
       "      <td>1</td>\n",
       "      <td>40812.90</td>\n",
       "      <td>0</td>\n",
       "    </tr>\n",
       "    <tr>\n",
       "      <th>39</th>\n",
       "      <td>40</td>\n",
       "      <td>15585768</td>\n",
       "      <td>Cameron</td>\n",
       "      <td>582</td>\n",
       "      <td>Germany</td>\n",
       "      <td>Male</td>\n",
       "      <td>41</td>\n",
       "      <td>6.0</td>\n",
       "      <td>70349.48</td>\n",
       "      <td>2</td>\n",
       "      <td>0</td>\n",
       "      <td>1</td>\n",
       "      <td>178074.04</td>\n",
       "      <td>0</td>\n",
       "    </tr>\n",
       "    <tr>\n",
       "      <th>40</th>\n",
       "      <td>41</td>\n",
       "      <td>15619360</td>\n",
       "      <td>Hsiao</td>\n",
       "      <td>472</td>\n",
       "      <td>Spain</td>\n",
       "      <td>Male</td>\n",
       "      <td>40</td>\n",
       "      <td>4.0</td>\n",
       "      <td>0.00</td>\n",
       "      <td>1</td>\n",
       "      <td>1</td>\n",
       "      <td>0</td>\n",
       "      <td>70154.22</td>\n",
       "      <td>0</td>\n",
       "    </tr>\n",
       "    <tr>\n",
       "      <th>41</th>\n",
       "      <td>42</td>\n",
       "      <td>15738148</td>\n",
       "      <td>Clarke</td>\n",
       "      <td>465</td>\n",
       "      <td>France</td>\n",
       "      <td>Female</td>\n",
       "      <td>51</td>\n",
       "      <td>8.0</td>\n",
       "      <td>122522.32</td>\n",
       "      <td>1</td>\n",
       "      <td>0</td>\n",
       "      <td>0</td>\n",
       "      <td>181297.65</td>\n",
       "      <td>1</td>\n",
       "    </tr>\n",
       "    <tr>\n",
       "      <th>42</th>\n",
       "      <td>43</td>\n",
       "      <td>15687946</td>\n",
       "      <td>Osborne</td>\n",
       "      <td>556</td>\n",
       "      <td>France</td>\n",
       "      <td>Female</td>\n",
       "      <td>61</td>\n",
       "      <td>2.0</td>\n",
       "      <td>117419.35</td>\n",
       "      <td>1</td>\n",
       "      <td>1</td>\n",
       "      <td>1</td>\n",
       "      <td>94153.83</td>\n",
       "      <td>0</td>\n",
       "    </tr>\n",
       "    <tr>\n",
       "      <th>43</th>\n",
       "      <td>44</td>\n",
       "      <td>15755196</td>\n",
       "      <td>Lavine</td>\n",
       "      <td>834</td>\n",
       "      <td>France</td>\n",
       "      <td>Female</td>\n",
       "      <td>49</td>\n",
       "      <td>2.0</td>\n",
       "      <td>131394.56</td>\n",
       "      <td>1</td>\n",
       "      <td>0</td>\n",
       "      <td>0</td>\n",
       "      <td>194365.76</td>\n",
       "      <td>1</td>\n",
       "    </tr>\n",
       "    <tr>\n",
       "      <th>44</th>\n",
       "      <td>45</td>\n",
       "      <td>15684171</td>\n",
       "      <td>Bianchi</td>\n",
       "      <td>660</td>\n",
       "      <td>Spain</td>\n",
       "      <td>Female</td>\n",
       "      <td>61</td>\n",
       "      <td>5.0</td>\n",
       "      <td>155931.11</td>\n",
       "      <td>1</td>\n",
       "      <td>1</td>\n",
       "      <td>1</td>\n",
       "      <td>158338.39</td>\n",
       "      <td>0</td>\n",
       "    </tr>\n",
       "    <tr>\n",
       "      <th>45</th>\n",
       "      <td>46</td>\n",
       "      <td>15754849</td>\n",
       "      <td>Tyler</td>\n",
       "      <td>776</td>\n",
       "      <td>Germany</td>\n",
       "      <td>Female</td>\n",
       "      <td>32</td>\n",
       "      <td>4.0</td>\n",
       "      <td>109421.13</td>\n",
       "      <td>2</td>\n",
       "      <td>1</td>\n",
       "      <td>1</td>\n",
       "      <td>126517.46</td>\n",
       "      <td>0</td>\n",
       "    </tr>\n",
       "    <tr>\n",
       "      <th>46</th>\n",
       "      <td>47</td>\n",
       "      <td>15602280</td>\n",
       "      <td>Martin</td>\n",
       "      <td>829</td>\n",
       "      <td>Germany</td>\n",
       "      <td>Female</td>\n",
       "      <td>27</td>\n",
       "      <td>9.0</td>\n",
       "      <td>112045.67</td>\n",
       "      <td>1</td>\n",
       "      <td>1</td>\n",
       "      <td>1</td>\n",
       "      <td>119708.21</td>\n",
       "      <td>1</td>\n",
       "    </tr>\n",
       "    <tr>\n",
       "      <th>47</th>\n",
       "      <td>48</td>\n",
       "      <td>15771573</td>\n",
       "      <td>Okagbue</td>\n",
       "      <td>637</td>\n",
       "      <td>Germany</td>\n",
       "      <td>Female</td>\n",
       "      <td>39</td>\n",
       "      <td>9.0</td>\n",
       "      <td>137843.80</td>\n",
       "      <td>1</td>\n",
       "      <td>1</td>\n",
       "      <td>1</td>\n",
       "      <td>117622.80</td>\n",
       "      <td>1</td>\n",
       "    </tr>\n",
       "    <tr>\n",
       "      <th>48</th>\n",
       "      <td>49</td>\n",
       "      <td>15766205</td>\n",
       "      <td>Yin</td>\n",
       "      <td>550</td>\n",
       "      <td>Germany</td>\n",
       "      <td>Male</td>\n",
       "      <td>38</td>\n",
       "      <td>NaN</td>\n",
       "      <td>103391.38</td>\n",
       "      <td>1</td>\n",
       "      <td>0</td>\n",
       "      <td>1</td>\n",
       "      <td>90878.13</td>\n",
       "      <td>0</td>\n",
       "    </tr>\n",
       "    <tr>\n",
       "      <th>49</th>\n",
       "      <td>50</td>\n",
       "      <td>15771873</td>\n",
       "      <td>Buccho</td>\n",
       "      <td>776</td>\n",
       "      <td>Germany</td>\n",
       "      <td>Female</td>\n",
       "      <td>37</td>\n",
       "      <td>2.0</td>\n",
       "      <td>103769.22</td>\n",
       "      <td>2</td>\n",
       "      <td>1</td>\n",
       "      <td>0</td>\n",
       "      <td>194099.12</td>\n",
       "      <td>0</td>\n",
       "    </tr>\n",
       "  </tbody>\n",
       "</table>\n",
       "</div>"
      ],
      "text/plain": [
       "    RowNumber  CustomerId        Surname  CreditScore Geography  Gender  Age  \\\n",
       "0           1    15634602       Hargrave          619    France  Female   42   \n",
       "1           2    15647311           Hill          608     Spain  Female   41   \n",
       "2           3    15619304           Onio          502    France  Female   42   \n",
       "3           4    15701354           Boni          699    France  Female   39   \n",
       "4           5    15737888       Mitchell          850     Spain  Female   43   \n",
       "5           6    15574012            Chu          645     Spain    Male   44   \n",
       "6           7    15592531       Bartlett          822    France    Male   50   \n",
       "7           8    15656148         Obinna          376   Germany  Female   29   \n",
       "8           9    15792365             He          501    France    Male   44   \n",
       "9          10    15592389             H?          684    France    Male   27   \n",
       "10         11    15767821         Bearce          528    France    Male   31   \n",
       "11         12    15737173        Andrews          497     Spain    Male   24   \n",
       "12         13    15632264            Kay          476    France  Female   34   \n",
       "13         14    15691483           Chin          549    France  Female   25   \n",
       "14         15    15600882          Scott          635     Spain  Female   35   \n",
       "15         16    15643966        Goforth          616   Germany    Male   45   \n",
       "16         17    15737452          Romeo          653   Germany    Male   58   \n",
       "17         18    15788218      Henderson          549     Spain  Female   24   \n",
       "18         19    15661507        Muldrow          587     Spain    Male   45   \n",
       "19         20    15568982            Hao          726    France  Female   24   \n",
       "20         21    15577657       McDonald          732    France    Male   41   \n",
       "21         22    15597945       Dellucci          636     Spain  Female   32   \n",
       "22         23    15699309      Gerasimov          510     Spain  Female   38   \n",
       "23         24    15725737         Mosman          669    France    Male   46   \n",
       "24         25    15625047            Yen          846    France  Female   38   \n",
       "25         26    15738191        Maclean          577    France    Male   25   \n",
       "26         27    15736816          Young          756   Germany    Male   36   \n",
       "27         28    15700772        Nebechi          571    France    Male   44   \n",
       "28         29    15728693     McWilliams          574   Germany  Female   43   \n",
       "29         30    15656300       Lucciano          411    France    Male   29   \n",
       "30         31    15589475        Azikiwe          591     Spain  Female   39   \n",
       "31         32    15706552  Odinakachukwu          533    France    Male   36   \n",
       "32         33    15750181      Sanderson          553   Germany    Male   41   \n",
       "33         34    15659428        Maggard          520     Spain  Female   42   \n",
       "34         35    15732963       Clements          722     Spain  Female   29   \n",
       "35         36    15794171       Lombardo          475    France  Female   45   \n",
       "36         37    15788448         Watson          490     Spain    Male   31   \n",
       "37         38    15729599        Lorenzo          804     Spain    Male   33   \n",
       "38         39    15717426      Armstrong          850    France    Male   36   \n",
       "39         40    15585768        Cameron          582   Germany    Male   41   \n",
       "40         41    15619360          Hsiao          472     Spain    Male   40   \n",
       "41         42    15738148         Clarke          465    France  Female   51   \n",
       "42         43    15687946        Osborne          556    France  Female   61   \n",
       "43         44    15755196         Lavine          834    France  Female   49   \n",
       "44         45    15684171        Bianchi          660     Spain  Female   61   \n",
       "45         46    15754849          Tyler          776   Germany  Female   32   \n",
       "46         47    15602280         Martin          829   Germany  Female   27   \n",
       "47         48    15771573        Okagbue          637   Germany  Female   39   \n",
       "48         49    15766205            Yin          550   Germany    Male   38   \n",
       "49         50    15771873         Buccho          776   Germany  Female   37   \n",
       "\n",
       "    Tenure    Balance  NumOfProducts  HasCrCard  IsActiveMember  \\\n",
       "0      2.0       0.00              1          1               1   \n",
       "1      1.0   83807.86              1          0               1   \n",
       "2      8.0  159660.80              3          1               0   \n",
       "3      1.0       0.00              2          0               0   \n",
       "4      2.0  125510.82              1          1               1   \n",
       "5      8.0  113755.78              2          1               0   \n",
       "6      7.0       0.00              2          1               1   \n",
       "7      4.0  115046.74              4          1               0   \n",
       "8      4.0  142051.07              2          0               1   \n",
       "9      2.0  134603.88              1          1               1   \n",
       "10     6.0  102016.72              2          0               0   \n",
       "11     3.0       0.00              2          1               0   \n",
       "12    10.0       0.00              2          1               0   \n",
       "13     5.0       0.00              2          0               0   \n",
       "14     7.0       0.00              2          1               1   \n",
       "15     3.0  143129.41              2          0               1   \n",
       "16     1.0  132602.88              1          1               0   \n",
       "17     9.0       0.00              2          1               1   \n",
       "18     6.0       0.00              1          0               0   \n",
       "19     6.0       0.00              2          1               1   \n",
       "20     8.0       0.00              2          1               1   \n",
       "21     8.0       0.00              2          1               0   \n",
       "22     4.0       0.00              1          1               0   \n",
       "23     3.0       0.00              2          0               1   \n",
       "24     5.0       0.00              1          1               1   \n",
       "25     3.0       0.00              2          0               1   \n",
       "26     2.0  136815.64              1          1               1   \n",
       "27     9.0       0.00              2          0               0   \n",
       "28     3.0  141349.43              1          1               1   \n",
       "29     0.0   59697.17              2          1               1   \n",
       "30     NaN       0.00              3          1               0   \n",
       "31     7.0   85311.70              1          0               1   \n",
       "32     9.0  110112.54              2          0               0   \n",
       "33     6.0       0.00              2          1               1   \n",
       "34     9.0       0.00              2          1               1   \n",
       "35     0.0  134264.04              1          1               0   \n",
       "36     3.0  145260.23              1          0               1   \n",
       "37     7.0   76548.60              1          0               1   \n",
       "38     7.0       0.00              1          1               1   \n",
       "39     6.0   70349.48              2          0               1   \n",
       "40     4.0       0.00              1          1               0   \n",
       "41     8.0  122522.32              1          0               0   \n",
       "42     2.0  117419.35              1          1               1   \n",
       "43     2.0  131394.56              1          0               0   \n",
       "44     5.0  155931.11              1          1               1   \n",
       "45     4.0  109421.13              2          1               1   \n",
       "46     9.0  112045.67              1          1               1   \n",
       "47     9.0  137843.80              1          1               1   \n",
       "48     NaN  103391.38              1          0               1   \n",
       "49     2.0  103769.22              2          1               0   \n",
       "\n",
       "    EstimatedSalary  Exited  \n",
       "0         101348.88       1  \n",
       "1         112542.58       0  \n",
       "2         113931.57       1  \n",
       "3          93826.63       0  \n",
       "4          79084.10       0  \n",
       "5         149756.71       1  \n",
       "6          10062.80       0  \n",
       "7         119346.88       1  \n",
       "8          74940.50       0  \n",
       "9          71725.73       0  \n",
       "10         80181.12       0  \n",
       "11         76390.01       0  \n",
       "12         26260.98       0  \n",
       "13        190857.79       0  \n",
       "14         65951.65       0  \n",
       "15         64327.26       0  \n",
       "16          5097.67       1  \n",
       "17         14406.41       0  \n",
       "18        158684.81       0  \n",
       "19         54724.03       0  \n",
       "20        170886.17       0  \n",
       "21        138555.46       0  \n",
       "22        118913.53       1  \n",
       "23          8487.75       0  \n",
       "24        187616.16       0  \n",
       "25        124508.29       0  \n",
       "26        170041.95       0  \n",
       "27         38433.35       0  \n",
       "28        100187.43       0  \n",
       "29         53483.21       0  \n",
       "30        140469.38       1  \n",
       "31        156731.91       0  \n",
       "32         81898.81       0  \n",
       "33         34410.55       0  \n",
       "34        142033.07       0  \n",
       "35         27822.99       1  \n",
       "36        114066.77       0  \n",
       "37         98453.45       0  \n",
       "38         40812.90       0  \n",
       "39        178074.04       0  \n",
       "40         70154.22       0  \n",
       "41        181297.65       1  \n",
       "42         94153.83       0  \n",
       "43        194365.76       1  \n",
       "44        158338.39       0  \n",
       "45        126517.46       0  \n",
       "46        119708.21       1  \n",
       "47        117622.80       1  \n",
       "48         90878.13       0  \n",
       "49        194099.12       0  "
      ]
     },
     "execution_count": 5,
     "metadata": {},
     "output_type": "execute_result"
    }
   ],
   "source": [
    "data.head(50)"
   ]
  },
  {
   "cell_type": "markdown",
   "metadata": {},
   "source": [
    "Всё чистенько. Но пропуски надо заполнить. Логичным здесь будет заполнение средним значением по колонке.\n",
    "Можно, конечно, подставлять среднее по городам или по сегментам зарплат, или по полу. Но это менее 10%,\n",
    "так что в данном случае можно пренебречь. Проверим, что у нас там со средним."
   ]
  },
  {
   "cell_type": "code",
   "execution_count": 6,
   "metadata": {},
   "outputs": [
    {
     "data": {
      "text/plain": [
       "4.997690023099769"
      ]
     },
     "execution_count": 6,
     "metadata": {},
     "output_type": "execute_result"
    }
   ],
   "source": [
    "data['Tenure'].mean()"
   ]
  },
  {
   "cell_type": "markdown",
   "metadata": {},
   "source": [
    "Почти 5 лет клиент банка. Выглядит логичным, на работу моделей сильно повлиять не должно.\n",
    "Округлим до 5, чтобы данные были однородными, а то остальные-то все целые."
   ]
  },
  {
   "cell_type": "code",
   "execution_count": 7,
   "metadata": {},
   "outputs": [],
   "source": [
    "data['Tenure'] = data['Tenure'].fillna(5)"
   ]
  },
  {
   "cell_type": "code",
   "execution_count": 8,
   "metadata": {
    "scrolled": true
   },
   "outputs": [
    {
     "name": "stdout",
     "output_type": "stream",
     "text": [
      "<class 'pandas.core.frame.DataFrame'>\n",
      "RangeIndex: 10000 entries, 0 to 9999\n",
      "Data columns (total 14 columns):\n",
      " #   Column           Non-Null Count  Dtype  \n",
      "---  ------           --------------  -----  \n",
      " 0   RowNumber        10000 non-null  int64  \n",
      " 1   CustomerId       10000 non-null  int64  \n",
      " 2   Surname          10000 non-null  object \n",
      " 3   CreditScore      10000 non-null  int64  \n",
      " 4   Geography        10000 non-null  object \n",
      " 5   Gender           10000 non-null  object \n",
      " 6   Age              10000 non-null  int64  \n",
      " 7   Tenure           10000 non-null  float64\n",
      " 8   Balance          10000 non-null  float64\n",
      " 9   NumOfProducts    10000 non-null  int64  \n",
      " 10  HasCrCard        10000 non-null  int64  \n",
      " 11  IsActiveMember   10000 non-null  int64  \n",
      " 12  EstimatedSalary  10000 non-null  float64\n",
      " 13  Exited           10000 non-null  int64  \n",
      "dtypes: float64(3), int64(8), object(3)\n",
      "memory usage: 1.1+ MB\n"
     ]
    }
   ],
   "source": [
    "data.info()"
   ]
  },
  {
   "cell_type": "code",
   "execution_count": 9,
   "metadata": {},
   "outputs": [
    {
     "data": {
      "text/plain": [
       "4.9979"
      ]
     },
     "execution_count": 9,
     "metadata": {},
     "output_type": "execute_result"
    }
   ],
   "source": [
    "data['Tenure'].mean()"
   ]
  },
  {
   "cell_type": "markdown",
   "metadata": {},
   "source": [
    "И пропусков нет, и среднее почти не изменилось. Зато теперь можно работать с датасетом дальше."
   ]
  },
  {
   "cell_type": "markdown",
   "metadata": {},
   "source": [
    "У нас в датасете есть 3 колонки категориальные. А модели машинного обучения (в нашем случае) с таким работать не умеют. Поэтому переведём их в дамми признаки.\n",
    "\n",
    "А фамилии и номера строк вообще удалим, они нам для модели вообще не нужны!"
   ]
  },
  {
   "cell_type": "code",
   "execution_count": 10,
   "metadata": {},
   "outputs": [],
   "source": [
    "data = data.drop(columns = ['Surname'], axis=1)\n",
    "data = data.drop(columns = ['RowNumber'], axis=1)"
   ]
  },
  {
   "cell_type": "code",
   "execution_count": 11,
   "metadata": {
    "scrolled": true
   },
   "outputs": [],
   "source": [
    "data_ohe = pd.get_dummies(data, drop_first=True)"
   ]
  },
  {
   "cell_type": "code",
   "execution_count": 12,
   "metadata": {},
   "outputs": [
    {
     "data": {
      "text/html": [
       "<div>\n",
       "<style scoped>\n",
       "    .dataframe tbody tr th:only-of-type {\n",
       "        vertical-align: middle;\n",
       "    }\n",
       "\n",
       "    .dataframe tbody tr th {\n",
       "        vertical-align: top;\n",
       "    }\n",
       "\n",
       "    .dataframe thead th {\n",
       "        text-align: right;\n",
       "    }\n",
       "</style>\n",
       "<table border=\"1\" class=\"dataframe\">\n",
       "  <thead>\n",
       "    <tr style=\"text-align: right;\">\n",
       "      <th></th>\n",
       "      <th>CustomerId</th>\n",
       "      <th>CreditScore</th>\n",
       "      <th>Age</th>\n",
       "      <th>Tenure</th>\n",
       "      <th>Balance</th>\n",
       "      <th>NumOfProducts</th>\n",
       "      <th>HasCrCard</th>\n",
       "      <th>IsActiveMember</th>\n",
       "      <th>EstimatedSalary</th>\n",
       "      <th>Exited</th>\n",
       "      <th>Geography_Germany</th>\n",
       "      <th>Geography_Spain</th>\n",
       "      <th>Gender_Male</th>\n",
       "    </tr>\n",
       "  </thead>\n",
       "  <tbody>\n",
       "    <tr>\n",
       "      <th>0</th>\n",
       "      <td>15634602</td>\n",
       "      <td>619</td>\n",
       "      <td>42</td>\n",
       "      <td>2.0</td>\n",
       "      <td>0.00</td>\n",
       "      <td>1</td>\n",
       "      <td>1</td>\n",
       "      <td>1</td>\n",
       "      <td>101348.88</td>\n",
       "      <td>1</td>\n",
       "      <td>0</td>\n",
       "      <td>0</td>\n",
       "      <td>0</td>\n",
       "    </tr>\n",
       "    <tr>\n",
       "      <th>1</th>\n",
       "      <td>15647311</td>\n",
       "      <td>608</td>\n",
       "      <td>41</td>\n",
       "      <td>1.0</td>\n",
       "      <td>83807.86</td>\n",
       "      <td>1</td>\n",
       "      <td>0</td>\n",
       "      <td>1</td>\n",
       "      <td>112542.58</td>\n",
       "      <td>0</td>\n",
       "      <td>0</td>\n",
       "      <td>1</td>\n",
       "      <td>0</td>\n",
       "    </tr>\n",
       "    <tr>\n",
       "      <th>2</th>\n",
       "      <td>15619304</td>\n",
       "      <td>502</td>\n",
       "      <td>42</td>\n",
       "      <td>8.0</td>\n",
       "      <td>159660.80</td>\n",
       "      <td>3</td>\n",
       "      <td>1</td>\n",
       "      <td>0</td>\n",
       "      <td>113931.57</td>\n",
       "      <td>1</td>\n",
       "      <td>0</td>\n",
       "      <td>0</td>\n",
       "      <td>0</td>\n",
       "    </tr>\n",
       "    <tr>\n",
       "      <th>3</th>\n",
       "      <td>15701354</td>\n",
       "      <td>699</td>\n",
       "      <td>39</td>\n",
       "      <td>1.0</td>\n",
       "      <td>0.00</td>\n",
       "      <td>2</td>\n",
       "      <td>0</td>\n",
       "      <td>0</td>\n",
       "      <td>93826.63</td>\n",
       "      <td>0</td>\n",
       "      <td>0</td>\n",
       "      <td>0</td>\n",
       "      <td>0</td>\n",
       "    </tr>\n",
       "    <tr>\n",
       "      <th>4</th>\n",
       "      <td>15737888</td>\n",
       "      <td>850</td>\n",
       "      <td>43</td>\n",
       "      <td>2.0</td>\n",
       "      <td>125510.82</td>\n",
       "      <td>1</td>\n",
       "      <td>1</td>\n",
       "      <td>1</td>\n",
       "      <td>79084.10</td>\n",
       "      <td>0</td>\n",
       "      <td>0</td>\n",
       "      <td>1</td>\n",
       "      <td>0</td>\n",
       "    </tr>\n",
       "  </tbody>\n",
       "</table>\n",
       "</div>"
      ],
      "text/plain": [
       "   CustomerId  CreditScore  Age  Tenure    Balance  NumOfProducts  HasCrCard  \\\n",
       "0    15634602          619   42     2.0       0.00              1          1   \n",
       "1    15647311          608   41     1.0   83807.86              1          0   \n",
       "2    15619304          502   42     8.0  159660.80              3          1   \n",
       "3    15701354          699   39     1.0       0.00              2          0   \n",
       "4    15737888          850   43     2.0  125510.82              1          1   \n",
       "\n",
       "   IsActiveMember  EstimatedSalary  Exited  Geography_Germany  \\\n",
       "0               1        101348.88       1                  0   \n",
       "1               1        112542.58       0                  0   \n",
       "2               0        113931.57       1                  0   \n",
       "3               0         93826.63       0                  0   \n",
       "4               1         79084.10       0                  0   \n",
       "\n",
       "   Geography_Spain  Gender_Male  \n",
       "0                0            0  \n",
       "1                1            0  \n",
       "2                0            0  \n",
       "3                0            0  \n",
       "4                1            0  "
      ]
     },
     "execution_count": 12,
     "metadata": {},
     "output_type": "execute_result"
    }
   ],
   "source": [
    "data_ohe.head()"
   ]
  },
  {
   "cell_type": "markdown",
   "metadata": {},
   "source": [
    "Теперь мы получили довольно много колонок (привет, фамилии), зато теперь машинное обучение с этим справится. Давайте попробуем несколько методов и посмотрим, получится ли у нас предсказать результат."
   ]
  },
  {
   "cell_type": "markdown",
   "metadata": {},
   "source": [
    "P.S. Ах да, у нас ещё есть потрясающая колонка CustomerID, которая ничего особо не даёт, но алгоритмы на неё точно будут ориентироваться, ведь это число. Да, по нему можно вычислить, насколько давно с нами клиент, но у нас есть параметр Tenure. Так что, думаю, что от номера клиента точно можно избавиться без сожаления."
   ]
  },
  {
   "cell_type": "code",
   "execution_count": 13,
   "metadata": {},
   "outputs": [],
   "source": [
    "data_ohe = data_ohe.drop(columns = ['CustomerId'], axis=1)"
   ]
  },
  {
   "cell_type": "markdown",
   "metadata": {},
   "source": [
    "<div class=\"alert alert-info\"> <b>🎓 Комментарий студента:</b> Спасибо, интересное решение, но мне надо вчитаться и понять.</div>"
   ]
  },
  {
   "cell_type": "code",
   "execution_count": 14,
   "metadata": {
    "scrolled": true
   },
   "outputs": [
    {
     "data": {
      "text/html": [
       "<div>\n",
       "<style scoped>\n",
       "    .dataframe tbody tr th:only-of-type {\n",
       "        vertical-align: middle;\n",
       "    }\n",
       "\n",
       "    .dataframe tbody tr th {\n",
       "        vertical-align: top;\n",
       "    }\n",
       "\n",
       "    .dataframe thead th {\n",
       "        text-align: right;\n",
       "    }\n",
       "</style>\n",
       "<table border=\"1\" class=\"dataframe\">\n",
       "  <thead>\n",
       "    <tr style=\"text-align: right;\">\n",
       "      <th></th>\n",
       "      <th>CreditScore</th>\n",
       "      <th>Age</th>\n",
       "      <th>Tenure</th>\n",
       "      <th>Balance</th>\n",
       "      <th>NumOfProducts</th>\n",
       "      <th>HasCrCard</th>\n",
       "      <th>IsActiveMember</th>\n",
       "      <th>EstimatedSalary</th>\n",
       "      <th>Exited</th>\n",
       "      <th>Geography_Germany</th>\n",
       "      <th>Geography_Spain</th>\n",
       "      <th>Gender_Male</th>\n",
       "    </tr>\n",
       "  </thead>\n",
       "  <tbody>\n",
       "    <tr>\n",
       "      <th>0</th>\n",
       "      <td>619</td>\n",
       "      <td>42</td>\n",
       "      <td>2.0</td>\n",
       "      <td>0.00</td>\n",
       "      <td>1</td>\n",
       "      <td>1</td>\n",
       "      <td>1</td>\n",
       "      <td>101348.88</td>\n",
       "      <td>1</td>\n",
       "      <td>0</td>\n",
       "      <td>0</td>\n",
       "      <td>0</td>\n",
       "    </tr>\n",
       "    <tr>\n",
       "      <th>1</th>\n",
       "      <td>608</td>\n",
       "      <td>41</td>\n",
       "      <td>1.0</td>\n",
       "      <td>83807.86</td>\n",
       "      <td>1</td>\n",
       "      <td>0</td>\n",
       "      <td>1</td>\n",
       "      <td>112542.58</td>\n",
       "      <td>0</td>\n",
       "      <td>0</td>\n",
       "      <td>1</td>\n",
       "      <td>0</td>\n",
       "    </tr>\n",
       "    <tr>\n",
       "      <th>2</th>\n",
       "      <td>502</td>\n",
       "      <td>42</td>\n",
       "      <td>8.0</td>\n",
       "      <td>159660.80</td>\n",
       "      <td>3</td>\n",
       "      <td>1</td>\n",
       "      <td>0</td>\n",
       "      <td>113931.57</td>\n",
       "      <td>1</td>\n",
       "      <td>0</td>\n",
       "      <td>0</td>\n",
       "      <td>0</td>\n",
       "    </tr>\n",
       "    <tr>\n",
       "      <th>3</th>\n",
       "      <td>699</td>\n",
       "      <td>39</td>\n",
       "      <td>1.0</td>\n",
       "      <td>0.00</td>\n",
       "      <td>2</td>\n",
       "      <td>0</td>\n",
       "      <td>0</td>\n",
       "      <td>93826.63</td>\n",
       "      <td>0</td>\n",
       "      <td>0</td>\n",
       "      <td>0</td>\n",
       "      <td>0</td>\n",
       "    </tr>\n",
       "    <tr>\n",
       "      <th>4</th>\n",
       "      <td>850</td>\n",
       "      <td>43</td>\n",
       "      <td>2.0</td>\n",
       "      <td>125510.82</td>\n",
       "      <td>1</td>\n",
       "      <td>1</td>\n",
       "      <td>1</td>\n",
       "      <td>79084.10</td>\n",
       "      <td>0</td>\n",
       "      <td>0</td>\n",
       "      <td>1</td>\n",
       "      <td>0</td>\n",
       "    </tr>\n",
       "  </tbody>\n",
       "</table>\n",
       "</div>"
      ],
      "text/plain": [
       "   CreditScore  Age  Tenure    Balance  NumOfProducts  HasCrCard  \\\n",
       "0          619   42     2.0       0.00              1          1   \n",
       "1          608   41     1.0   83807.86              1          0   \n",
       "2          502   42     8.0  159660.80              3          1   \n",
       "3          699   39     1.0       0.00              2          0   \n",
       "4          850   43     2.0  125510.82              1          1   \n",
       "\n",
       "   IsActiveMember  EstimatedSalary  Exited  Geography_Germany  \\\n",
       "0               1        101348.88       1                  0   \n",
       "1               1        112542.58       0                  0   \n",
       "2               0        113931.57       1                  0   \n",
       "3               0         93826.63       0                  0   \n",
       "4               1         79084.10       0                  0   \n",
       "\n",
       "   Geography_Spain  Gender_Male  \n",
       "0                0            0  \n",
       "1                1            0  \n",
       "2                0            0  \n",
       "3                0            0  \n",
       "4                1            0  "
      ]
     },
     "execution_count": 14,
     "metadata": {},
     "output_type": "execute_result"
    }
   ],
   "source": [
    "data_ohe.head()"
   ]
  },
  {
   "cell_type": "markdown",
   "metadata": {},
   "source": [
    "Вот теперь всё должно быть хорошо. Кроме дисбаланса, но его мы проверим чуть позже и придумаем, как с ним быть."
   ]
  },
  {
   "cell_type": "markdown",
   "metadata": {},
   "source": [
    "## Исследование задачи"
   ]
  },
  {
   "cell_type": "markdown",
   "metadata": {},
   "source": [
    "Что ж, мы получили чистенький датасет, попробуем загнать его в модель решающего дерева и посмотреть, вдруг уже всё хорошо и ничего делать не нужно. Для этого разобьём датасет на обучающую и валидационную выборки. Целевой признак у нас — это Exited, ушёл клиент из банка или нет (1 - ушёл, 0 - не ушел)"
   ]
  },
  {
   "cell_type": "code",
   "execution_count": 15,
   "metadata": {},
   "outputs": [],
   "source": [
    "#разбиваем датасет на выборку и целевой признак\n",
    "target = data_ohe['Exited']\n",
    "features = data_ohe.drop(['Exited'] , axis=1)\n",
    "\n",
    "#разбиваем выборку и целевой признак на две части 75/25\n",
    "features_train, features_valid, target_train, target_valid = train_test_split(\n",
    "    features, target, test_size=0.2, random_state=12345)\n",
    "\n",
    "features_train, features_test, target_train, target_test = train_test_split(\n",
    "    features_train, target_train, test_size=0.25, random_state=12345)"
   ]
  },
  {
   "cell_type": "code",
   "execution_count": 16,
   "metadata": {
    "scrolled": true
   },
   "outputs": [
    {
     "name": "stdout",
     "output_type": "stream",
     "text": [
      "Размер train: 6000\n",
      "Размер valid: 2000\n",
      "Размер test: 2000\n"
     ]
    }
   ],
   "source": [
    "print('Размер train:',features_train.shape[0])\n",
    "print('Размер valid:',features_valid.shape[0])\n",
    "print('Размер test:',features_test.shape[0])"
   ]
  },
  {
   "cell_type": "markdown",
   "metadata": {},
   "source": [
    "Разбили выборки на 60,20 и 20%."
   ]
  },
  {
   "cell_type": "markdown",
   "metadata": {},
   "source": [
    "Т.к. у признаков разный масштаб, а именно, у нас есть возраст и зарплата, например. У них разные порядки. Чтобы привести всё к единому виду, сделаем масштабирование признаков."
   ]
  },
  {
   "cell_type": "code",
   "execution_count": 17,
   "metadata": {},
   "outputs": [
    {
     "data": {
      "text/html": [
       "<div>\n",
       "<style scoped>\n",
       "    .dataframe tbody tr th:only-of-type {\n",
       "        vertical-align: middle;\n",
       "    }\n",
       "\n",
       "    .dataframe tbody tr th {\n",
       "        vertical-align: top;\n",
       "    }\n",
       "\n",
       "    .dataframe thead th {\n",
       "        text-align: right;\n",
       "    }\n",
       "</style>\n",
       "<table border=\"1\" class=\"dataframe\">\n",
       "  <thead>\n",
       "    <tr style=\"text-align: right;\">\n",
       "      <th></th>\n",
       "      <th>CreditScore</th>\n",
       "      <th>Age</th>\n",
       "      <th>Tenure</th>\n",
       "      <th>Balance</th>\n",
       "      <th>NumOfProducts</th>\n",
       "      <th>HasCrCard</th>\n",
       "      <th>IsActiveMember</th>\n",
       "      <th>EstimatedSalary</th>\n",
       "      <th>Exited</th>\n",
       "      <th>Geography_Germany</th>\n",
       "      <th>Geography_Spain</th>\n",
       "      <th>Gender_Male</th>\n",
       "    </tr>\n",
       "  </thead>\n",
       "  <tbody>\n",
       "    <tr>\n",
       "      <th>0</th>\n",
       "      <td>619</td>\n",
       "      <td>42</td>\n",
       "      <td>2.0</td>\n",
       "      <td>0.00</td>\n",
       "      <td>1</td>\n",
       "      <td>1</td>\n",
       "      <td>1</td>\n",
       "      <td>101348.88</td>\n",
       "      <td>1</td>\n",
       "      <td>0</td>\n",
       "      <td>0</td>\n",
       "      <td>0</td>\n",
       "    </tr>\n",
       "    <tr>\n",
       "      <th>1</th>\n",
       "      <td>608</td>\n",
       "      <td>41</td>\n",
       "      <td>1.0</td>\n",
       "      <td>83807.86</td>\n",
       "      <td>1</td>\n",
       "      <td>0</td>\n",
       "      <td>1</td>\n",
       "      <td>112542.58</td>\n",
       "      <td>0</td>\n",
       "      <td>0</td>\n",
       "      <td>1</td>\n",
       "      <td>0</td>\n",
       "    </tr>\n",
       "    <tr>\n",
       "      <th>2</th>\n",
       "      <td>502</td>\n",
       "      <td>42</td>\n",
       "      <td>8.0</td>\n",
       "      <td>159660.80</td>\n",
       "      <td>3</td>\n",
       "      <td>1</td>\n",
       "      <td>0</td>\n",
       "      <td>113931.57</td>\n",
       "      <td>1</td>\n",
       "      <td>0</td>\n",
       "      <td>0</td>\n",
       "      <td>0</td>\n",
       "    </tr>\n",
       "    <tr>\n",
       "      <th>3</th>\n",
       "      <td>699</td>\n",
       "      <td>39</td>\n",
       "      <td>1.0</td>\n",
       "      <td>0.00</td>\n",
       "      <td>2</td>\n",
       "      <td>0</td>\n",
       "      <td>0</td>\n",
       "      <td>93826.63</td>\n",
       "      <td>0</td>\n",
       "      <td>0</td>\n",
       "      <td>0</td>\n",
       "      <td>0</td>\n",
       "    </tr>\n",
       "    <tr>\n",
       "      <th>4</th>\n",
       "      <td>850</td>\n",
       "      <td>43</td>\n",
       "      <td>2.0</td>\n",
       "      <td>125510.82</td>\n",
       "      <td>1</td>\n",
       "      <td>1</td>\n",
       "      <td>1</td>\n",
       "      <td>79084.10</td>\n",
       "      <td>0</td>\n",
       "      <td>0</td>\n",
       "      <td>1</td>\n",
       "      <td>0</td>\n",
       "    </tr>\n",
       "  </tbody>\n",
       "</table>\n",
       "</div>"
      ],
      "text/plain": [
       "   CreditScore  Age  Tenure    Balance  NumOfProducts  HasCrCard  \\\n",
       "0          619   42     2.0       0.00              1          1   \n",
       "1          608   41     1.0   83807.86              1          0   \n",
       "2          502   42     8.0  159660.80              3          1   \n",
       "3          699   39     1.0       0.00              2          0   \n",
       "4          850   43     2.0  125510.82              1          1   \n",
       "\n",
       "   IsActiveMember  EstimatedSalary  Exited  Geography_Germany  \\\n",
       "0               1        101348.88       1                  0   \n",
       "1               1        112542.58       0                  0   \n",
       "2               0        113931.57       1                  0   \n",
       "3               0         93826.63       0                  0   \n",
       "4               1         79084.10       0                  0   \n",
       "\n",
       "   Geography_Spain  Gender_Male  \n",
       "0                0            0  \n",
       "1                1            0  \n",
       "2                0            0  \n",
       "3                0            0  \n",
       "4                1            0  "
      ]
     },
     "execution_count": 17,
     "metadata": {},
     "output_type": "execute_result"
    }
   ],
   "source": [
    "data_ohe.head(5)"
   ]
  },
  {
   "cell_type": "code",
   "execution_count": 18,
   "metadata": {},
   "outputs": [],
   "source": [
    "numeric = ['CreditScore', 'Age', 'Tenure', 'Balance', 'EstimatedSalary']"
   ]
  },
  {
   "cell_type": "code",
   "execution_count": 19,
   "metadata": {},
   "outputs": [
    {
     "data": {
      "text/plain": [
       "StandardScaler()"
      ]
     },
     "execution_count": 19,
     "metadata": {},
     "output_type": "execute_result"
    }
   ],
   "source": [
    "scaler = StandardScaler()\n",
    "scaler.fit(features_train[numeric])"
   ]
  },
  {
   "cell_type": "code",
   "execution_count": 20,
   "metadata": {},
   "outputs": [],
   "source": [
    "pd.options.mode.chained_assignment = None\n",
    "\n",
    "features_train[numeric] = scaler.transform(features_train[numeric])\n",
    "features_valid[numeric] = scaler.transform(features_valid[numeric])\n",
    "features_test[numeric] = scaler.transform(features_test[numeric])"
   ]
  },
  {
   "cell_type": "code",
   "execution_count": 21,
   "metadata": {
    "scrolled": true
   },
   "outputs": [
    {
     "data": {
      "text/html": [
       "<div>\n",
       "<style scoped>\n",
       "    .dataframe tbody tr th:only-of-type {\n",
       "        vertical-align: middle;\n",
       "    }\n",
       "\n",
       "    .dataframe tbody tr th {\n",
       "        vertical-align: top;\n",
       "    }\n",
       "\n",
       "    .dataframe thead th {\n",
       "        text-align: right;\n",
       "    }\n",
       "</style>\n",
       "<table border=\"1\" class=\"dataframe\">\n",
       "  <thead>\n",
       "    <tr style=\"text-align: right;\">\n",
       "      <th></th>\n",
       "      <th>CreditScore</th>\n",
       "      <th>Age</th>\n",
       "      <th>Tenure</th>\n",
       "      <th>Balance</th>\n",
       "      <th>NumOfProducts</th>\n",
       "      <th>HasCrCard</th>\n",
       "      <th>IsActiveMember</th>\n",
       "      <th>EstimatedSalary</th>\n",
       "      <th>Geography_Germany</th>\n",
       "      <th>Geography_Spain</th>\n",
       "      <th>Gender_Male</th>\n",
       "    </tr>\n",
       "  </thead>\n",
       "  <tbody>\n",
       "    <tr>\n",
       "      <th>492</th>\n",
       "      <td>-0.134048</td>\n",
       "      <td>-0.078068</td>\n",
       "      <td>-0.369113</td>\n",
       "      <td>0.076163</td>\n",
       "      <td>2</td>\n",
       "      <td>0</td>\n",
       "      <td>1</td>\n",
       "      <td>0.331571</td>\n",
       "      <td>0</td>\n",
       "      <td>0</td>\n",
       "      <td>0</td>\n",
       "    </tr>\n",
       "    <tr>\n",
       "      <th>6655</th>\n",
       "      <td>-1.010798</td>\n",
       "      <td>0.494555</td>\n",
       "      <td>-0.007415</td>\n",
       "      <td>0.136391</td>\n",
       "      <td>1</td>\n",
       "      <td>1</td>\n",
       "      <td>1</td>\n",
       "      <td>-0.727858</td>\n",
       "      <td>0</td>\n",
       "      <td>0</td>\n",
       "      <td>1</td>\n",
       "    </tr>\n",
       "    <tr>\n",
       "      <th>4287</th>\n",
       "      <td>0.639554</td>\n",
       "      <td>1.353490</td>\n",
       "      <td>-1.454209</td>\n",
       "      <td>0.358435</td>\n",
       "      <td>1</td>\n",
       "      <td>1</td>\n",
       "      <td>1</td>\n",
       "      <td>-0.477006</td>\n",
       "      <td>1</td>\n",
       "      <td>0</td>\n",
       "      <td>1</td>\n",
       "    </tr>\n",
       "    <tr>\n",
       "      <th>42</th>\n",
       "      <td>-0.990168</td>\n",
       "      <td>2.116987</td>\n",
       "      <td>-1.092511</td>\n",
       "      <td>0.651725</td>\n",
       "      <td>1</td>\n",
       "      <td>1</td>\n",
       "      <td>1</td>\n",
       "      <td>-0.100232</td>\n",
       "      <td>0</td>\n",
       "      <td>0</td>\n",
       "      <td>0</td>\n",
       "    </tr>\n",
       "    <tr>\n",
       "      <th>8178</th>\n",
       "      <td>0.567351</td>\n",
       "      <td>0.685430</td>\n",
       "      <td>0.715982</td>\n",
       "      <td>0.813110</td>\n",
       "      <td>2</td>\n",
       "      <td>1</td>\n",
       "      <td>1</td>\n",
       "      <td>0.801922</td>\n",
       "      <td>0</td>\n",
       "      <td>0</td>\n",
       "      <td>0</td>\n",
       "    </tr>\n",
       "  </tbody>\n",
       "</table>\n",
       "</div>"
      ],
      "text/plain": [
       "      CreditScore       Age    Tenure   Balance  NumOfProducts  HasCrCard  \\\n",
       "492     -0.134048 -0.078068 -0.369113  0.076163              2          0   \n",
       "6655    -1.010798  0.494555 -0.007415  0.136391              1          1   \n",
       "4287     0.639554  1.353490 -1.454209  0.358435              1          1   \n",
       "42      -0.990168  2.116987 -1.092511  0.651725              1          1   \n",
       "8178     0.567351  0.685430  0.715982  0.813110              2          1   \n",
       "\n",
       "      IsActiveMember  EstimatedSalary  Geography_Germany  Geography_Spain  \\\n",
       "492                1         0.331571                  0                0   \n",
       "6655               1        -0.727858                  0                0   \n",
       "4287               1        -0.477006                  1                0   \n",
       "42                 1        -0.100232                  0                0   \n",
       "8178               1         0.801922                  0                0   \n",
       "\n",
       "      Gender_Male  \n",
       "492             0  \n",
       "6655            1  \n",
       "4287            1  \n",
       "42              0  \n",
       "8178            0  "
      ]
     },
     "execution_count": 21,
     "metadata": {},
     "output_type": "execute_result"
    }
   ],
   "source": [
    "features_train.head(5)"
   ]
  },
  {
   "cell_type": "markdown",
   "metadata": {},
   "source": [
    "Конечно, возраст не может быть отрицательным, как и количество лет в банке и зарплата. Но теперь все наши признаки отмасштабированы и они будут корректно влиять на модель."
   ]
  },
  {
   "cell_type": "code",
   "execution_count": 22,
   "metadata": {},
   "outputs": [
    {
     "name": "stdout",
     "output_type": "stream",
     "text": [
      "Модель логистической регрессии обучена!\n"
     ]
    }
   ],
   "source": [
    "#Начнём с логистической регресси\n",
    "try:\n",
    "    model_LR = LogisticRegression(random_state=12345, solver='liblinear')\n",
    "    model_LR.fit(features_train, target_train)\n",
    "    print('Модель логистической регрессии обучена!')\n",
    "except:\n",
    "    print('Модель не обучена, ищи ошибки!')"
   ]
  },
  {
   "cell_type": "code",
   "execution_count": 23,
   "metadata": {},
   "outputs": [
    {
     "name": "stdout",
     "output_type": "stream",
     "text": [
      "F1:  0.3012259194395797\n"
     ]
    }
   ],
   "source": [
    "#Проверим, как модель предсказывает результаты\n",
    "predicted_valid_LR = model_LR.predict(features_valid)\n",
    "\n",
    "# print(\"R2 на предсказаниях: \", r2_score(target_valid, predicted_valid_LR))\n",
    "# print(\"R2 на обучающей выборке: \", model_LR.score(features_train, target_train))\n",
    "# print(\"R2 на валидационной выборке: \", model_LR.score(features_valid, target_valid))\n",
    "\n",
    "print(\"F1: \", f1_score(target_valid, predicted_valid_LR))"
   ]
  },
  {
   "cell_type": "markdown",
   "metadata": {},
   "source": [
    " ~~Метрика R2 отрицательная, хоть и около 0, но это всё равно говорит об очень низком качестве модели. А вот на обучающей и валидационной выборке всё ок. Попробуем модель решающего дерева и случайного леса. ~~"
   ]
  },
  {
   "cell_type": "markdown",
   "metadata": {},
   "source": [
    "Метрика F1 низкая. Значит, эта модель нам не подойдёт. Попробуем дерево."
   ]
  },
  {
   "cell_type": "code",
   "execution_count": 24,
   "metadata": {},
   "outputs": [
    {
     "name": "stdout",
     "output_type": "stream",
     "text": [
      "Модель обучающего дерева обучена!\n"
     ]
    }
   ],
   "source": [
    "try:\n",
    "    model_DTC = DecisionTreeClassifier(random_state=12345)\n",
    "    model_DTC.fit(features_train, target_train)\n",
    "    print('Модель обучающего дерева обучена!')\n",
    "except:\n",
    "    print('Модель не обучена, ищи ошибки!')"
   ]
  },
  {
   "cell_type": "code",
   "execution_count": 25,
   "metadata": {},
   "outputs": [
    {
     "name": "stdout",
     "output_type": "stream",
     "text": [
      "F1:  0.5159763313609468\n"
     ]
    }
   ],
   "source": [
    "#Проверим, как модель предсказывает результаты\n",
    "predicted_valid_DTC = model_DTC.predict(features_valid)\n",
    "\n",
    "# print(\"R2 на предсказаниях: \", r2_score(predicted_valid_DTC, target_valid))\n",
    "# print(\"R2 на обучающей выборке: \", model_DTC.score(features_train, target_train))\n",
    "# print(\"R2 на валидационной выборке: \", model_DTC.score(features_valid, target_valid))\n",
    "\n",
    "print(\"F1: \", f1_score(target_valid, predicted_valid_DTC))"
   ]
  },
  {
   "cell_type": "markdown",
   "metadata": {},
   "source": [
    "А вот тут F1 уже неплохая, больше 0.5, при целевом 0.59 это очень неплохое значение."
   ]
  },
  {
   "cell_type": "markdown",
   "metadata": {},
   "source": [
    " ~~Лучше, но всё равно отрицательное значение, что очень плохо. Попробуем случайный лес, причём сразу с перебором параметров. ~~"
   ]
  },
  {
   "cell_type": "code",
   "execution_count": 26,
   "metadata": {},
   "outputs": [],
   "source": [
    "# model_RFR = RandomForestRegressor(random_state=12345, n_estimators=2, max_depth=5)\n",
    "# model_RFR.fit(features_train, target_train)\n",
    "# predicted_valid_RFR = model_RFR.predict(features_valid)\n",
    "\n",
    "    \n",
    "# print(\"F1: \", f1_score(target_valid, predicted_valid_RFR))"
   ]
  },
  {
   "cell_type": "code",
   "execution_count": 43,
   "metadata": {
    "scrolled": true
   },
   "outputs": [
    {
     "name": "stdout",
     "output_type": "stream",
     "text": [
      "0.10222222222222221\n",
      "0.19583333333333333\n",
      "0.327683615819209\n",
      "0.4332755632582322\n",
      "0.5153970826580228\n",
      "0.5337620578778134\n",
      "0.5374999999999999\n",
      "0.553323029366306\n",
      "0.5619335347432024\n",
      "0.5627836611195159\n",
      "0.5658682634730539\n",
      "0.5756676557863502\n",
      "0.5773195876288659\n",
      "0.5794117647058823\n",
      "Модель случайного леса\n",
      "Лучшая глубина:  18\n",
      "Лучшее кол-во:  90\n",
      "F1:  0.5794117647058823\n",
      "CPU times: user 43.1 s, sys: 294 ms, total: 43.4 s\n",
      "Wall time: 43.4 s\n"
     ]
    }
   ],
   "source": [
    "%%time\n",
    "best_depth = 0\n",
    "best_est = 0\n",
    "#best_r2 = -1\n",
    "best_f1 = 0\n",
    "\n",
    "for depth in range(1,20,1):\n",
    "    for est in range(20,100,10):\n",
    "        model_RFC = RandomForestClassifier(random_state=12345, n_estimators=est, max_depth=depth)\n",
    "        model_RFC.fit(features_train, target_train)\n",
    "        predicted_valid_RFC = model_RFC.predict(features_valid)\n",
    "       \n",
    "#if f1_score(target_valid,predicted_valid_RFC) > best_f1 :\n",
    "#         #best_r2 = r2_score(predicted_valid_RFR, target_valid)\n",
    "#         best_f1 = f1_score(target_valid,predicted_valid_RFC)\n",
    "#         best_depth = depth\n",
    "#         best_est = est\n",
    "#         model_RFC = RandomForestClassifier(random_state=12345, n_estimators=best_est, max_depth=best_depth)\n",
    "#         model_RFC.fit(features_train, target_train)\n",
    "#         predicted_valid_RFC = model_RFC.predict(features_valid)\n",
    "        \n",
    "    if f1_score(target_valid,predicted_valid_RFC) > best_f1 :\n",
    "        best_f1 = f1_score(target_valid,predicted_valid_RFC)\n",
    "        best_depth = depth\n",
    "        best_est = est\n",
    "        best_model = model_RFC\n",
    "        best_predict_val = predicted_valid_RFC\n",
    "        print(best_f1)\n",
    "\n",
    "print('Модель случайного леса')\n",
    "print('Лучшая глубина: ', best_depth)\n",
    "print('Лучшее кол-во: ', best_est)\n",
    "# print('R2 на предсказаниях: ', best_r2)\n",
    "# print(\"R2 на обучающей выборке: \", model_RFR.score(features_train, target_train))\n",
    "# print(\"R2 на валидационной выборке: \", model_RFR.score(features_valid, target_valid))\n",
    "print('F1: ', best_f1)"
   ]
  },
  {
   "cell_type": "code",
   "execution_count": 44,
   "metadata": {},
   "outputs": [
    {
     "data": {
      "text/plain": [
       "0.5794117647058823"
      ]
     },
     "execution_count": 44,
     "metadata": {},
     "output_type": "execute_result"
    }
   ],
   "source": [
    "f1_score(target_valid,best_predict_val)"
   ]
  },
  {
   "cell_type": "markdown",
   "metadata": {},
   "source": [
    "Получили 0.57, что уже очень и очень неплохо. Дальше, значит, надо работать со случайным лесом на глубине 17 и 80 деревьями."
   ]
  },
  {
   "cell_type": "markdown",
   "metadata": {},
   "source": [
    "~~Выше я закомментировал код, т.к. он долго выполняется. Чтобы вы не тратили время на проверку, вот результаты, которые у меня получились.~~"
   ]
  },
  {
   "cell_type": "markdown",
   "metadata": {},
   "source": [
    "~~\n",
    "Модель случайного леса\n",
    "Лучшая глубина:  9\n",
    "Лучшее кол-во:  60\n",
    "R2 на предсказаниях:  -0.7142392066291492\n",
    "R2 на обучающей выборке:  0.5304141028148517\n",
    "R2 на валидационной выборке:  0.37344763273842085\n",
    "CPU times: user 2min 34s, sys: 2.48 s, total: 2min 37s\n",
    "Wall time: 2min 37s \\\n",
    "~~"
   ]
  },
  {
   "cell_type": "markdown",
   "metadata": {},
   "source": [
    "~~Результаты неутешительные. Самые хорошие результаты получились у модели решающего дерева и логистической регрессии. Проверим, что у них с F1-мерой, выберем лучший и пойдём дальше.~~"
   ]
  },
  {
   "cell_type": "code",
   "execution_count": 28,
   "metadata": {},
   "outputs": [
    {
     "name": "stdout",
     "output_type": "stream",
     "text": [
      "Дерево\n",
      "Матрица ошибок\n",
      "[[1373  200]\n",
      " [ 209  218]]\n",
      "Полнота:  0.5105386416861827\n",
      "Точность:  0.5215311004784688\n",
      "F1-мера:  0.5159763313609468\n",
      "\n",
      "Логистическая регрессия\n",
      "Матрица ошибок:\n",
      "[[1515   58]\n",
      " [ 341   86]]\n",
      "Полнота:  0.20140515222482436\n",
      "Точность:  0.5972222222222222\n",
      "F1-мера:  0.3012259194395797\n",
      "\n",
      "Случайный лес\n",
      "Матрица ошибок:\n",
      "[[1518   55]\n",
      " [ 235  192]]\n",
      "Полнота:  0.4496487119437939\n",
      "Точность:  0.7773279352226721\n",
      "F1-мера:  0.56973293768546\n"
     ]
    }
   ],
   "source": [
    "print('Дерево')\n",
    "print('Матрица ошибок')\n",
    "print(confusion_matrix(target_valid, predicted_valid_DTC))\n",
    "print('Полнота: ', recall_score(target_valid, predicted_valid_DTC))\n",
    "print('Точность: ', precision_score(target_valid, predicted_valid_DTC))\n",
    "print('F1-мера: ', f1_score(target_valid, predicted_valid_DTC))\n",
    "print('')\n",
    "\n",
    "print('Логистическая регрессия')\n",
    "print('Матрица ошибок:')\n",
    "print(confusion_matrix(target_valid, predicted_valid_LR))\n",
    "print('Полнота: ', recall_score(target_valid, predicted_valid_LR))\n",
    "print('Точность: ', precision_score(target_valid, predicted_valid_LR))\n",
    "print('F1-мера: ', f1_score(target_valid, predicted_valid_LR))\n",
    "print('')\n",
    "\n",
    "#добавил лес\n",
    "print('Случайный лес')\n",
    "print('Матрица ошибок:')\n",
    "print(confusion_matrix(target_valid, predicted_valid_RFC))\n",
    "print('Полнота: ', recall_score(target_valid, predicted_valid_RFC))\n",
    "print('Точность: ', precision_score(target_valid, predicted_valid_RFC))\n",
    "print('F1-мера: ', f1_score(target_valid, predicted_valid_RFC))"
   ]
  },
  {
   "cell_type": "markdown",
   "metadata": {},
   "source": [
    "Модель леса устраивает нас больше всех. Тут и полнота с точностью приняли хорошие значения значения, и F1-мера, метрика качества классификации, гораздо ближе к требуемому значению в 0.59. С этим можно поработать."
   ]
  },
  {
   "cell_type": "markdown",
   "metadata": {},
   "source": [
    "## Борьба с дисбалансом"
   ]
  },
  {
   "cell_type": "markdown",
   "metadata": {},
   "source": [
    "К сожалению, у нас несбалансированы значения в датасете. Мы это выяснили ещё на старте, но по заданию с дисбалансом нужно разбираться только здесь. Для начала давайте попробуем взвесить классы в модели логистической регрессии."
   ]
  },
  {
   "cell_type": "code",
   "execution_count": 29,
   "metadata": {},
   "outputs": [
    {
     "name": "stdout",
     "output_type": "stream",
     "text": [
      "Модель логистической регрессии с балансом обучена!\n"
     ]
    }
   ],
   "source": [
    "#Логистическая регрессия с балансом\n",
    "try:\n",
    "    model_LR_b = LogisticRegression(class_weight='balanced', random_state = 12345, solver='liblinear')\n",
    "    model_LR_b.fit(features_train, target_train)\n",
    "    predicted_valid_LR_b = model_LR_b.predict(features_valid)\n",
    "    print('Модель логистической регрессии с балансом обучена!')\n",
    "except:\n",
    "    print('Модель не обучена, ищи ошибки!')"
   ]
  },
  {
   "cell_type": "code",
   "execution_count": 30,
   "metadata": {},
   "outputs": [
    {
     "name": "stdout",
     "output_type": "stream",
     "text": [
      "Модель обучающего дерева c балансом обучена!\n"
     ]
    }
   ],
   "source": [
    "#и то же самое с деревом\n",
    "try:\n",
    "    model_DTC_b = DecisionTreeClassifier(class_weight='balanced', random_state=12345)\n",
    "    model_DTC_b.fit(features_train, target_train)\n",
    "    predicted_valid_DTC_b = model_DTC_b.predict(features_valid)\n",
    "    print('Модель обучающего дерева c балансом обучена!')\n",
    "except:\n",
    "    print('Модель не обучена, ищи ошибки!')"
   ]
  },
  {
   "cell_type": "code",
   "execution_count": 31,
   "metadata": {},
   "outputs": [
    {
     "name": "stdout",
     "output_type": "stream",
     "text": [
      "Модель случайного леса с балансом обучена!\n"
     ]
    }
   ],
   "source": [
    "#ну и лес тоже теперь\n",
    "try:\n",
    "    model_RFC_b = RandomForestClassifier(random_state=12345, n_estimators=50, max_depth=18, class_weight='balanced')\n",
    "    model_RFC_b.fit(features_train, target_train)\n",
    "    predicted_valid_RFC_b = model_RFC_b.predict(features_valid)\n",
    "    print('Модель случайного леса с балансом обучена!')\n",
    "except:\n",
    "    print('Модель не обучена!')"
   ]
  },
  {
   "cell_type": "code",
   "execution_count": 32,
   "metadata": {
    "scrolled": true
   },
   "outputs": [
    {
     "name": "stdout",
     "output_type": "stream",
     "text": [
      "Дерево с весами\n",
      "Матрица ошибок\n",
      "[[1385  188]\n",
      " [ 217  210]]\n",
      "Полнота:  0.4918032786885246\n",
      "Точность:  0.5276381909547738\n",
      "F1-мера:  0.509090909090909\n",
      "\n",
      "Логистическая регрессия с весами\n",
      "Матрица ошибок:\n",
      "[[1107  466]\n",
      " [ 127  300]]\n",
      "Полнота:  0.702576112412178\n",
      "Точность:  0.391644908616188\n",
      "F1-мера:  0.5029337803855826\n",
      "\n",
      "Случайный лес\n",
      "Матрица ошибок:\n",
      "[[1519   54]\n",
      " [ 241  186]]\n",
      "Полнота:  0.43559718969555034\n",
      "Точность:  0.775\n",
      "F1-мера:  0.5577211394302849\n"
     ]
    }
   ],
   "source": [
    "print('Дерево с весами')\n",
    "print('Матрица ошибок')\n",
    "print(confusion_matrix(target_valid, predicted_valid_DTC_b))\n",
    "print('Полнота: ', recall_score(target_valid, predicted_valid_DTC_b))\n",
    "print('Точность: ', precision_score(target_valid, predicted_valid_DTC_b))\n",
    "print('F1-мера: ', f1_score(target_valid, predicted_valid_DTC_b))\n",
    "print('')\n",
    "\n",
    "print('Логистическая регрессия с весами')\n",
    "print('Матрица ошибок:')\n",
    "print(confusion_matrix(target_valid, predicted_valid_LR_b))\n",
    "print('Полнота: ', recall_score(target_valid, predicted_valid_LR_b))\n",
    "print('Точность: ', precision_score(target_valid, predicted_valid_LR_b))\n",
    "print('F1-мера: ', f1_score(target_valid, predicted_valid_LR_b))\n",
    "print('')\n",
    "#добавил лес\n",
    "print('Случайный лес')\n",
    "print('Матрица ошибок:')\n",
    "print(confusion_matrix(target_valid, predicted_valid_RFC_b))\n",
    "print('Полнота: ', recall_score(target_valid, predicted_valid_RFC_b))\n",
    "print('Точность: ', precision_score(target_valid, predicted_valid_RFC_b))\n",
    "print('F1-мера: ', f1_score(target_valid, predicted_valid_RFC_b))"
   ]
  },
  {
   "cell_type": "markdown",
   "metadata": {},
   "source": [
    "Логистической регрессии балансировка этим методом помогла приблизиться к 0.5 для F1-меры, но дерево всё равно лучше, а лес ещё лучше. У него уже параметр F1 – 0.5681"
   ]
  },
  {
   "cell_type": "markdown",
   "metadata": {},
   "source": [
    "Мы опробуем два метода - апсэмплинг и даунсэмплинг выборок. Начнём с увеличения."
   ]
  },
  {
   "cell_type": "code",
   "execution_count": 33,
   "metadata": {},
   "outputs": [],
   "source": [
    "#функция увеличения выборки\n",
    "def upsample(features, target, repeat):\n",
    "    features_zeros = features[target == 0]\n",
    "    features_ones = features[target == 1]\n",
    "    target_zeros = target[target == 0]\n",
    "    target_ones = target[target == 1]\n",
    "\n",
    "    features_upsampled = pd.concat([features_zeros] + [features_ones] * repeat)\n",
    "    target_upsampled = pd.concat([target_zeros] + [target_ones] * repeat)\n",
    "    \n",
    "    features_upsampled, target_upsampled = shuffle(\n",
    "        features_upsampled, target_upsampled, random_state=12345)\n",
    "    \n",
    "    return features_upsampled, target_upsampled"
   ]
  },
  {
   "cell_type": "code",
   "execution_count": 34,
   "metadata": {},
   "outputs": [
    {
     "data": {
      "text/plain": [
       "0    4781\n",
       "1    1219\n",
       "Name: Exited, dtype: int64"
      ]
     },
     "execution_count": 34,
     "metadata": {},
     "output_type": "execute_result"
    }
   ],
   "source": [
    "target_train.value_counts()"
   ]
  },
  {
   "cell_type": "markdown",
   "metadata": {},
   "source": [
    "Положительных значений - 1219, нулевых - 4781. Значит, нам нужно умножить положительные на 4, чтобы сбалансировать выборку."
   ]
  },
  {
   "cell_type": "code",
   "execution_count": 35,
   "metadata": {
    "scrolled": true
   },
   "outputs": [],
   "source": [
    "features_upsampled, target_upsampled = upsample(features_train, target_train, 4)"
   ]
  },
  {
   "cell_type": "code",
   "execution_count": 36,
   "metadata": {
    "scrolled": true
   },
   "outputs": [
    {
     "data": {
      "text/plain": [
       "1    4876\n",
       "0    4781\n",
       "Name: Exited, dtype: int64"
      ]
     },
     "execution_count": 36,
     "metadata": {},
     "output_type": "execute_result"
    }
   ],
   "source": [
    "target_upsampled.value_counts()"
   ]
  },
  {
   "cell_type": "markdown",
   "metadata": {},
   "source": [
    "Теперь количество нулей и единиц соотносится, и они у нас разбросаны случайно. Можно работать дальше!"
   ]
  },
  {
   "cell_type": "code",
   "execution_count": 37,
   "metadata": {},
   "outputs": [
    {
     "name": "stdout",
     "output_type": "stream",
     "text": [
      "(9657, 11)\n",
      "(9657,)\n",
      "(6000, 11)\n",
      "(6000,)\n"
     ]
    }
   ],
   "source": [
    "print(features_upsampled.shape)\n",
    "print(target_upsampled.shape)\n",
    "\n",
    "print(features_train.shape)\n",
    "print(target_train.shape)"
   ]
  },
  {
   "cell_type": "code",
   "execution_count": 39,
   "metadata": {},
   "outputs": [],
   "source": [
    "# try:\n",
    "#     model_DTC_b = DecisionTreeClassifier(random_state=12345, class_weight='balanced')\n",
    "#     model_DTC_b.fit(features_upsampled,target_upsampled)\n",
    "#     predicted_valid_DTC_b = model_DTC_b.predict(features_valid)\n",
    "#     print('Модель обучающего дерева c увеличенной выборкой обучена!')\n",
    "# except:\n",
    "#     print('Модель не обучена, ищи ошибки!')"
   ]
  },
  {
   "cell_type": "code",
   "execution_count": 40,
   "metadata": {},
   "outputs": [],
   "source": [
    "# print(\"F1 up:\", f1_score(target_valid, predicted_valid_DTC_b))"
   ]
  },
  {
   "cell_type": "code",
   "execution_count": 1,
   "metadata": {
    "scrolled": true
   },
   "outputs": [
    {
     "name": "stdout",
     "output_type": "stream",
     "text": [
      "Модель не обучена!\n"
     ]
    }
   ],
   "source": [
    "#обучим модель на апсемплинговой выборке\n",
    "try:\n",
    "    model_RFC_b = RandomForestClassifier(random_state=12345, n_estimators=70, max_depth=18, class_weight='balanced')\n",
    "    model_RFC_b.fit(features_upsampled,target_upsampled)\n",
    "    predicted_valid_RFC_b = model_RFC_b.predict(features_valid)\n",
    "    print('Модель случайного леса с балансом и апсемплингом обучена!')\n",
    "except:\n",
    "    print('Модель не обучена!')"
   ]
  },
  {
   "cell_type": "code",
   "execution_count": 48,
   "metadata": {},
   "outputs": [
    {
     "name": "stdout",
     "output_type": "stream",
     "text": [
      "F1 up: 0.590728476821192\n"
     ]
    }
   ],
   "source": [
    " print(\"F1 up:\", f1_score(target_valid, predicted_valid_RFC_b))"
   ]
  },
  {
   "cell_type": "markdown",
   "metadata": {},
   "source": [
    "Ого! Получили 0.59. Кажется, это то, чно нам нужно.\n",
    "Попробуем ещё другое изменение выборки, вдруг будет лучше. А потом попробуем даунсэмплинг. Data science – это же эээксперименты!"
   ]
  },
  {
   "cell_type": "code",
   "execution_count": 43,
   "metadata": {
    "scrolled": true
   },
   "outputs": [],
   "source": [
    "# best_f1 = 0\n",
    "# best_rep = 0\n",
    "# #перебрал разные параметры, эти оказались лучшими\n",
    "# for rep in range(2,20,1):\n",
    "#     features_upsampled, target_upsampled = upsample(features_train, target_train, rep)\n",
    "#     try:\n",
    "#         model_DTC_b = DecisionTreeClassifier(class_weight='balanced',random_state=12345)\n",
    "#         model_DTC_b.fit(features_upsampled,target_upsampled)\n",
    "#         predicted_valid_DTC_b = model_DTC_b.predict(features_valid)\n",
    "#         #print(rep, 'Модель обучающего дерева c увеличенной выборкой обучена!')\n",
    "#     except:\n",
    "#         print('Модель не обучена, ищи ошибки!')\n",
    "#     if f1_score(target_valid, predicted_valid_DTC_b) > best_f1:\n",
    "#         best_rep = rep\n",
    "#         best_f1 = f1_score(target_valid, predicted_valid_DTC_b)\n",
    "#         print(\"F1 \", best_rep,\" up:\", f1_score(target_valid, predicted_valid_DTC_b))\n",
    "        \n",
    "# print(\"Лучший F1 \", best_rep,\" up:\", best_f1)"
   ]
  },
  {
   "cell_type": "code",
   "execution_count": 49,
   "metadata": {
    "scrolled": true
   },
   "outputs": [
    {
     "name": "stdout",
     "output_type": "stream",
     "text": [
      "F1  2  up: 0.5992317541613316\n",
      "F1  3  up: 0.6222222222222221\n",
      "F1  4  up: 0.6223862238622385\n",
      "F1  5  up: 0.6224366706875754\n",
      "F1  6  up: 0.6267942583732057\n",
      "F1  8  up: 0.6395209580838325\n",
      "Лучший F1  8  up: 0.6395209580838325\n"
     ]
    }
   ],
   "source": [
    "best_f1 = 0\n",
    "best_rep = 0\n",
    "#перебрал разные параметры, эти оказались лучшими\n",
    "for rep in range(2,15,1):\n",
    "    features_upsampled, target_upsampled = upsample(features_train, target_train, rep)\n",
    "    try:\n",
    "        model_RFC_b = RandomForestClassifier(random_state=12345, n_estimators=80, max_depth=14, class_weight='balanced')\n",
    "        model_RFC_b.fit(features_upsampled,target_upsampled)\n",
    "        predicted_valid_RFC_b = model_RFC_b.predict(features_valid)\n",
    "        #print(rep, 'Модель обучающего дерева c увеличенной выборкой обучена!')\n",
    "    except:\n",
    "        print('Модель не обучена, ищи ошибки!')\n",
    "    if f1_score(target_valid, predicted_valid_RFC_b) > best_f1:\n",
    "        best_rep = rep\n",
    "        best_f1 = f1_score(target_valid, predicted_valid_RFC_b)\n",
    "        print(\"F1 \", best_rep,\" up:\", f1_score(target_valid, predicted_valid_RFC_b))\n",
    "        \n",
    "print(\"Лучший F1 \", best_rep,\" up:\", best_f1)"
   ]
  },
  {
   "cell_type": "markdown",
   "metadata": {},
   "source": [
    "По сравнению со сбалансированной выборкой, можем получить лучший результат на 8 повторениях вместо 4. Но потеряем в скорости выполнения. Поэтому, оставим сбалансированный вариант с апсемплингом в 4 раза, это и логичнее, и результат хороший."
   ]
  },
  {
   "cell_type": "markdown",
   "metadata": {},
   "source": [
    "Мы примем итоговый результат в 0.62238 на 4 повторениях. Посмотрим, что можно сделать с даунсемплингом."
   ]
  },
  {
   "cell_type": "code",
   "execution_count": 50,
   "metadata": {},
   "outputs": [],
   "source": [
    "#функция уменьшения выборки\n",
    "def downsample(features, target, fraction):\n",
    "    features_zeros = features[target == 0]\n",
    "    features_ones = features[target == 1]\n",
    "    target_zeros = target[target == 0]\n",
    "    target_ones = target[target == 1]\n",
    "\n",
    "    features_downsampled = pd.concat(\n",
    "        [features_zeros.sample(frac=fraction, random_state=12345)] + [features_ones])\n",
    "    target_downsampled = pd.concat(\n",
    "        [target_zeros.sample(frac=fraction, random_state=12345)] + [target_ones])\n",
    "    \n",
    "    features_downsampled, target_downsampled = shuffle(\n",
    "        features_downsampled, target_downsampled, random_state=12345)\n",
    "    \n",
    "    return features_downsampled, target_downsampled"
   ]
  },
  {
   "cell_type": "code",
   "execution_count": 51,
   "metadata": {
    "scrolled": true
   },
   "outputs": [
    {
     "data": {
      "text/plain": [
       "0    4781\n",
       "1    1219\n",
       "Name: Exited, dtype: int64"
      ]
     },
     "execution_count": 51,
     "metadata": {},
     "output_type": "execute_result"
    }
   ],
   "source": [
    "target_train.value_counts()"
   ]
  },
  {
   "cell_type": "markdown",
   "metadata": {},
   "source": [
    "Не знаю, зачем я ещё раз проверяю. Нулей у нас в 4 раза больше. Значит, нужно сделать их в 4 раза меньше, чтобы сбалансировать выборку. Коэффициент будет 0.25."
   ]
  },
  {
   "cell_type": "code",
   "execution_count": 52,
   "metadata": {},
   "outputs": [],
   "source": [
    "features_downsampled, target_downsampled = downsample(features_train, target_train, 0.25)"
   ]
  },
  {
   "cell_type": "code",
   "execution_count": 53,
   "metadata": {
    "scrolled": true
   },
   "outputs": [
    {
     "data": {
      "text/plain": [
       "1    1219\n",
       "0    1195\n",
       "Name: Exited, dtype: int64"
      ]
     },
     "execution_count": 53,
     "metadata": {},
     "output_type": "execute_result"
    }
   ],
   "source": [
    "target_downsampled.value_counts()"
   ]
  },
  {
   "cell_type": "markdown",
   "metadata": {},
   "source": [
    "Так-то лучше!"
   ]
  },
  {
   "cell_type": "code",
   "execution_count": 54,
   "metadata": {},
   "outputs": [],
   "source": [
    "# try:\n",
    "#     model_DTC_b = DecisionTreeClassifier(random_state=12345, class_weight='balanced')\n",
    "#     model_DTC_b.fit(features_downsampled,target_downsampled)\n",
    "#     predicted_valid_DTC_b = model_DTC_b.predict(features_valid)\n",
    "#     print('Модель обучающего дерева c уменьшенной выборкой обучена!')\n",
    "# except:\n",
    "#     print('Модель не обучена, ищи ошибки!')"
   ]
  },
  {
   "cell_type": "code",
   "execution_count": 55,
   "metadata": {},
   "outputs": [],
   "source": [
    "# print(\"F1 down:\", f1_score(target_valid, predicted_valid_DTC_b))"
   ]
  },
  {
   "cell_type": "code",
   "execution_count": 56,
   "metadata": {},
   "outputs": [
    {
     "name": "stdout",
     "output_type": "stream",
     "text": [
      "Модель случайного леса с балансом и даунсемплингом обучена!\n"
     ]
    }
   ],
   "source": [
    "#обучим модель на даунсемплинговой выборке\n",
    "try:\n",
    "    model_RFC_b = RandomForestClassifier(random_state=12345, n_estimators=80, max_depth=14, class_weight='balanced')\n",
    "    model_RFC_b.fit(features_downsampled,target_downsampled)\n",
    "    predicted_valid_RFC_b = model_RFC_b.predict(features_valid)\n",
    "    print('Модель случайного леса с балансом и даунсемплингом обучена!')\n",
    "except:\n",
    "    print('Модель не обучена!')"
   ]
  },
  {
   "cell_type": "code",
   "execution_count": 57,
   "metadata": {},
   "outputs": [
    {
     "name": "stdout",
     "output_type": "stream",
     "text": [
      "F1 up: 0.5929919137466307\n"
     ]
    }
   ],
   "source": [
    " print(\"F1 up:\", f1_score(target_valid, predicted_valid_RFC_b))"
   ]
  },
  {
   "cell_type": "markdown",
   "metadata": {},
   "source": [
    "И здесь получили подходящий задаче параметр F1 в 0.59. Попробуем поиграться с параметром. Ну так, для практики."
   ]
  },
  {
   "cell_type": "code",
   "execution_count": 53,
   "metadata": {},
   "outputs": [],
   "source": [
    "# #попробуем тоже поиграть с параметрами. Стартуем сразу с F1 = 0.5, меньше нам вообще неинтересно\n",
    "# best_f1 = 0.5\n",
    "# best_fr = 0\n",
    "\n",
    "# #перебрал разные параметры, эти оказались лучшими\n",
    "# for fr in np.arange(0.1,0.5,0.005):\n",
    "#     features_downsampled, target_downsampled = downsample(features_train, target_train, fr)\n",
    "#     try:\n",
    "#         model_DTC_b = DecisionTreeClassifier(random_state=12345)\n",
    "#         model_DTC_b.fit(features_downsampled,target_downsampled)\n",
    "#         predicted_valid_DTC_b = model_DTC_b.predict(features_valid)\n",
    "#         #print(round(fr,2),'Модель обучающего дерева c уменьшенной выборкой обучена!')\n",
    "#     except:\n",
    "#         print('Модель не обучена, ищи ошибки!')\n",
    "        \n",
    "#     if f1_score(target_valid, predicted_valid_DTC_b) > best_f1:\n",
    "#         best_fr = fr\n",
    "#         best_f1 = f1_score(target_valid, predicted_valid_DTC_b)\n",
    "#         print(\"F1 \", round(fr,3),\" up:\", f1_score(target_valid, predicted_valid_DTC_b))\n",
    "\n",
    "# print(\"Лучший F1 \", round(best_fr,3),\" up:\", best_f1)"
   ]
  },
  {
   "cell_type": "code",
   "execution_count": 58,
   "metadata": {},
   "outputs": [
    {
     "name": "stdout",
     "output_type": "stream",
     "text": [
      "F1  0.25  up: 0.5929919137466307\n",
      "F1  0.255  up: 0.5969615728328865\n",
      "F1  0.26  up: 0.5974499089253188\n",
      "F1  0.265  up: 0.6169617893755825\n",
      "F1  0.28  up: 0.6177606177606177\n",
      "F1  0.305  up: 0.6183282980866062\n",
      "F1  0.36  up: 0.621196222455404\n",
      "F1  0.365  up: 0.6220806794055201\n",
      "F1  0.385  up: 0.6235167206040991\n",
      "F1  0.435  up: 0.6279329608938548\n",
      "F1  0.49  up: 0.63121387283237\n",
      "Лучший F1  0.49  up: 0.63121387283237\n"
     ]
    }
   ],
   "source": [
    "#попробуем тоже поиграть с параметрами. Стартуем сразу с F1 = 0.59, меньше нам вообще неинтересно\n",
    "best_f1 = 0.59\n",
    "best_fr = 0\n",
    "\n",
    "#перебрал разные параметры, эти оказались лучшими\n",
    "for fr in np.arange(0.25,0.5,0.005):\n",
    "    features_downsampled, target_downsampled = downsample(features_train, target_train, fr)\n",
    "    try:\n",
    "        model_RFC_b = RandomForestClassifier(random_state=12345, n_estimators=80, max_depth=14, class_weight='balanced')\n",
    "        model_RFC_b.fit(features_downsampled,target_downsampled)\n",
    "        predicted_valid_RFC_b = model_RFC_b.predict(features_valid)\n",
    "        #print(round(fr,2),'Модель обучающего дерева c уменьшенной выборкой обучена!')\n",
    "    except:\n",
    "        print('Модель не обучена, ищи ошибки!')\n",
    "        \n",
    "    if f1_score(target_valid, predicted_valid_RFC_b) > best_f1:\n",
    "        best_fr = fr\n",
    "        best_f1 = f1_score(target_valid, predicted_valid_RFC_b)\n",
    "        print(\"F1 \", round(fr,3),\" up:\", f1_score(target_valid, predicted_valid_RFC_b))\n",
    "\n",
    "print(\"Лучший F1 \", round(best_fr,3),\" up:\", best_f1)"
   ]
  },
  {
   "cell_type": "markdown",
   "metadata": {},
   "source": [
    "Шикарно. Достигли показателя F1 - 0.6312 при уменьшении количества нулей в выборке почти в 2 раза вместо 4 раз. Это улучшение, т.к. мы не так сильно изменяем исходные данные, значит, за итоговый результат возьмём следующее:**\n",
    "- Лучшая модель: Случайный лес\n",
    "- Глубина: 14\n",
    "- Количество деревьев: 80\n",
    "- Баланс: с помощью даунсэмплинга в 2 раза (0.455)\n",
    "- F1: 0.632302405"
   ]
  },
  {
   "cell_type": "markdown",
   "metadata": {},
   "source": [
    "~~Мне не удалось достичь требуемого по заданию показателя в 0.59. Возможно, я не учёл все параметры балансировки или не вспомнил о каких-то методах, которые позволят это сделать. Но результат 0.5838 считаю хорошим, поэтому сделаю тестирование этой модели и буду надеяться, что ревьювер подскажет, где я ошибся (хотя в реальном проекте такого не будет, но мы же здесь только учимся, правда?).~"
   ]
  },
  {
   "cell_type": "markdown",
   "metadata": {},
   "source": [
    "## Тестирование модели"
   ]
  },
  {
   "cell_type": "markdown",
   "metadata": {},
   "source": [
    "Посмотрим на результаты тестирования модели различными методами. Сначала только ещё раз перезапустим модель, чтобы точно работать с тем, что мы выбрали."
   ]
  },
  {
   "cell_type": "code",
   "execution_count": 60,
   "metadata": {
    "scrolled": true
   },
   "outputs": [
    {
     "name": "stdout",
     "output_type": "stream",
     "text": [
      "Итоговая модель обучена, предсказания сделаны\n",
      "F1 test: 0.5938650306748468\n",
      "CPU times: user 352 ms, sys: 24.1 ms, total: 377 ms\n",
      "Wall time: 374 ms\n"
     ]
    }
   ],
   "source": [
    "%%time\n",
    "try:\n",
    "    features_downsampled, target_downsampled = downsample(features_train, target_train, 0.49)\n",
    "    model = RandomForestClassifier(random_state=12345, n_estimators=80, max_depth=14, class_weight='balanced')\n",
    "    model.fit(features_downsampled,target_downsampled)\n",
    "    predicted_test = model.predict(features_test)\n",
    "    print('Итоговая модель обучена, предсказания сделаны')\n",
    "except:\n",
    "    print('Что-то пошло не так!')\n",
    "\n",
    "print('F1 test:', f1_score(target_test, predicted_test))"
   ]
  },
  {
   "cell_type": "code",
   "execution_count": 63,
   "metadata": {},
   "outputs": [
    {
     "name": "stdout",
     "output_type": "stream",
     "text": [
      "F1: 0.5938650306748468\n",
      "Точность: 0.5707547169811321\n",
      "Полнота: 0.618925831202046\n"
     ]
    }
   ],
   "source": [
    "print('F1:',f1_score(target_test, predicted_test))\n",
    "print('Точность:',precision_score(target_test, predicted_test))\n",
    "print('Полнота:',recall_score(target_test, predicted_test))"
   ]
  },
  {
   "cell_type": "markdown",
   "metadata": {},
   "source": [
    "Неидеально, конечно. Мы предсказываем верно, что человек уйдёт, в 61% случаях. Идеально было бы 100%, но это скорее всего невозможно."
   ]
  },
  {
   "cell_type": "code",
   "execution_count": 64,
   "metadata": {
    "scrolled": true
   },
   "outputs": [
    {
     "name": "stdout",
     "output_type": "stream",
     "text": [
      "MAE на обучающей выборке:  0.0455\n",
      "MAE на валидационной выборке:  0.1595\n",
      "MAE на тестовой выборке:  0.1655\n"
     ]
    }
   ],
   "source": [
    "predictions_train = model.predict(features_train)\n",
    "predictions_valid = model.predict(features_valid) \n",
    "\n",
    "print(\"MAE на обучающей выборке: \", mean_absolute_error(target_train,predictions_train))\n",
    "print(\"MAE на валидационной выборке: \", mean_absolute_error(target_valid, predictions_valid))\n",
    "print(\"MAE на тестовой выборке: \", mean_absolute_error(target_test, predicted_test))"
   ]
  },
  {
   "cell_type": "markdown",
   "metadata": {},
   "source": [
    "В среднем, мы ошибаемся на 0.16. Т.к. наши значения это 0 и 1, то можно сказать, что мы ошибаемся и в случае 0, и в случае 1, то есть, суммарно около 32%, что как раз соответствует полноте предсказаний."
   ]
  },
  {
   "cell_type": "code",
   "execution_count": 65,
   "metadata": {
    "scrolled": true
   },
   "outputs": [
    {
     "data": {
      "image/png": "[encoded data removed]",
      "text/plain": [
       "<Figure size 360x360 with 1 Axes>"
      ]
     },
     "metadata": {
      "needs_background": "light"
     },
     "output_type": "display_data"
    }
   ],
   "source": [
    "probabilities_test = model.predict_proba(features_test)\n",
    "precision, recall, thresholds = precision_recall_curve(target_test, probabilities_test[:, 1])\n",
    "\n",
    "plt.figure(figsize=(5, 5))\n",
    "plt.step(recall, precision, where='post')\n",
    "plt.xlabel('Recall')\n",
    "plt.ylabel('Precision')\n",
    "plt.ylim([0.0, 1.05])\n",
    "plt.xlim([0.0, 1.0])\n",
    "plt.title('Кривая Precision-Recall')\n",
    "plt.show() "
   ]
  },
  {
   "cell_type": "code",
   "execution_count": 66,
   "metadata": {},
   "outputs": [
    {
     "data": {
      "image/png": "[encoded data removed]",
      "text/plain": [
       "<Figure size 432x288 with 1 Axes>"
      ]
     },
     "metadata": {
      "needs_background": "light"
     },
     "output_type": "display_data"
    }
   ],
   "source": [
    "probabilities_test = model.predict_proba(features_test)\n",
    "probabilities_one_test = probabilities_test[:, 1]\n",
    "\n",
    "fpr, tpr, thresholds = roc_curve(target_test, probabilities_one_test) \n",
    "\n",
    "plt.figure()\n",
    "\n",
    "plt.plot(fpr, tpr)\n",
    "plt.xlim([0.0, 1.0])\n",
    "plt.ylim([0.0, 1.0])\n",
    "plt.xlabel('False Positive Rate')\n",
    "plt.ylabel('True Positive Rate')\n",
    "plt.title('ROC-кривая')\n",
    "# ROC-кривая случайной модели (выглядит как прямая)\n",
    "plt.plot([0, 1], [0, 1], linestyle='--')\n",
    "plt.show();"
   ]
  },
  {
   "cell_type": "code",
   "execution_count": 60,
   "metadata": {},
   "outputs": [
    {
     "name": "stdout",
     "output_type": "stream",
     "text": [
      "0.8412359188007357\n"
     ]
    }
   ],
   "source": [
    "probabilities_test = model.predict_proba(features_test)\n",
    "probabilities_one_test = probabilities_test[:, 1]\n",
    "\n",
    "auc_roc = roc_auc_score(target_test, probabilities_one_test)\n",
    "\n",
    "print(auc_roc);"
   ]
  },
  {
   "cell_type": "markdown",
   "metadata": {},
   "source": [
    "Наша модель отличается от случайной и это прекрасно. Значит, она предсказывает иначе. И т.к. она лежит сверху от случайного графика, то и предсказывает она лучше. Площадь под графиком нашей моделью равна 0.84, а у случайной модели — 0.5. Значит, мы на 34% лучше предсказываем результат. Неидеально, но для теста, на мой взгляд, весьма неплохо. \n",
    "\n",
    "А если нам удастся поработать с 60% клиентов, кто хочет уйти и хотя бы 50% оставить (мы не знаем процент конверсии, но пусть будет такой), это очень и очень неплохо, согласитесь!"
   ]
  },
  {
   "cell_type": "markdown",
   "metadata": {},
   "source": [
    "## Чек-лист готовности проекта"
   ]
  },
  {
   "cell_type": "markdown",
   "metadata": {},
   "source": [
    "Поставьте 'x' в выполненных пунктах. Далее нажмите Shift+Enter."
   ]
  },
  {
   "cell_type": "markdown",
   "metadata": {},
   "source": [
    "- [x]  Jupyter Notebook открыт\n",
    "- [x]  Весь код выполняется без ошибок\n",
    "- [x]  Ячейки с кодом расположены в порядке исполнения\n",
    "- [x]  Выполнен шаг 1: данные подготовлены\n",
    "- [x]  Выполнен шаг 2: задача исследована\n",
    "    - [x]  Исследован баланс классов\n",
    "    - [x]  Изучены модели без учёта дисбаланса\n",
    "    - [x]  Написаны выводы по результатам исследования\n",
    "- [x]  Выполнен шаг 3: учтён дисбаланс\n",
    "    - [x]  Применено несколько способов борьбы с дисбалансом\n",
    "    - [x]  Написаны выводы по результатам исследования\n",
    "- [x]  Выполнен шаг 4: проведено тестирование\n",
    "- [x]  Удалось достичь *F1*-меры не менее 0.59\n",
    "- [x]  Исследована метрика *AUC-ROC*"
   ]
  }
 ],
 "metadata": {
  "ExecuteTimeLog": [
   {
    "duration": 374,
    "start_time": "2022-12-13T23:55:10.068Z"
   },
   {
    "duration": 97,
    "start_time": "2022-12-13T23:56:39.898Z"
   },
   {
    "duration": 9,
    "start_time": "2022-12-13T23:57:03.098Z"
   },
   {
    "duration": 3,
    "start_time": "2022-12-13T23:57:26.321Z"
   },
   {
    "duration": 13,
    "start_time": "2022-12-13T23:57:32.915Z"
   },
   {
    "duration": 12,
    "start_time": "2022-12-13T23:57:36.473Z"
   },
   {
    "duration": 2,
    "start_time": "2022-12-13T23:57:53.746Z"
   },
   {
    "duration": 18,
    "start_time": "2022-12-13T23:59:19.273Z"
   },
   {
    "duration": 10,
    "start_time": "2022-12-14T00:00:03.707Z"
   },
   {
    "duration": 9,
    "start_time": "2022-12-14T00:00:10.211Z"
   },
   {
    "duration": 9,
    "start_time": "2022-12-14T00:00:15.281Z"
   },
   {
    "duration": 69,
    "start_time": "2022-12-14T00:00:26.960Z"
   },
   {
    "duration": 8,
    "start_time": "2022-12-14T00:00:31.425Z"
   },
   {
    "duration": 8,
    "start_time": "2022-12-14T00:00:54.235Z"
   },
   {
    "duration": 8,
    "start_time": "2022-12-14T00:00:57.553Z"
   },
   {
    "duration": 14,
    "start_time": "2022-12-14T00:01:03.785Z"
   },
   {
    "duration": 7,
    "start_time": "2022-12-14T00:01:16.337Z"
   },
   {
    "duration": 7,
    "start_time": "2022-12-14T00:01:20.105Z"
   },
   {
    "duration": 8,
    "start_time": "2022-12-14T00:01:38.473Z"
   },
   {
    "duration": 8,
    "start_time": "2022-12-14T00:01:47.392Z"
   },
   {
    "duration": 9,
    "start_time": "2022-12-14T00:02:09.465Z"
   },
   {
    "duration": 25,
    "start_time": "2022-12-14T00:02:22.746Z"
   },
   {
    "duration": 8,
    "start_time": "2022-12-14T00:02:33.673Z"
   },
   {
    "duration": 6,
    "start_time": "2022-12-14T00:04:03.953Z"
   },
   {
    "duration": 6,
    "start_time": "2022-12-14T00:04:12.305Z"
   },
   {
    "duration": 2,
    "start_time": "2022-12-14T00:04:44.961Z"
   },
   {
    "duration": 6,
    "start_time": "2022-12-14T00:04:49.092Z"
   },
   {
    "duration": 3,
    "start_time": "2022-12-14T00:06:10.198Z"
   },
   {
    "duration": 13,
    "start_time": "2022-12-14T00:06:18.057Z"
   },
   {
    "duration": 5,
    "start_time": "2022-12-14T00:06:25.888Z"
   },
   {
    "duration": 1134,
    "start_time": "2022-12-14T09:08:51.696Z"
   },
   {
    "duration": 162,
    "start_time": "2022-12-14T09:08:56.375Z"
   },
   {
    "duration": 9,
    "start_time": "2022-12-14T09:08:57.166Z"
   },
   {
    "duration": 13,
    "start_time": "2022-12-14T09:08:58.755Z"
   },
   {
    "duration": 25,
    "start_time": "2022-12-14T09:08:59.727Z"
   },
   {
    "duration": 5,
    "start_time": "2022-12-14T09:09:00.816Z"
   },
   {
    "duration": 3,
    "start_time": "2022-12-14T09:09:01.928Z"
   },
   {
    "duration": 12,
    "start_time": "2022-12-14T09:09:02.470Z"
   },
   {
    "duration": 4,
    "start_time": "2022-12-14T09:09:03.223Z"
   },
   {
    "duration": 2,
    "start_time": "2022-12-14T09:11:02.880Z"
   },
   {
    "duration": 8,
    "start_time": "2022-12-14T09:16:27.181Z"
   },
   {
    "duration": 104,
    "start_time": "2022-12-14T09:17:05.863Z"
   },
   {
    "duration": 8,
    "start_time": "2022-12-14T09:18:30.246Z"
   },
   {
    "duration": 48,
    "start_time": "2022-12-14T09:18:34.112Z"
   },
   {
    "duration": 4,
    "start_time": "2022-12-14T09:19:02.668Z"
   },
   {
    "duration": 1259,
    "start_time": "2022-12-14T09:19:17.278Z"
   },
   {
    "duration": 7,
    "start_time": "2022-12-14T09:19:41.253Z"
   },
   {
    "duration": 3,
    "start_time": "2022-12-14T09:20:03.126Z"
   },
   {
    "duration": 9,
    "start_time": "2022-12-14T09:20:06.971Z"
   },
   {
    "duration": 1082,
    "start_time": "2022-12-14T09:20:16.337Z"
   },
   {
    "duration": 40,
    "start_time": "2022-12-14T09:20:17.421Z"
   },
   {
    "duration": 10,
    "start_time": "2022-12-14T09:20:17.463Z"
   },
   {
    "duration": 21,
    "start_time": "2022-12-14T09:20:17.476Z"
   },
   {
    "duration": 44,
    "start_time": "2022-12-14T09:20:17.499Z"
   },
   {
    "duration": 6,
    "start_time": "2022-12-14T09:20:17.545Z"
   },
   {
    "duration": 21,
    "start_time": "2022-12-14T09:20:17.553Z"
   },
   {
    "duration": 22,
    "start_time": "2022-12-14T09:20:17.576Z"
   },
   {
    "duration": 15,
    "start_time": "2022-12-14T09:20:17.601Z"
   },
   {
    "duration": 9,
    "start_time": "2022-12-14T09:20:17.618Z"
   },
   {
    "duration": 23,
    "start_time": "2022-12-14T09:20:17.629Z"
   },
   {
    "duration": 14,
    "start_time": "2022-12-14T09:20:17.654Z"
   },
   {
    "duration": 135,
    "start_time": "2022-12-14T09:20:17.670Z"
   },
   {
    "duration": 13,
    "start_time": "2022-12-14T09:20:42.897Z"
   },
   {
    "duration": 12,
    "start_time": "2022-12-14T09:21:33.708Z"
   },
   {
    "duration": 191,
    "start_time": "2022-12-14T09:22:20.833Z"
   },
   {
    "duration": 19,
    "start_time": "2022-12-14T09:22:25.800Z"
   },
   {
    "duration": 4,
    "start_time": "2022-12-14T09:24:21.795Z"
   },
   {
    "duration": 122,
    "start_time": "2022-12-14T09:24:25.421Z"
   },
   {
    "duration": 4,
    "start_time": "2022-12-14T09:24:28.794Z"
   },
   {
    "duration": 4,
    "start_time": "2022-12-14T09:24:36.712Z"
   },
   {
    "duration": 89,
    "start_time": "2022-12-14T09:24:42.722Z"
   },
   {
    "duration": 4,
    "start_time": "2022-12-14T09:24:45.929Z"
   },
   {
    "duration": 81,
    "start_time": "2022-12-14T09:24:53.610Z"
   },
   {
    "duration": 9,
    "start_time": "2022-12-14T09:24:58.792Z"
   },
   {
    "duration": 9,
    "start_time": "2022-12-14T09:25:35.050Z"
   },
   {
    "duration": 11,
    "start_time": "2022-12-14T09:25:41.057Z"
   },
   {
    "duration": 870,
    "start_time": "2022-12-14T09:25:45.528Z"
   },
   {
    "duration": 450,
    "start_time": "2022-12-14T09:25:51.459Z"
   },
   {
    "duration": 427,
    "start_time": "2022-12-14T09:26:07.546Z"
   },
   {
    "duration": 554,
    "start_time": "2022-12-14T09:27:25.962Z"
   },
   {
    "duration": 106,
    "start_time": "2022-12-14T09:28:36.009Z"
   },
   {
    "duration": 47,
    "start_time": "2022-12-14T09:28:54.969Z"
   },
   {
    "duration": 6,
    "start_time": "2022-12-14T09:29:00.377Z"
   },
   {
    "duration": 463,
    "start_time": "2022-12-14T09:29:04.785Z"
   },
   {
    "duration": 4,
    "start_time": "2022-12-14T09:29:53.810Z"
   },
   {
    "duration": 9,
    "start_time": "2022-12-14T09:30:00.681Z"
   },
   {
    "duration": 8,
    "start_time": "2022-12-14T09:30:09.040Z"
   },
   {
    "duration": 8,
    "start_time": "2022-12-14T09:30:15.179Z"
   },
   {
    "duration": 9,
    "start_time": "2022-12-14T09:30:18.754Z"
   },
   {
    "duration": 8,
    "start_time": "2022-12-14T09:30:40.649Z"
   },
   {
    "duration": 9,
    "start_time": "2022-12-14T09:31:25.329Z"
   },
   {
    "duration": 3,
    "start_time": "2022-12-14T09:31:40.801Z"
   },
   {
    "duration": 3,
    "start_time": "2022-12-14T09:31:47.133Z"
   },
   {
    "duration": 4,
    "start_time": "2022-12-14T09:31:52.450Z"
   },
   {
    "duration": 4,
    "start_time": "2022-12-14T09:31:57.402Z"
   },
   {
    "duration": 942,
    "start_time": "2022-12-14T09:33:16.329Z"
   },
   {
    "duration": 229,
    "start_time": "2022-12-14T09:33:31.178Z"
   },
   {
    "duration": 240,
    "start_time": "2022-12-14T09:34:00.338Z"
   },
   {
    "duration": 226,
    "start_time": "2022-12-14T09:34:12.642Z"
   },
   {
    "duration": 433,
    "start_time": "2022-12-14T09:34:15.192Z"
   },
   {
    "duration": 551,
    "start_time": "2022-12-14T09:34:17.474Z"
   },
   {
    "duration": 482,
    "start_time": "2022-12-14T09:34:21.945Z"
   },
   {
    "duration": 952,
    "start_time": "2022-12-14T09:34:24.161Z"
   },
   {
    "duration": 235,
    "start_time": "2022-12-14T09:34:26.409Z"
   },
   {
    "duration": 10,
    "start_time": "2022-12-14T09:39:11.630Z"
   },
   {
    "duration": 1126,
    "start_time": "2022-12-14T09:46:56.954Z"
   },
   {
    "duration": 44,
    "start_time": "2022-12-14T09:46:58.082Z"
   },
   {
    "duration": 12,
    "start_time": "2022-12-14T09:46:58.135Z"
   },
   {
    "duration": 17,
    "start_time": "2022-12-14T09:46:58.149Z"
   },
   {
    "duration": 27,
    "start_time": "2022-12-14T09:46:58.168Z"
   },
   {
    "duration": 20,
    "start_time": "2022-12-14T09:46:58.196Z"
   },
   {
    "duration": 4,
    "start_time": "2022-12-14T09:46:58.218Z"
   },
   {
    "duration": 38,
    "start_time": "2022-12-14T09:46:58.224Z"
   },
   {
    "duration": 5,
    "start_time": "2022-12-14T09:46:58.263Z"
   },
   {
    "duration": 5,
    "start_time": "2022-12-14T09:46:58.270Z"
   },
   {
    "duration": 19,
    "start_time": "2022-12-14T09:46:58.276Z"
   },
   {
    "duration": 198,
    "start_time": "2022-12-14T09:46:58.297Z"
   },
   {
    "duration": 26,
    "start_time": "2022-12-14T09:46:58.496Z"
   },
   {
    "duration": 159,
    "start_time": "2022-12-14T09:46:58.526Z"
   },
   {
    "duration": 469,
    "start_time": "2022-12-14T09:46:58.687Z"
   },
   {
    "duration": 563,
    "start_time": "2022-12-14T09:46:59.158Z"
   },
   {
    "duration": 1248,
    "start_time": "2022-12-14T09:46:59.725Z"
   },
   {
    "duration": 265,
    "start_time": "2022-12-14T09:47:00.974Z"
   },
   {
    "duration": 1298540,
    "start_time": "2022-12-14T09:47:01.242Z"
   },
   {
    "duration": 4114,
    "start_time": "2022-12-14T10:09:21.907Z"
   },
   {
    "duration": 385,
    "start_time": "2022-12-14T10:09:34.485Z"
   },
   {
    "duration": 352,
    "start_time": "2022-12-14T10:09:38.450Z"
   },
   {
    "duration": 10269,
    "start_time": "2022-12-14T10:09:43.538Z"
   },
   {
    "duration": 2770,
    "start_time": "2022-12-14T10:10:02.381Z"
   },
   {
    "duration": 1966,
    "start_time": "2022-12-14T10:10:13.172Z"
   },
   {
    "duration": 6,
    "start_time": "2022-12-14T10:10:31.180Z"
   },
   {
    "duration": 157998,
    "start_time": "2022-12-14T10:13:50.284Z"
   },
   {
    "duration": 3,
    "start_time": "2022-12-14T10:16:28.284Z"
   },
   {
    "duration": 52,
    "start_time": "2022-12-14T10:16:50.906Z"
   },
   {
    "duration": 32,
    "start_time": "2022-12-14T10:17:25.227Z"
   },
   {
    "duration": 17,
    "start_time": "2022-12-14T10:17:30.650Z"
   },
   {
    "duration": 1135,
    "start_time": "2022-12-14T10:18:03.689Z"
   },
   {
    "duration": 41,
    "start_time": "2022-12-14T10:18:06.249Z"
   },
   {
    "duration": 8,
    "start_time": "2022-12-14T10:18:06.858Z"
   },
   {
    "duration": 12,
    "start_time": "2022-12-14T10:18:09.724Z"
   },
   {
    "duration": 41,
    "start_time": "2022-12-14T10:18:14.626Z"
   },
   {
    "duration": 4,
    "start_time": "2022-12-14T10:18:17.482Z"
   },
   {
    "duration": 4,
    "start_time": "2022-12-14T10:18:19.738Z"
   },
   {
    "duration": 12,
    "start_time": "2022-12-14T10:18:21.642Z"
   },
   {
    "duration": 6,
    "start_time": "2022-12-14T10:18:25.275Z"
   },
   {
    "duration": 2,
    "start_time": "2022-12-14T10:18:28.883Z"
   },
   {
    "duration": 201,
    "start_time": "2022-12-14T10:18:45.407Z"
   },
   {
    "duration": 18,
    "start_time": "2022-12-14T10:18:47.281Z"
   },
   {
    "duration": 66,
    "start_time": "2022-12-14T10:19:04.928Z"
   },
   {
    "duration": 17,
    "start_time": "2022-12-14T10:19:11.442Z"
   },
   {
    "duration": 87,
    "start_time": "2022-12-14T10:19:18.496Z"
   },
   {
    "duration": 447,
    "start_time": "2022-12-14T10:19:20.673Z"
   },
   {
    "duration": 487,
    "start_time": "2022-12-14T10:19:23.153Z"
   },
   {
    "duration": 907,
    "start_time": "2022-12-14T10:19:40.674Z"
   },
   {
    "duration": 240,
    "start_time": "2022-12-14T10:19:43.003Z"
   },
   {
    "duration": 7411,
    "start_time": "2022-12-14T10:20:07.139Z"
   },
   {
    "duration": 6,
    "start_time": "2022-12-14T10:20:20.888Z"
   },
   {
    "duration": 7407,
    "start_time": "2022-12-14T10:20:27.243Z"
   },
   {
    "duration": 7614,
    "start_time": "2022-12-14T10:21:48.470Z"
   },
   {
    "duration": 7578,
    "start_time": "2022-12-14T10:22:20.005Z"
   },
   {
    "duration": 7601,
    "start_time": "2022-12-14T10:22:31.453Z"
   },
   {
    "duration": 2701,
    "start_time": "2022-12-14T10:29:40.944Z"
   },
   {
    "duration": 339,
    "start_time": "2022-12-14T10:29:49.022Z"
   },
   {
    "duration": 66353,
    "start_time": "2022-12-14T10:30:05.214Z"
   },
   {
    "duration": 3096,
    "start_time": "2022-12-14T10:31:11.569Z"
   },
   {
    "duration": 1708,
    "start_time": "2022-12-14T10:31:18.950Z"
   },
   {
    "duration": 0,
    "start_time": "2022-12-14T10:32:14.261Z"
   },
   {
    "duration": 31068,
    "start_time": "2022-12-14T10:32:21.294Z"
   },
   {
    "duration": 31130,
    "start_time": "2022-12-14T10:32:56.742Z"
   },
   {
    "duration": 1085,
    "start_time": "2022-12-14T10:37:51.314Z"
   },
   {
    "duration": 39,
    "start_time": "2022-12-14T10:37:52.401Z"
   },
   {
    "duration": 8,
    "start_time": "2022-12-14T10:37:52.442Z"
   },
   {
    "duration": 18,
    "start_time": "2022-12-14T10:37:52.452Z"
   },
   {
    "duration": 30,
    "start_time": "2022-12-14T10:37:52.472Z"
   },
   {
    "duration": 5,
    "start_time": "2022-12-14T10:37:52.503Z"
   },
   {
    "duration": 5,
    "start_time": "2022-12-14T10:37:52.509Z"
   },
   {
    "duration": 13,
    "start_time": "2022-12-14T10:37:52.515Z"
   },
   {
    "duration": 4,
    "start_time": "2022-12-14T10:37:52.530Z"
   },
   {
    "duration": 222,
    "start_time": "2022-12-14T10:37:52.537Z"
   },
   {
    "duration": 19,
    "start_time": "2022-12-14T10:37:52.761Z"
   },
   {
    "duration": 79,
    "start_time": "2022-12-14T10:37:52.782Z"
   },
   {
    "duration": 17,
    "start_time": "2022-12-14T10:37:52.863Z"
   },
   {
    "duration": 98,
    "start_time": "2022-12-14T10:37:52.882Z"
   },
   {
    "duration": 458,
    "start_time": "2022-12-14T10:37:52.981Z"
   },
   {
    "duration": 255,
    "start_time": "2022-12-14T10:37:53.440Z"
   },
   {
    "duration": 0,
    "start_time": "2022-12-14T10:37:53.696Z"
   },
   {
    "duration": 0,
    "start_time": "2022-12-14T10:37:53.698Z"
   },
   {
    "duration": 0,
    "start_time": "2022-12-14T10:37:53.698Z"
   },
   {
    "duration": 0,
    "start_time": "2022-12-14T10:37:53.713Z"
   },
   {
    "duration": 493,
    "start_time": "2022-12-14T10:38:05.352Z"
   },
   {
    "duration": 8,
    "start_time": "2022-12-14T10:38:11.748Z"
   },
   {
    "duration": 1114,
    "start_time": "2022-12-14T10:38:18.859Z"
   },
   {
    "duration": 240,
    "start_time": "2022-12-14T10:38:21.674Z"
   },
   {
    "duration": 1066,
    "start_time": "2022-12-14T10:38:49.994Z"
   },
   {
    "duration": 1106,
    "start_time": "2022-12-14T10:40:46.705Z"
   },
   {
    "duration": 40,
    "start_time": "2022-12-14T10:40:47.813Z"
   },
   {
    "duration": 8,
    "start_time": "2022-12-14T10:40:47.854Z"
   },
   {
    "duration": 20,
    "start_time": "2022-12-14T10:40:47.864Z"
   },
   {
    "duration": 26,
    "start_time": "2022-12-14T10:40:47.886Z"
   },
   {
    "duration": 5,
    "start_time": "2022-12-14T10:40:47.914Z"
   },
   {
    "duration": 7,
    "start_time": "2022-12-14T10:40:47.920Z"
   },
   {
    "duration": 15,
    "start_time": "2022-12-14T10:40:47.929Z"
   },
   {
    "duration": 6,
    "start_time": "2022-12-14T10:40:47.945Z"
   },
   {
    "duration": 211,
    "start_time": "2022-12-14T10:40:47.952Z"
   },
   {
    "duration": 18,
    "start_time": "2022-12-14T10:40:48.165Z"
   },
   {
    "duration": 77,
    "start_time": "2022-12-14T10:40:48.184Z"
   },
   {
    "duration": 16,
    "start_time": "2022-12-14T10:40:48.263Z"
   },
   {
    "duration": 100,
    "start_time": "2022-12-14T10:40:48.281Z"
   },
   {
    "duration": 480,
    "start_time": "2022-12-14T10:40:48.383Z"
   },
   {
    "duration": 558,
    "start_time": "2022-12-14T10:40:48.864Z"
   },
   {
    "duration": 1169,
    "start_time": "2022-12-14T10:40:49.424Z"
   },
   {
    "duration": 249,
    "start_time": "2022-12-14T10:40:50.596Z"
   },
   {
    "duration": 2,
    "start_time": "2022-12-14T10:40:50.847Z"
   },
   {
    "duration": 198,
    "start_time": "2022-12-14T10:40:50.851Z"
   },
   {
    "duration": 7,
    "start_time": "2022-12-14T10:40:51.050Z"
   },
   {
    "duration": 18,
    "start_time": "2022-12-14T10:44:34.616Z"
   },
   {
    "duration": 4,
    "start_time": "2022-12-14T10:44:44.784Z"
   },
   {
    "duration": 35,
    "start_time": "2022-12-14T10:44:46.720Z"
   },
   {
    "duration": 3,
    "start_time": "2022-12-14T10:44:48.091Z"
   },
   {
    "duration": 13,
    "start_time": "2022-12-14T10:44:48.555Z"
   },
   {
    "duration": 25,
    "start_time": "2022-12-14T10:44:48.816Z"
   },
   {
    "duration": 4,
    "start_time": "2022-12-14T10:44:49.161Z"
   },
   {
    "duration": 4,
    "start_time": "2022-12-14T10:44:49.456Z"
   },
   {
    "duration": 11,
    "start_time": "2022-12-14T10:44:49.609Z"
   },
   {
    "duration": 4,
    "start_time": "2022-12-14T10:44:49.716Z"
   },
   {
    "duration": 212,
    "start_time": "2022-12-14T10:44:50.194Z"
   },
   {
    "duration": 27,
    "start_time": "2022-12-14T10:44:50.409Z"
   },
   {
    "duration": 49,
    "start_time": "2022-12-14T10:44:50.834Z"
   },
   {
    "duration": 19,
    "start_time": "2022-12-14T10:44:50.992Z"
   },
   {
    "duration": 79,
    "start_time": "2022-12-14T10:44:51.922Z"
   },
   {
    "duration": 460,
    "start_time": "2022-12-14T10:44:52.177Z"
   },
   {
    "duration": 507,
    "start_time": "2022-12-14T10:44:52.639Z"
   },
   {
    "duration": 1349,
    "start_time": "2022-12-14T10:44:53.148Z"
   },
   {
    "duration": 247,
    "start_time": "2022-12-14T10:44:54.499Z"
   },
   {
    "duration": 2,
    "start_time": "2022-12-14T10:44:54.748Z"
   },
   {
    "duration": 87,
    "start_time": "2022-12-14T10:44:54.752Z"
   },
   {
    "duration": 19,
    "start_time": "2022-12-14T10:44:54.841Z"
   },
   {
    "duration": 19,
    "start_time": "2022-12-14T10:45:09.116Z"
   },
   {
    "duration": 73,
    "start_time": "2022-12-14T10:45:36.060Z"
   },
   {
    "duration": 20,
    "start_time": "2022-12-14T10:45:54.497Z"
   },
   {
    "duration": 75,
    "start_time": "2022-12-14T10:55:38.443Z"
   },
   {
    "duration": 504,
    "start_time": "2022-12-14T10:57:17.250Z"
   },
   {
    "duration": 600,
    "start_time": "2022-12-14T10:57:49.714Z"
   },
   {
    "duration": 951,
    "start_time": "2022-12-14T10:58:31.276Z"
   },
   {
    "duration": 22,
    "start_time": "2022-12-14T10:59:04.467Z"
   },
   {
    "duration": 769,
    "start_time": "2022-12-14T11:03:01.403Z"
   },
   {
    "duration": 21,
    "start_time": "2022-12-14T11:03:04.097Z"
   },
   {
    "duration": 85,
    "start_time": "2022-12-14T11:03:41.505Z"
   },
   {
    "duration": 87,
    "start_time": "2022-12-14T11:04:09.997Z"
   },
   {
    "duration": 5,
    "start_time": "2022-12-14T11:04:14.859Z"
   },
   {
    "duration": 201,
    "start_time": "2022-12-14T11:04:19.435Z"
   },
   {
    "duration": 1556,
    "start_time": "2022-12-14T11:04:23.036Z"
   },
   {
    "duration": 5,
    "start_time": "2022-12-14T11:04:42.153Z"
   },
   {
    "duration": 1269,
    "start_time": "2022-12-14T11:05:22.191Z"
   },
   {
    "duration": 9,
    "start_time": "2022-12-14T11:05:32.383Z"
   },
   {
    "duration": 1174,
    "start_time": "2022-12-14T11:05:37.571Z"
   },
   {
    "duration": 183,
    "start_time": "2022-12-14T11:05:38.747Z"
   },
   {
    "duration": 10,
    "start_time": "2022-12-14T11:05:38.932Z"
   },
   {
    "duration": 20,
    "start_time": "2022-12-14T11:05:38.944Z"
   },
   {
    "duration": 28,
    "start_time": "2022-12-14T11:05:38.966Z"
   },
   {
    "duration": 4,
    "start_time": "2022-12-14T11:05:38.996Z"
   },
   {
    "duration": 5,
    "start_time": "2022-12-14T11:05:39.002Z"
   },
   {
    "duration": 13,
    "start_time": "2022-12-14T11:05:39.013Z"
   },
   {
    "duration": 5,
    "start_time": "2022-12-14T11:05:39.028Z"
   },
   {
    "duration": 220,
    "start_time": "2022-12-14T11:05:39.035Z"
   },
   {
    "duration": 23,
    "start_time": "2022-12-14T11:05:39.257Z"
   },
   {
    "duration": 82,
    "start_time": "2022-12-14T11:05:39.282Z"
   },
   {
    "duration": 18,
    "start_time": "2022-12-14T11:05:39.366Z"
   },
   {
    "duration": 99,
    "start_time": "2022-12-14T11:05:39.388Z"
   },
   {
    "duration": 472,
    "start_time": "2022-12-14T11:05:39.489Z"
   },
   {
    "duration": 562,
    "start_time": "2022-12-14T11:05:39.963Z"
   },
   {
    "duration": 1380,
    "start_time": "2022-12-14T11:05:40.528Z"
   },
   {
    "duration": 256,
    "start_time": "2022-12-14T11:05:41.909Z"
   },
   {
    "duration": 3,
    "start_time": "2022-12-14T11:05:42.166Z"
   },
   {
    "duration": 6,
    "start_time": "2022-12-14T11:05:42.171Z"
   },
   {
    "duration": 37,
    "start_time": "2022-12-14T11:05:42.178Z"
   },
   {
    "duration": 545,
    "start_time": "2022-12-14T11:05:42.217Z"
   },
   {
    "duration": 926,
    "start_time": "2022-12-14T11:05:42.813Z"
   },
   {
    "duration": 20,
    "start_time": "2022-12-14T11:05:43.741Z"
   },
   {
    "duration": 1336,
    "start_time": "2022-12-14T11:05:43.763Z"
   },
   {
    "duration": 51,
    "start_time": "2022-12-14T11:05:56.436Z"
   },
   {
    "duration": 1123,
    "start_time": "2022-12-14T11:06:02.446Z"
   },
   {
    "duration": 166,
    "start_time": "2022-12-14T11:06:03.571Z"
   },
   {
    "duration": 8,
    "start_time": "2022-12-14T11:06:03.738Z"
   },
   {
    "duration": 20,
    "start_time": "2022-12-14T11:06:03.748Z"
   },
   {
    "duration": 30,
    "start_time": "2022-12-14T11:06:03.770Z"
   },
   {
    "duration": 4,
    "start_time": "2022-12-14T11:06:03.802Z"
   },
   {
    "duration": 8,
    "start_time": "2022-12-14T11:06:03.808Z"
   },
   {
    "duration": 14,
    "start_time": "2022-12-14T11:06:03.818Z"
   },
   {
    "duration": 4,
    "start_time": "2022-12-14T11:06:03.834Z"
   },
   {
    "duration": 217,
    "start_time": "2022-12-14T11:06:03.839Z"
   },
   {
    "duration": 18,
    "start_time": "2022-12-14T11:06:04.057Z"
   },
   {
    "duration": 80,
    "start_time": "2022-12-14T11:06:04.076Z"
   },
   {
    "duration": 17,
    "start_time": "2022-12-14T11:06:04.158Z"
   },
   {
    "duration": 101,
    "start_time": "2022-12-14T11:06:04.177Z"
   },
   {
    "duration": 479,
    "start_time": "2022-12-14T11:06:04.280Z"
   },
   {
    "duration": 578,
    "start_time": "2022-12-14T11:06:04.761Z"
   },
   {
    "duration": 1087,
    "start_time": "2022-12-14T11:06:05.341Z"
   },
   {
    "duration": 245,
    "start_time": "2022-12-14T11:06:06.429Z"
   },
   {
    "duration": 2,
    "start_time": "2022-12-14T11:06:06.676Z"
   },
   {
    "duration": 25,
    "start_time": "2022-12-14T11:06:06.680Z"
   },
   {
    "duration": 32,
    "start_time": "2022-12-14T11:06:06.707Z"
   },
   {
    "duration": 574,
    "start_time": "2022-12-14T11:06:06.741Z"
   },
   {
    "duration": 950,
    "start_time": "2022-12-14T11:06:07.317Z"
   },
   {
    "duration": 20,
    "start_time": "2022-12-14T11:06:08.269Z"
   },
   {
    "duration": 328,
    "start_time": "2022-12-14T11:06:08.291Z"
   },
   {
    "duration": 4104,
    "start_time": "2022-12-14T11:06:08.621Z"
   },
   {
    "duration": 6,
    "start_time": "2022-12-14T11:06:12.727Z"
   },
   {
    "duration": 200,
    "start_time": "2022-12-14T11:06:18.022Z"
   },
   {
    "duration": 1627,
    "start_time": "2022-12-14T11:06:19.541Z"
   },
   {
    "duration": 5,
    "start_time": "2022-12-14T11:06:22.123Z"
   },
   {
    "duration": 4,
    "start_time": "2022-12-14T11:07:23.687Z"
   },
   {
    "duration": 59,
    "start_time": "2022-12-14T11:07:37.812Z"
   },
   {
    "duration": 5,
    "start_time": "2022-12-14T11:07:50.370Z"
   },
   {
    "duration": 4,
    "start_time": "2022-12-14T11:08:19.843Z"
   },
   {
    "duration": 65,
    "start_time": "2022-12-14T11:08:24.635Z"
   },
   {
    "duration": 164,
    "start_time": "2022-12-14T11:08:37.900Z"
   },
   {
    "duration": 1803,
    "start_time": "2022-12-14T11:09:06.589Z"
   },
   {
    "duration": 6,
    "start_time": "2022-12-14T11:09:08.971Z"
   },
   {
    "duration": 1640,
    "start_time": "2022-12-14T11:09:14.550Z"
   },
   {
    "duration": 6,
    "start_time": "2022-12-14T11:09:16.346Z"
   },
   {
    "duration": 5,
    "start_time": "2022-12-14T11:09:19.341Z"
   },
   {
    "duration": 70,
    "start_time": "2022-12-14T11:09:20.276Z"
   },
   {
    "duration": 176,
    "start_time": "2022-12-14T11:09:22.309Z"
   },
   {
    "duration": 5,
    "start_time": "2022-12-14T11:09:32.332Z"
   },
   {
    "duration": 161,
    "start_time": "2022-12-14T11:09:58.421Z"
   },
   {
    "duration": 7,
    "start_time": "2022-12-14T11:10:00.851Z"
   },
   {
    "duration": 156,
    "start_time": "2022-12-14T11:10:08.060Z"
   },
   {
    "duration": 208,
    "start_time": "2022-12-14T11:10:48.810Z"
   },
   {
    "duration": 233,
    "start_time": "2022-12-14T11:10:55.180Z"
   },
   {
    "duration": 1428,
    "start_time": "2022-12-14T11:11:07.686Z"
   },
   {
    "duration": 1349,
    "start_time": "2022-12-14T11:11:14.564Z"
   },
   {
    "duration": 906,
    "start_time": "2022-12-14T11:11:56.149Z"
   },
   {
    "duration": 959,
    "start_time": "2022-12-14T11:12:21.274Z"
   },
   {
    "duration": 6588,
    "start_time": "2022-12-14T11:12:31.716Z"
   },
   {
    "duration": 6491,
    "start_time": "2022-12-14T11:12:55.611Z"
   },
   {
    "duration": 3414,
    "start_time": "2022-12-14T11:13:16.372Z"
   },
   {
    "duration": 3538,
    "start_time": "2022-12-14T11:13:39.804Z"
   },
   {
    "duration": 5,
    "start_time": "2022-12-14T11:14:15.979Z"
   },
   {
    "duration": 1140,
    "start_time": "2022-12-14T11:14:21.778Z"
   },
   {
    "duration": 42,
    "start_time": "2022-12-14T11:14:22.921Z"
   },
   {
    "duration": 10,
    "start_time": "2022-12-14T11:14:22.965Z"
   },
   {
    "duration": 18,
    "start_time": "2022-12-14T11:14:22.978Z"
   },
   {
    "duration": 28,
    "start_time": "2022-12-14T11:14:22.998Z"
   },
   {
    "duration": 5,
    "start_time": "2022-12-14T11:14:23.027Z"
   },
   {
    "duration": 5,
    "start_time": "2022-12-14T11:14:23.033Z"
   },
   {
    "duration": 17,
    "start_time": "2022-12-14T11:14:23.040Z"
   },
   {
    "duration": 17,
    "start_time": "2022-12-14T11:14:23.059Z"
   },
   {
    "duration": 224,
    "start_time": "2022-12-14T11:14:23.079Z"
   },
   {
    "duration": 21,
    "start_time": "2022-12-14T11:14:23.305Z"
   },
   {
    "duration": 66,
    "start_time": "2022-12-14T11:14:23.328Z"
   },
   {
    "duration": 32,
    "start_time": "2022-12-14T11:14:23.396Z"
   },
   {
    "duration": 109,
    "start_time": "2022-12-14T11:14:23.430Z"
   },
   {
    "duration": 475,
    "start_time": "2022-12-14T11:14:23.541Z"
   },
   {
    "duration": 521,
    "start_time": "2022-12-14T11:14:24.017Z"
   },
   {
    "duration": 1103,
    "start_time": "2022-12-14T11:14:24.539Z"
   },
   {
    "duration": 242,
    "start_time": "2022-12-14T11:14:25.644Z"
   },
   {
    "duration": 2,
    "start_time": "2022-12-14T11:14:25.889Z"
   },
   {
    "duration": 8,
    "start_time": "2022-12-14T11:14:25.893Z"
   },
   {
    "duration": 22,
    "start_time": "2022-12-14T11:14:25.913Z"
   },
   {
    "duration": 579,
    "start_time": "2022-12-14T11:14:25.937Z"
   },
   {
    "duration": 905,
    "start_time": "2022-12-14T11:14:26.518Z"
   },
   {
    "duration": 21,
    "start_time": "2022-12-14T11:14:27.425Z"
   },
   {
    "duration": 4,
    "start_time": "2022-12-14T11:14:27.448Z"
   },
   {
    "duration": 224,
    "start_time": "2022-12-14T11:14:27.453Z"
   },
   {
    "duration": 1592,
    "start_time": "2022-12-14T11:14:27.678Z"
   },
   {
    "duration": 6,
    "start_time": "2022-12-14T11:14:29.273Z"
   },
   {
    "duration": 22,
    "start_time": "2022-12-14T11:14:29.282Z"
   },
   {
    "duration": 88,
    "start_time": "2022-12-14T11:14:29.306Z"
   },
   {
    "duration": 159,
    "start_time": "2022-12-14T11:14:29.396Z"
   },
   {
    "duration": 6,
    "start_time": "2022-12-14T11:14:29.557Z"
   },
   {
    "duration": 104,
    "start_time": "2022-12-14T11:56:44.825Z"
   },
   {
    "duration": 97,
    "start_time": "2022-12-14T11:58:28.962Z"
   },
   {
    "duration": 129,
    "start_time": "2022-12-14T11:58:34.816Z"
   },
   {
    "duration": 259,
    "start_time": "2022-12-14T11:59:14.124Z"
   },
   {
    "duration": 123,
    "start_time": "2022-12-14T11:59:26.165Z"
   },
   {
    "duration": 159,
    "start_time": "2022-12-14T12:01:26.083Z"
   },
   {
    "duration": 6,
    "start_time": "2022-12-14T12:01:28.269Z"
   },
   {
    "duration": 1090,
    "start_time": "2022-12-14T12:02:09.110Z"
   },
   {
    "duration": 42,
    "start_time": "2022-12-14T12:02:10.201Z"
   },
   {
    "duration": 10,
    "start_time": "2022-12-14T12:02:10.245Z"
   },
   {
    "duration": 23,
    "start_time": "2022-12-14T12:02:10.258Z"
   },
   {
    "duration": 33,
    "start_time": "2022-12-14T12:02:10.283Z"
   },
   {
    "duration": 12,
    "start_time": "2022-12-14T12:02:10.318Z"
   },
   {
    "duration": 20,
    "start_time": "2022-12-14T12:02:10.332Z"
   },
   {
    "duration": 16,
    "start_time": "2022-12-14T12:02:10.354Z"
   },
   {
    "duration": 5,
    "start_time": "2022-12-14T12:02:10.372Z"
   },
   {
    "duration": 215,
    "start_time": "2022-12-14T12:02:10.380Z"
   },
   {
    "duration": 26,
    "start_time": "2022-12-14T12:02:10.597Z"
   },
   {
    "duration": 64,
    "start_time": "2022-12-14T12:02:10.625Z"
   },
   {
    "duration": 29,
    "start_time": "2022-12-14T12:02:10.691Z"
   },
   {
    "duration": 92,
    "start_time": "2022-12-14T12:02:10.721Z"
   },
   {
    "duration": 469,
    "start_time": "2022-12-14T12:02:10.814Z"
   },
   {
    "duration": 548,
    "start_time": "2022-12-14T12:02:11.285Z"
   },
   {
    "duration": 1052,
    "start_time": "2022-12-14T12:02:11.835Z"
   },
   {
    "duration": 249,
    "start_time": "2022-12-14T12:02:12.888Z"
   },
   {
    "duration": 2,
    "start_time": "2022-12-14T12:02:13.139Z"
   },
   {
    "duration": 7,
    "start_time": "2022-12-14T12:02:13.142Z"
   },
   {
    "duration": 26,
    "start_time": "2022-12-14T12:02:13.150Z"
   },
   {
    "duration": 553,
    "start_time": "2022-12-14T12:02:13.178Z"
   },
   {
    "duration": 1002,
    "start_time": "2022-12-14T12:02:13.733Z"
   },
   {
    "duration": 21,
    "start_time": "2022-12-14T12:02:14.737Z"
   },
   {
    "duration": 4,
    "start_time": "2022-12-14T12:02:14.760Z"
   },
   {
    "duration": 213,
    "start_time": "2022-12-14T12:02:14.766Z"
   },
   {
    "duration": 1604,
    "start_time": "2022-12-14T12:02:14.981Z"
   },
   {
    "duration": 16,
    "start_time": "2022-12-14T12:02:16.588Z"
   },
   {
    "duration": 15,
    "start_time": "2022-12-14T12:02:16.606Z"
   },
   {
    "duration": 67,
    "start_time": "2022-12-14T12:02:16.623Z"
   },
   {
    "duration": 157,
    "start_time": "2022-12-14T12:02:16.692Z"
   },
   {
    "duration": 5,
    "start_time": "2022-12-14T12:02:16.851Z"
   },
   {
    "duration": 140,
    "start_time": "2022-12-14T12:02:16.857Z"
   },
   {
    "duration": 1145,
    "start_time": "2022-12-14T12:06:20.681Z"
   },
   {
    "duration": 40,
    "start_time": "2022-12-14T12:06:21.829Z"
   },
   {
    "duration": 8,
    "start_time": "2022-12-14T12:06:21.870Z"
   },
   {
    "duration": 26,
    "start_time": "2022-12-14T12:06:21.879Z"
   },
   {
    "duration": 33,
    "start_time": "2022-12-14T12:06:21.908Z"
   },
   {
    "duration": 5,
    "start_time": "2022-12-14T12:06:21.943Z"
   },
   {
    "duration": 21,
    "start_time": "2022-12-14T12:06:21.950Z"
   },
   {
    "duration": 18,
    "start_time": "2022-12-14T12:06:21.973Z"
   },
   {
    "duration": 41,
    "start_time": "2022-12-14T12:06:21.993Z"
   },
   {
    "duration": 220,
    "start_time": "2022-12-14T12:06:22.036Z"
   },
   {
    "duration": 19,
    "start_time": "2022-12-14T12:06:22.258Z"
   },
   {
    "duration": 83,
    "start_time": "2022-12-14T12:06:22.279Z"
   },
   {
    "duration": 19,
    "start_time": "2022-12-14T12:06:22.364Z"
   },
   {
    "duration": 130,
    "start_time": "2022-12-14T12:06:22.387Z"
   },
   {
    "duration": 479,
    "start_time": "2022-12-14T12:06:22.519Z"
   },
   {
    "duration": 536,
    "start_time": "2022-12-14T12:06:23.000Z"
   },
   {
    "duration": 1115,
    "start_time": "2022-12-14T12:06:23.613Z"
   },
   {
    "duration": 254,
    "start_time": "2022-12-14T12:06:24.731Z"
   },
   {
    "duration": 2,
    "start_time": "2022-12-14T12:06:24.987Z"
   },
   {
    "duration": 10,
    "start_time": "2022-12-14T12:06:24.991Z"
   },
   {
    "duration": 29,
    "start_time": "2022-12-14T12:06:25.003Z"
   },
   {
    "duration": 585,
    "start_time": "2022-12-14T12:06:25.034Z"
   },
   {
    "duration": 950,
    "start_time": "2022-12-14T12:06:25.620Z"
   },
   {
    "duration": 23,
    "start_time": "2022-12-14T12:06:26.572Z"
   },
   {
    "duration": 16,
    "start_time": "2022-12-14T12:06:26.597Z"
   },
   {
    "duration": 209,
    "start_time": "2022-12-14T12:06:26.615Z"
   },
   {
    "duration": 1908,
    "start_time": "2022-12-14T12:06:26.826Z"
   },
   {
    "duration": 5,
    "start_time": "2022-12-14T12:06:28.736Z"
   },
   {
    "duration": 4,
    "start_time": "2022-12-14T12:09:06.276Z"
   },
   {
    "duration": 100,
    "start_time": "2022-12-14T12:09:06.281Z"
   },
   {
    "duration": 1113,
    "start_time": "2022-12-14T12:09:08.096Z"
   },
   {
    "duration": 41,
    "start_time": "2022-12-14T12:09:09.211Z"
   },
   {
    "duration": 8,
    "start_time": "2022-12-14T12:09:09.254Z"
   },
   {
    "duration": 41,
    "start_time": "2022-12-14T12:09:09.263Z"
   },
   {
    "duration": 36,
    "start_time": "2022-12-14T12:09:09.306Z"
   },
   {
    "duration": 32,
    "start_time": "2022-12-14T12:09:09.345Z"
   },
   {
    "duration": 28,
    "start_time": "2022-12-14T12:09:09.380Z"
   },
   {
    "duration": 30,
    "start_time": "2022-12-14T12:09:09.409Z"
   },
   {
    "duration": 39,
    "start_time": "2022-12-14T12:09:09.441Z"
   },
   {
    "duration": 241,
    "start_time": "2022-12-14T12:09:09.482Z"
   },
   {
    "duration": 19,
    "start_time": "2022-12-14T12:09:09.724Z"
   },
   {
    "duration": 73,
    "start_time": "2022-12-14T12:09:09.745Z"
   },
   {
    "duration": 17,
    "start_time": "2022-12-14T12:09:09.820Z"
   },
   {
    "duration": 120,
    "start_time": "2022-12-14T12:09:09.841Z"
   },
   {
    "duration": 509,
    "start_time": "2022-12-14T12:09:09.963Z"
   },
   {
    "duration": 543,
    "start_time": "2022-12-14T12:09:10.474Z"
   },
   {
    "duration": 1089,
    "start_time": "2022-12-14T12:09:11.019Z"
   },
   {
    "duration": 249,
    "start_time": "2022-12-14T12:09:12.110Z"
   },
   {
    "duration": 3,
    "start_time": "2022-12-14T12:09:12.360Z"
   },
   {
    "duration": 23,
    "start_time": "2022-12-14T12:09:12.364Z"
   },
   {
    "duration": 33,
    "start_time": "2022-12-14T12:09:12.389Z"
   },
   {
    "duration": 612,
    "start_time": "2022-12-14T12:09:12.424Z"
   },
   {
    "duration": 907,
    "start_time": "2022-12-14T12:09:13.113Z"
   },
   {
    "duration": 19,
    "start_time": "2022-12-14T12:09:14.022Z"
   },
   {
    "duration": 5,
    "start_time": "2022-12-14T12:09:14.043Z"
   },
   {
    "duration": 208,
    "start_time": "2022-12-14T12:09:14.049Z"
   },
   {
    "duration": 1906,
    "start_time": "2022-12-14T12:09:14.259Z"
   },
   {
    "duration": 5,
    "start_time": "2022-12-14T12:09:16.166Z"
   },
   {
    "duration": 1149,
    "start_time": "2022-12-14T12:10:37.298Z"
   },
   {
    "duration": 165,
    "start_time": "2022-12-14T12:10:39.348Z"
   },
   {
    "duration": 8,
    "start_time": "2022-12-14T12:10:40.042Z"
   },
   {
    "duration": 14,
    "start_time": "2022-12-14T12:10:41.081Z"
   },
   {
    "duration": 29,
    "start_time": "2022-12-14T12:10:42.153Z"
   },
   {
    "duration": 5,
    "start_time": "2022-12-14T12:10:43.146Z"
   },
   {
    "duration": 4,
    "start_time": "2022-12-14T12:10:44.097Z"
   },
   {
    "duration": 12,
    "start_time": "2022-12-14T12:10:44.743Z"
   },
   {
    "duration": 4,
    "start_time": "2022-12-14T12:10:45.257Z"
   },
   {
    "duration": 195,
    "start_time": "2022-12-14T12:10:46.658Z"
   },
   {
    "duration": 17,
    "start_time": "2022-12-14T12:10:47.208Z"
   },
   {
    "duration": 66,
    "start_time": "2022-12-14T12:10:48.684Z"
   },
   {
    "duration": 17,
    "start_time": "2022-12-14T12:10:49.385Z"
   },
   {
    "duration": 88,
    "start_time": "2022-12-14T12:10:51.506Z"
   },
   {
    "duration": 460,
    "start_time": "2022-12-14T12:10:52.154Z"
   },
   {
    "duration": 523,
    "start_time": "2022-12-14T12:10:52.615Z"
   },
   {
    "duration": 957,
    "start_time": "2022-12-14T12:10:54.056Z"
   },
   {
    "duration": 236,
    "start_time": "2022-12-14T12:10:56.395Z"
   },
   {
    "duration": 331,
    "start_time": "2022-12-14T12:11:12.618Z"
   },
   {
    "duration": 1087,
    "start_time": "2022-12-14T12:12:07.714Z"
   },
   {
    "duration": 39,
    "start_time": "2022-12-14T12:12:08.803Z"
   },
   {
    "duration": 11,
    "start_time": "2022-12-14T12:12:09.210Z"
   },
   {
    "duration": 13,
    "start_time": "2022-12-14T12:12:10.514Z"
   },
   {
    "duration": 28,
    "start_time": "2022-12-14T12:12:11.498Z"
   },
   {
    "duration": 5,
    "start_time": "2022-12-14T12:12:12.523Z"
   },
   {
    "duration": 4,
    "start_time": "2022-12-14T12:12:13.505Z"
   },
   {
    "duration": 12,
    "start_time": "2022-12-14T12:12:14.058Z"
   },
   {
    "duration": 6,
    "start_time": "2022-12-14T12:12:14.561Z"
   },
   {
    "duration": 199,
    "start_time": "2022-12-14T12:12:15.790Z"
   },
   {
    "duration": 23,
    "start_time": "2022-12-14T12:12:16.307Z"
   },
   {
    "duration": 68,
    "start_time": "2022-12-14T12:12:17.814Z"
   },
   {
    "duration": 16,
    "start_time": "2022-12-14T12:12:18.355Z"
   },
   {
    "duration": 86,
    "start_time": "2022-12-14T12:12:19.699Z"
   },
   {
    "duration": 485,
    "start_time": "2022-12-14T12:12:20.116Z"
   },
   {
    "duration": 606,
    "start_time": "2022-12-14T12:12:20.708Z"
   },
   {
    "duration": 949,
    "start_time": "2022-12-14T12:12:22.049Z"
   },
   {
    "duration": 252,
    "start_time": "2022-12-14T12:12:23.000Z"
   },
   {
    "duration": 972,
    "start_time": "2022-12-14T12:12:23.541Z"
   },
   {
    "duration": 20,
    "start_time": "2022-12-14T12:12:31.355Z"
   },
   {
    "duration": 576,
    "start_time": "2022-12-14T12:12:37.939Z"
   },
   {
    "duration": 793,
    "start_time": "2022-12-14T12:12:42.442Z"
   },
   {
    "duration": 20,
    "start_time": "2022-12-14T12:12:45.060Z"
   },
   {
    "duration": 4,
    "start_time": "2022-12-14T12:12:56.907Z"
   },
   {
    "duration": 223,
    "start_time": "2022-12-14T12:13:00.242Z"
   },
   {
    "duration": 1885,
    "start_time": "2022-12-14T12:13:01.378Z"
   },
   {
    "duration": 5,
    "start_time": "2022-12-14T12:13:03.389Z"
   },
   {
    "duration": 44790,
    "start_time": "2022-12-14T12:13:20.459Z"
   },
   {
    "duration": 1086,
    "start_time": "2022-12-14T12:16:17.738Z"
   },
   {
    "duration": 40,
    "start_time": "2022-12-14T12:16:18.826Z"
   },
   {
    "duration": 8,
    "start_time": "2022-12-14T12:16:19.854Z"
   },
   {
    "duration": 14,
    "start_time": "2022-12-14T12:16:20.737Z"
   },
   {
    "duration": 27,
    "start_time": "2022-12-14T12:16:21.425Z"
   },
   {
    "duration": 4,
    "start_time": "2022-12-14T12:16:22.217Z"
   },
   {
    "duration": 5,
    "start_time": "2022-12-14T12:16:22.943Z"
   },
   {
    "duration": 17,
    "start_time": "2022-12-14T12:16:23.390Z"
   },
   {
    "duration": 4,
    "start_time": "2022-12-14T12:16:23.739Z"
   },
   {
    "duration": 196,
    "start_time": "2022-12-14T12:16:25.045Z"
   },
   {
    "duration": 23,
    "start_time": "2022-12-14T12:16:25.569Z"
   },
   {
    "duration": 69,
    "start_time": "2022-12-14T12:16:26.895Z"
   },
   {
    "duration": 17,
    "start_time": "2022-12-14T12:16:27.606Z"
   },
   {
    "duration": 86,
    "start_time": "2022-12-14T12:16:29.497Z"
   },
   {
    "duration": 496,
    "start_time": "2022-12-14T12:16:30.704Z"
   },
   {
    "duration": 485,
    "start_time": "2022-12-14T12:16:31.751Z"
   },
   {
    "duration": 913,
    "start_time": "2022-12-14T12:16:37.150Z"
   },
   {
    "duration": 242,
    "start_time": "2022-12-14T12:16:38.810Z"
   },
   {
    "duration": 932,
    "start_time": "2022-12-14T12:16:42.519Z"
   },
   {
    "duration": 21,
    "start_time": "2022-12-14T12:16:49.280Z"
   },
   {
    "duration": 529,
    "start_time": "2022-12-14T12:16:53.311Z"
   },
   {
    "duration": 786,
    "start_time": "2022-12-14T12:16:56.154Z"
   },
   {
    "duration": 21,
    "start_time": "2022-12-14T12:16:58.296Z"
   },
   {
    "duration": 4,
    "start_time": "2022-12-14T12:17:07.137Z"
   },
   {
    "duration": 213,
    "start_time": "2022-12-14T12:17:10.625Z"
   },
   {
    "duration": 1867,
    "start_time": "2022-12-14T12:17:11.655Z"
   },
   {
    "duration": 7,
    "start_time": "2022-12-14T12:17:14.577Z"
   },
   {
    "duration": 52251,
    "start_time": "2022-12-14T12:17:18.632Z"
   },
   {
    "duration": 44496,
    "start_time": "2022-12-14T12:18:34.158Z"
   },
   {
    "duration": 35267,
    "start_time": "2022-12-14T12:20:25.795Z"
   },
   {
    "duration": 18014,
    "start_time": "2022-12-14T12:21:07.594Z"
   },
   {
    "duration": 13799,
    "start_time": "2022-12-14T12:21:45.949Z"
   },
   {
    "duration": 4,
    "start_time": "2022-12-14T12:22:48.053Z"
   },
   {
    "duration": 67,
    "start_time": "2022-12-14T12:22:50.237Z"
   },
   {
    "duration": 162,
    "start_time": "2022-12-14T12:22:52.475Z"
   },
   {
    "duration": 6,
    "start_time": "2022-12-14T12:22:54.722Z"
   },
   {
    "duration": 13792,
    "start_time": "2022-12-14T12:23:11.837Z"
   },
   {
    "duration": 101,
    "start_time": "2022-12-14T12:25:36.963Z"
   },
   {
    "duration": 4647,
    "start_time": "2022-12-14T12:26:13.444Z"
   },
   {
    "duration": 75,
    "start_time": "2022-12-14T12:26:26.364Z"
   },
   {
    "duration": 90,
    "start_time": "2022-12-14T12:26:30.993Z"
   },
   {
    "duration": 4723,
    "start_time": "2022-12-14T12:26:39.346Z"
   },
   {
    "duration": 4577,
    "start_time": "2022-12-14T12:26:53.356Z"
   },
   {
    "duration": 40359,
    "start_time": "2022-12-14T12:27:11.787Z"
   },
   {
    "duration": 16719,
    "start_time": "2022-12-14T12:28:11.953Z"
   },
   {
    "duration": 7342,
    "start_time": "2022-12-14T12:28:53.821Z"
   },
   {
    "duration": 6861,
    "start_time": "2022-12-14T12:29:06.798Z"
   },
   {
    "duration": 6103,
    "start_time": "2022-12-14T12:29:19.638Z"
   },
   {
    "duration": 6143,
    "start_time": "2022-12-14T12:29:46.648Z"
   },
   {
    "duration": 6418,
    "start_time": "2022-12-14T12:30:03.485Z"
   },
   {
    "duration": 53575,
    "start_time": "2022-12-14T12:30:23.484Z"
   },
   {
    "duration": 14924,
    "start_time": "2022-12-14T12:31:31.677Z"
   },
   {
    "duration": 29393,
    "start_time": "2022-12-14T12:32:28.953Z"
   },
   {
    "duration": 25665,
    "start_time": "2022-12-14T12:34:09.221Z"
   },
   {
    "duration": 361,
    "start_time": "2022-12-14T12:35:23.208Z"
   },
   {
    "duration": 6,
    "start_time": "2022-12-14T12:35:25.475Z"
   },
   {
    "duration": 25348,
    "start_time": "2022-12-14T12:35:38.168Z"
   },
   {
    "duration": 72374,
    "start_time": "2022-12-14T12:36:12.525Z"
   },
   {
    "duration": 79337,
    "start_time": "2022-12-14T12:37:28.324Z"
   },
   {
    "duration": 11920,
    "start_time": "2022-12-14T12:39:49.558Z"
   },
   {
    "duration": 47,
    "start_time": "2022-12-14T12:40:17.843Z"
   },
   {
    "duration": 42025,
    "start_time": "2022-12-14T12:40:41.508Z"
   },
   {
    "duration": 11331,
    "start_time": "2022-12-14T12:41:36.908Z"
   },
   {
    "duration": 36800,
    "start_time": "2022-12-14T12:41:55.189Z"
   },
   {
    "duration": 10698,
    "start_time": "2022-12-14T12:42:40.827Z"
   },
   {
    "duration": 1124,
    "start_time": "2022-12-14T12:45:26.899Z"
   },
   {
    "duration": 40,
    "start_time": "2022-12-14T12:45:28.025Z"
   },
   {
    "duration": 9,
    "start_time": "2022-12-14T12:45:28.067Z"
   },
   {
    "duration": 17,
    "start_time": "2022-12-14T12:45:28.077Z"
   },
   {
    "duration": 28,
    "start_time": "2022-12-14T12:45:28.096Z"
   },
   {
    "duration": 4,
    "start_time": "2022-12-14T12:45:28.126Z"
   },
   {
    "duration": 6,
    "start_time": "2022-12-14T12:45:28.132Z"
   },
   {
    "duration": 15,
    "start_time": "2022-12-14T12:45:28.139Z"
   },
   {
    "duration": 5,
    "start_time": "2022-12-14T12:45:28.156Z"
   },
   {
    "duration": 218,
    "start_time": "2022-12-14T12:45:28.163Z"
   },
   {
    "duration": 18,
    "start_time": "2022-12-14T12:45:28.383Z"
   },
   {
    "duration": 2,
    "start_time": "2022-12-14T12:45:28.413Z"
   },
   {
    "duration": 19,
    "start_time": "2022-12-14T12:45:28.417Z"
   },
   {
    "duration": 136,
    "start_time": "2022-12-14T12:45:28.440Z"
   },
   {
    "duration": 466,
    "start_time": "2022-12-14T12:45:28.578Z"
   },
   {
    "duration": 498,
    "start_time": "2022-12-14T12:45:29.046Z"
   },
   {
    "duration": 1409,
    "start_time": "2022-12-14T12:45:29.545Z"
   },
   {
    "duration": 245,
    "start_time": "2022-12-14T12:45:30.955Z"
   },
   {
    "duration": 922,
    "start_time": "2022-12-14T12:45:31.202Z"
   },
   {
    "duration": 3,
    "start_time": "2022-12-14T12:45:32.125Z"
   },
   {
    "duration": 44,
    "start_time": "2022-12-14T12:45:32.129Z"
   },
   {
    "duration": 564,
    "start_time": "2022-12-14T12:45:32.175Z"
   },
   {
    "duration": 960,
    "start_time": "2022-12-14T12:45:32.740Z"
   },
   {
    "duration": 29,
    "start_time": "2022-12-14T12:45:33.701Z"
   },
   {
    "duration": 4,
    "start_time": "2022-12-14T12:45:33.732Z"
   },
   {
    "duration": 256,
    "start_time": "2022-12-14T12:45:33.738Z"
   },
   {
    "duration": 1947,
    "start_time": "2022-12-14T12:45:33.995Z"
   },
   {
    "duration": 5,
    "start_time": "2022-12-14T12:45:35.944Z"
   },
   {
    "duration": 11006,
    "start_time": "2022-12-14T12:45:35.950Z"
   },
   {
    "duration": 4,
    "start_time": "2022-12-14T12:45:46.958Z"
   },
   {
    "duration": 122,
    "start_time": "2022-12-14T12:45:46.964Z"
   },
   {
    "duration": 182,
    "start_time": "2022-12-14T12:45:47.088Z"
   },
   {
    "duration": 6,
    "start_time": "2022-12-14T12:45:47.272Z"
   },
   {
    "duration": 82884,
    "start_time": "2022-12-14T12:45:47.280Z"
   },
   {
    "duration": 987,
    "start_time": "2022-12-14T12:47:27.178Z"
   },
   {
    "duration": 6,
    "start_time": "2022-12-14T12:47:31.882Z"
   },
   {
    "duration": 722,
    "start_time": "2022-12-14T12:47:40.090Z"
   },
   {
    "duration": 5,
    "start_time": "2022-12-14T12:47:42.378Z"
   },
   {
    "duration": 59,
    "start_time": "2022-12-14T12:47:48.354Z"
   },
   {
    "duration": 159,
    "start_time": "2022-12-14T12:47:50.620Z"
   },
   {
    "duration": 6,
    "start_time": "2022-12-14T12:47:53.402Z"
   },
   {
    "duration": 161,
    "start_time": "2022-12-14T12:48:01.386Z"
   },
   {
    "duration": 5,
    "start_time": "2022-12-14T12:48:03.298Z"
   },
   {
    "duration": 20,
    "start_time": "2022-12-14T12:48:23.706Z"
   },
   {
    "duration": 2,
    "start_time": "2022-12-14T12:48:35.796Z"
   },
   {
    "duration": 3,
    "start_time": "2022-12-14T12:48:37.705Z"
   },
   {
    "duration": 11004,
    "start_time": "2022-12-14T12:49:30.668Z"
   },
   {
    "duration": 1104,
    "start_time": "2022-12-14T12:50:14.717Z"
   },
   {
    "duration": 41,
    "start_time": "2022-12-14T12:50:15.823Z"
   },
   {
    "duration": 10,
    "start_time": "2022-12-14T12:50:15.865Z"
   },
   {
    "duration": 26,
    "start_time": "2022-12-14T12:50:15.876Z"
   },
   {
    "duration": 28,
    "start_time": "2022-12-14T12:50:15.904Z"
   },
   {
    "duration": 5,
    "start_time": "2022-12-14T12:50:15.933Z"
   },
   {
    "duration": 23,
    "start_time": "2022-12-14T12:50:15.939Z"
   },
   {
    "duration": 21,
    "start_time": "2022-12-14T12:50:15.964Z"
   },
   {
    "duration": 5,
    "start_time": "2022-12-14T12:50:15.986Z"
   },
   {
    "duration": 199,
    "start_time": "2022-12-14T12:50:15.992Z"
   },
   {
    "duration": 24,
    "start_time": "2022-12-14T12:50:16.193Z"
   },
   {
    "duration": 66,
    "start_time": "2022-12-14T12:50:16.219Z"
   },
   {
    "duration": 36,
    "start_time": "2022-12-14T12:50:16.287Z"
   },
   {
    "duration": 100,
    "start_time": "2022-12-14T12:50:16.327Z"
   },
   {
    "duration": 464,
    "start_time": "2022-12-14T12:50:16.429Z"
   },
   {
    "duration": 545,
    "start_time": "2022-12-14T12:50:16.894Z"
   },
   {
    "duration": 1054,
    "start_time": "2022-12-14T12:50:17.440Z"
   },
   {
    "duration": 248,
    "start_time": "2022-12-14T12:50:18.495Z"
   },
   {
    "duration": 2,
    "start_time": "2022-12-14T12:50:18.745Z"
   },
   {
    "duration": 10,
    "start_time": "2022-12-14T12:50:18.749Z"
   },
   {
    "duration": 25,
    "start_time": "2022-12-14T12:50:18.761Z"
   },
   {
    "duration": 552,
    "start_time": "2022-12-14T12:50:18.788Z"
   },
   {
    "duration": 948,
    "start_time": "2022-12-14T12:50:19.341Z"
   },
   {
    "duration": 32,
    "start_time": "2022-12-14T12:50:20.291Z"
   },
   {
    "duration": 17,
    "start_time": "2022-12-14T12:50:20.325Z"
   },
   {
    "duration": 221,
    "start_time": "2022-12-14T12:50:20.345Z"
   },
   {
    "duration": 1880,
    "start_time": "2022-12-14T12:50:20.568Z"
   },
   {
    "duration": 6,
    "start_time": "2022-12-14T12:50:22.450Z"
   },
   {
    "duration": 10935,
    "start_time": "2022-12-14T12:50:22.458Z"
   },
   {
    "duration": 4,
    "start_time": "2022-12-14T12:50:33.395Z"
   },
   {
    "duration": 92,
    "start_time": "2022-12-14T12:50:33.401Z"
   },
   {
    "duration": 170,
    "start_time": "2022-12-14T12:50:33.495Z"
   },
   {
    "duration": 6,
    "start_time": "2022-12-14T12:50:33.667Z"
   },
   {
    "duration": 79470,
    "start_time": "2022-12-14T12:50:33.674Z"
   },
   {
    "duration": 1663,
    "start_time": "2022-12-14T12:51:53.339Z"
   },
   {
    "duration": 1596,
    "start_time": "2022-12-14T12:52:25.488Z"
   },
   {
    "duration": 6,
    "start_time": "2022-12-14T12:53:00.687Z"
   },
   {
    "duration": 5,
    "start_time": "2022-12-14T12:53:08.584Z"
   },
   {
    "duration": 7,
    "start_time": "2022-12-14T12:53:21.759Z"
   },
   {
    "duration": 7,
    "start_time": "2022-12-14T12:53:48.208Z"
   },
   {
    "duration": 12,
    "start_time": "2022-12-14T12:54:25.386Z"
   },
   {
    "duration": 4,
    "start_time": "2022-12-14T12:55:15.489Z"
   },
   {
    "duration": 162,
    "start_time": "2022-12-14T12:59:09.031Z"
   },
   {
    "duration": 166,
    "start_time": "2022-12-14T12:59:22.207Z"
   },
   {
    "duration": 162,
    "start_time": "2022-12-14T12:59:26.233Z"
   },
   {
    "duration": 345,
    "start_time": "2022-12-14T13:00:01.375Z"
   },
   {
    "duration": 168,
    "start_time": "2022-12-14T13:00:10.399Z"
   },
   {
    "duration": 168,
    "start_time": "2022-12-14T13:00:14.823Z"
   },
   {
    "duration": 126,
    "start_time": "2022-12-14T13:01:00.200Z"
   },
   {
    "duration": 404,
    "start_time": "2022-12-14T13:01:42.304Z"
   },
   {
    "duration": 67,
    "start_time": "2022-12-14T13:02:14.823Z"
   },
   {
    "duration": 3,
    "start_time": "2022-12-14T13:02:22.376Z"
   },
   {
    "duration": 154,
    "start_time": "2022-12-14T13:02:36.544Z"
   },
   {
    "duration": 159,
    "start_time": "2022-12-14T13:02:51.080Z"
   },
   {
    "duration": 135,
    "start_time": "2022-12-14T13:02:56.617Z"
   },
   {
    "duration": 50,
    "start_time": "2022-12-14T13:03:46.544Z"
   },
   {
    "duration": 42,
    "start_time": "2022-12-14T13:04:06.463Z"
   },
   {
    "duration": 45,
    "start_time": "2022-12-14T13:04:19.320Z"
   },
   {
    "duration": 4,
    "start_time": "2022-12-14T13:04:30.511Z"
   },
   {
    "duration": 142,
    "start_time": "2022-12-14T13:04:38.449Z"
   },
   {
    "duration": 43,
    "start_time": "2022-12-14T13:05:33.939Z"
   },
   {
    "duration": 4,
    "start_time": "2022-12-14T13:05:38.842Z"
   },
   {
    "duration": 37,
    "start_time": "2022-12-14T13:05:43.079Z"
   },
   {
    "duration": 1359,
    "start_time": "2022-12-14T13:11:11.119Z"
   },
   {
    "duration": 40,
    "start_time": "2022-12-14T13:11:12.480Z"
   },
   {
    "duration": 5,
    "start_time": "2022-12-14T13:11:12.522Z"
   },
   {
    "duration": 17,
    "start_time": "2022-12-14T13:11:12.529Z"
   },
   {
    "duration": 29,
    "start_time": "2022-12-14T13:11:12.549Z"
   },
   {
    "duration": 4,
    "start_time": "2022-12-14T13:11:12.580Z"
   },
   {
    "duration": 5,
    "start_time": "2022-12-14T13:11:12.585Z"
   },
   {
    "duration": 31,
    "start_time": "2022-12-14T13:11:12.591Z"
   },
   {
    "duration": 4,
    "start_time": "2022-12-14T13:11:12.624Z"
   },
   {
    "duration": 110,
    "start_time": "2022-12-14T13:11:12.629Z"
   },
   {
    "duration": 0,
    "start_time": "2022-12-14T13:11:12.741Z"
   },
   {
    "duration": 0,
    "start_time": "2022-12-14T13:11:12.742Z"
   },
   {
    "duration": 0,
    "start_time": "2022-12-14T13:11:12.743Z"
   },
   {
    "duration": 0,
    "start_time": "2022-12-14T13:11:12.745Z"
   },
   {
    "duration": 0,
    "start_time": "2022-12-14T13:11:12.746Z"
   },
   {
    "duration": 0,
    "start_time": "2022-12-14T13:11:12.747Z"
   },
   {
    "duration": 0,
    "start_time": "2022-12-14T13:11:12.748Z"
   },
   {
    "duration": 0,
    "start_time": "2022-12-14T13:11:12.749Z"
   },
   {
    "duration": 0,
    "start_time": "2022-12-14T13:11:12.750Z"
   },
   {
    "duration": 0,
    "start_time": "2022-12-14T13:11:12.751Z"
   },
   {
    "duration": 0,
    "start_time": "2022-12-14T13:11:12.752Z"
   },
   {
    "duration": 0,
    "start_time": "2022-12-14T13:11:12.753Z"
   },
   {
    "duration": 0,
    "start_time": "2022-12-14T13:11:12.754Z"
   },
   {
    "duration": 0,
    "start_time": "2022-12-14T13:11:12.755Z"
   },
   {
    "duration": 0,
    "start_time": "2022-12-14T13:11:12.756Z"
   },
   {
    "duration": 0,
    "start_time": "2022-12-14T13:11:12.757Z"
   },
   {
    "duration": 0,
    "start_time": "2022-12-14T13:11:12.757Z"
   },
   {
    "duration": 0,
    "start_time": "2022-12-14T13:11:12.759Z"
   },
   {
    "duration": 0,
    "start_time": "2022-12-14T13:11:12.759Z"
   },
   {
    "duration": 0,
    "start_time": "2022-12-14T13:11:12.760Z"
   },
   {
    "duration": 0,
    "start_time": "2022-12-14T13:11:12.761Z"
   },
   {
    "duration": 0,
    "start_time": "2022-12-14T13:11:12.764Z"
   },
   {
    "duration": 0,
    "start_time": "2022-12-14T13:11:12.764Z"
   },
   {
    "duration": 0,
    "start_time": "2022-12-14T13:11:12.766Z"
   },
   {
    "duration": 0,
    "start_time": "2022-12-14T13:11:12.767Z"
   },
   {
    "duration": 0,
    "start_time": "2022-12-14T13:11:12.769Z"
   },
   {
    "duration": 0,
    "start_time": "2022-12-14T13:11:12.770Z"
   },
   {
    "duration": 0,
    "start_time": "2022-12-14T13:11:12.814Z"
   },
   {
    "duration": 0,
    "start_time": "2022-12-14T13:11:12.815Z"
   },
   {
    "duration": 0,
    "start_time": "2022-12-14T13:11:12.816Z"
   },
   {
    "duration": 0,
    "start_time": "2022-12-14T13:11:12.817Z"
   },
   {
    "duration": 4,
    "start_time": "2022-12-14T13:11:34.454Z"
   },
   {
    "duration": 11,
    "start_time": "2022-12-14T13:11:35.709Z"
   },
   {
    "duration": 12,
    "start_time": "2022-12-14T13:11:36.378Z"
   },
   {
    "duration": 7,
    "start_time": "2022-12-14T13:11:41.470Z"
   },
   {
    "duration": 11,
    "start_time": "2022-12-14T13:11:42.490Z"
   },
   {
    "duration": 9,
    "start_time": "2022-12-14T13:11:49.034Z"
   },
   {
    "duration": 40,
    "start_time": "2022-12-14T13:11:49.651Z"
   },
   {
    "duration": 57,
    "start_time": "2022-12-14T13:11:50.559Z"
   },
   {
    "duration": 45,
    "start_time": "2022-12-14T13:11:54.138Z"
   },
   {
    "duration": 13,
    "start_time": "2022-12-14T13:11:56.445Z"
   },
   {
    "duration": 2,
    "start_time": "2022-12-14T13:11:58.779Z"
   },
   {
    "duration": 3,
    "start_time": "2022-12-14T13:11:59.692Z"
   },
   {
    "duration": 22,
    "start_time": "2022-12-14T13:12:03.621Z"
   },
   {
    "duration": 84,
    "start_time": "2022-12-14T13:12:32.829Z"
   },
   {
    "duration": 46,
    "start_time": "2022-12-14T13:12:34.963Z"
   },
   {
    "duration": 19,
    "start_time": "2022-12-14T13:12:37.341Z"
   },
   {
    "duration": 5,
    "start_time": "2022-12-14T13:12:50.082Z"
   },
   {
    "duration": 18,
    "start_time": "2022-12-14T13:12:52.507Z"
   },
   {
    "duration": 77,
    "start_time": "2022-12-14T13:12:53.780Z"
   },
   {
    "duration": 5,
    "start_time": "2022-12-14T13:12:54.980Z"
   },
   {
    "duration": 77,
    "start_time": "2022-12-14T13:13:03.341Z"
   },
   {
    "duration": 5,
    "start_time": "2022-12-14T13:13:04.246Z"
   },
   {
    "duration": 546,
    "start_time": "2022-12-14T13:13:13.675Z"
   },
   {
    "duration": 1587,
    "start_time": "2022-12-14T13:13:26.570Z"
   },
   {
    "duration": 2917,
    "start_time": "2022-12-14T13:13:32.419Z"
   },
   {
    "duration": 4,
    "start_time": "2022-12-14T13:13:41.708Z"
   },
   {
    "duration": 10,
    "start_time": "2022-12-14T13:13:43.939Z"
   },
   {
    "duration": 19,
    "start_time": "2022-12-14T13:13:44.962Z"
   },
   {
    "duration": 5,
    "start_time": "2022-12-14T13:13:45.751Z"
   },
   {
    "duration": 5401,
    "start_time": "2022-12-14T13:13:47.810Z"
   },
   {
    "duration": 85,
    "start_time": "2022-12-14T13:13:58.692Z"
   },
   {
    "duration": 9,
    "start_time": "2022-12-14T13:14:01.523Z"
   },
   {
    "duration": 10,
    "start_time": "2022-12-14T13:14:03.740Z"
   },
   {
    "duration": 115,
    "start_time": "2022-12-14T13:14:05.979Z"
   },
   {
    "duration": 123,
    "start_time": "2022-12-14T13:14:08.187Z"
   },
   {
    "duration": 9,
    "start_time": "2022-12-14T13:14:10.931Z"
   },
   {
    "duration": 1307,
    "start_time": "2022-12-14T13:14:31.413Z"
   },
   {
    "duration": 40,
    "start_time": "2022-12-14T13:14:32.722Z"
   },
   {
    "duration": 5,
    "start_time": "2022-12-14T13:14:32.764Z"
   },
   {
    "duration": 16,
    "start_time": "2022-12-14T13:14:32.770Z"
   },
   {
    "duration": 27,
    "start_time": "2022-12-14T13:14:32.788Z"
   },
   {
    "duration": 4,
    "start_time": "2022-12-14T13:14:32.817Z"
   },
   {
    "duration": 6,
    "start_time": "2022-12-14T13:14:32.823Z"
   },
   {
    "duration": 14,
    "start_time": "2022-12-14T13:14:32.831Z"
   },
   {
    "duration": 5,
    "start_time": "2022-12-14T13:14:32.847Z"
   },
   {
    "duration": 4,
    "start_time": "2022-12-14T13:14:32.854Z"
   },
   {
    "duration": 216,
    "start_time": "2022-12-14T13:14:32.860Z"
   },
   {
    "duration": 17,
    "start_time": "2022-12-14T13:14:33.078Z"
   },
   {
    "duration": 76,
    "start_time": "2022-12-14T13:14:33.097Z"
   },
   {
    "duration": 19,
    "start_time": "2022-12-14T13:14:33.176Z"
   },
   {
    "duration": 85,
    "start_time": "2022-12-14T13:14:33.213Z"
   },
   {
    "duration": 468,
    "start_time": "2022-12-14T13:14:33.300Z"
   },
   {
    "duration": 555,
    "start_time": "2022-12-14T13:14:33.770Z"
   },
   {
    "duration": 1106,
    "start_time": "2022-12-14T13:14:34.328Z"
   },
   {
    "duration": 242,
    "start_time": "2022-12-14T13:14:35.435Z"
   },
   {
    "duration": 2,
    "start_time": "2022-12-14T13:14:35.679Z"
   },
   {
    "duration": 12,
    "start_time": "2022-12-14T13:14:35.683Z"
   },
   {
    "duration": 30,
    "start_time": "2022-12-14T13:14:35.697Z"
   },
   {
    "duration": 585,
    "start_time": "2022-12-14T13:14:35.729Z"
   },
   {
    "duration": 888,
    "start_time": "2022-12-14T13:14:36.315Z"
   },
   {
    "duration": 21,
    "start_time": "2022-12-14T13:14:37.205Z"
   },
   {
    "duration": 7,
    "start_time": "2022-12-14T13:14:37.228Z"
   },
   {
    "duration": 216,
    "start_time": "2022-12-14T13:14:37.237Z"
   },
   {
    "duration": 1625,
    "start_time": "2022-12-14T13:14:37.454Z"
   },
   {
    "duration": 5,
    "start_time": "2022-12-14T13:14:39.081Z"
   },
   {
    "duration": 20156,
    "start_time": "2022-12-14T13:14:39.088Z"
   },
   {
    "duration": 0,
    "start_time": "2022-12-14T13:14:59.246Z"
   },
   {
    "duration": 0,
    "start_time": "2022-12-14T13:14:59.247Z"
   },
   {
    "duration": 0,
    "start_time": "2022-12-14T13:14:59.248Z"
   },
   {
    "duration": 0,
    "start_time": "2022-12-14T13:14:59.249Z"
   },
   {
    "duration": 0,
    "start_time": "2022-12-14T13:14:59.250Z"
   },
   {
    "duration": 0,
    "start_time": "2022-12-14T13:14:59.251Z"
   },
   {
    "duration": 0,
    "start_time": "2022-12-14T13:14:59.253Z"
   },
   {
    "duration": 0,
    "start_time": "2022-12-14T13:14:59.254Z"
   },
   {
    "duration": 0,
    "start_time": "2022-12-14T13:14:59.255Z"
   },
   {
    "duration": 0,
    "start_time": "2022-12-14T13:14:59.256Z"
   },
   {
    "duration": 0,
    "start_time": "2022-12-14T13:14:59.258Z"
   },
   {
    "duration": 1338,
    "start_time": "2022-12-14T13:15:07.675Z"
   },
   {
    "duration": 43,
    "start_time": "2022-12-14T13:15:10.307Z"
   },
   {
    "duration": 5,
    "start_time": "2022-12-14T13:15:10.860Z"
   },
   {
    "duration": 15,
    "start_time": "2022-12-14T13:15:11.404Z"
   },
   {
    "duration": 25,
    "start_time": "2022-12-14T13:15:12.011Z"
   },
   {
    "duration": 5,
    "start_time": "2022-12-14T13:15:12.555Z"
   },
   {
    "duration": 3,
    "start_time": "2022-12-14T13:15:13.243Z"
   },
   {
    "duration": 12,
    "start_time": "2022-12-14T13:15:13.594Z"
   },
   {
    "duration": 5,
    "start_time": "2022-12-14T13:15:13.922Z"
   },
   {
    "duration": 2,
    "start_time": "2022-12-14T13:15:15.971Z"
   },
   {
    "duration": 201,
    "start_time": "2022-12-14T13:15:16.371Z"
   },
   {
    "duration": 19,
    "start_time": "2022-12-14T13:15:17.178Z"
   },
   {
    "duration": 66,
    "start_time": "2022-12-14T13:15:29.204Z"
   },
   {
    "duration": 17,
    "start_time": "2022-12-14T13:15:30.019Z"
   },
   {
    "duration": 87,
    "start_time": "2022-12-14T13:15:35.123Z"
   },
   {
    "duration": 472,
    "start_time": "2022-12-14T13:15:39.875Z"
   },
   {
    "duration": 476,
    "start_time": "2022-12-14T13:15:42.571Z"
   },
   {
    "duration": 894,
    "start_time": "2022-12-14T13:15:46.043Z"
   },
   {
    "duration": 238,
    "start_time": "2022-12-14T13:15:48.932Z"
   },
   {
    "duration": 157359,
    "start_time": "2022-12-14T13:16:49.418Z"
   },
   {
    "duration": 22,
    "start_time": "2022-12-14T13:39:16.163Z"
   },
   {
    "duration": 539,
    "start_time": "2022-12-14T13:39:25.388Z"
   },
   {
    "duration": 786,
    "start_time": "2022-12-14T13:39:26.595Z"
   },
   {
    "duration": 22,
    "start_time": "2022-12-14T13:39:28.091Z"
   },
   {
    "duration": 4,
    "start_time": "2022-12-14T13:39:32.580Z"
   },
   {
    "duration": 227,
    "start_time": "2022-12-14T13:39:34.475Z"
   },
   {
    "duration": 1642,
    "start_time": "2022-12-14T13:39:35.556Z"
   },
   {
    "duration": 5,
    "start_time": "2022-12-14T13:39:38.117Z"
   },
   {
    "duration": 1482,
    "start_time": "2022-12-14T13:40:01.955Z"
   },
   {
    "duration": 41,
    "start_time": "2022-12-14T13:40:03.439Z"
   },
   {
    "duration": 5,
    "start_time": "2022-12-14T13:40:03.482Z"
   },
   {
    "duration": 18,
    "start_time": "2022-12-14T13:40:03.489Z"
   },
   {
    "duration": 27,
    "start_time": "2022-12-14T13:40:03.509Z"
   },
   {
    "duration": 4,
    "start_time": "2022-12-14T13:40:03.537Z"
   },
   {
    "duration": 5,
    "start_time": "2022-12-14T13:40:03.543Z"
   },
   {
    "duration": 15,
    "start_time": "2022-12-14T13:40:03.549Z"
   },
   {
    "duration": 5,
    "start_time": "2022-12-14T13:40:03.566Z"
   },
   {
    "duration": 4,
    "start_time": "2022-12-14T13:40:03.573Z"
   },
   {
    "duration": 229,
    "start_time": "2022-12-14T13:40:03.579Z"
   },
   {
    "duration": 17,
    "start_time": "2022-12-14T13:40:03.810Z"
   },
   {
    "duration": 66,
    "start_time": "2022-12-14T13:40:03.829Z"
   },
   {
    "duration": 31,
    "start_time": "2022-12-14T13:40:03.898Z"
   },
   {
    "duration": 99,
    "start_time": "2022-12-14T13:40:03.931Z"
   },
   {
    "duration": 453,
    "start_time": "2022-12-14T13:40:04.032Z"
   },
   {
    "duration": 457,
    "start_time": "2022-12-14T13:40:04.487Z"
   },
   {
    "duration": 1005,
    "start_time": "2022-12-14T13:40:05.014Z"
   },
   {
    "duration": 245,
    "start_time": "2022-12-14T13:40:06.021Z"
   },
   {
    "duration": 2,
    "start_time": "2022-12-14T13:40:06.268Z"
   },
   {
    "duration": 11,
    "start_time": "2022-12-14T13:40:06.272Z"
   },
   {
    "duration": 29,
    "start_time": "2022-12-14T13:40:06.284Z"
   },
   {
    "duration": 530,
    "start_time": "2022-12-14T13:40:06.315Z"
   },
   {
    "duration": 809,
    "start_time": "2022-12-14T13:40:07.014Z"
   },
   {
    "duration": 21,
    "start_time": "2022-12-14T13:40:07.825Z"
   },
   {
    "duration": 4,
    "start_time": "2022-12-14T13:40:07.848Z"
   },
   {
    "duration": 248,
    "start_time": "2022-12-14T13:40:07.853Z"
   },
   {
    "duration": 1643,
    "start_time": "2022-12-14T13:40:08.103Z"
   },
   {
    "duration": 6,
    "start_time": "2022-12-14T13:40:09.748Z"
   },
   {
    "duration": 11303,
    "start_time": "2022-12-14T13:40:09.756Z"
   },
   {
    "duration": 4,
    "start_time": "2022-12-14T13:40:21.061Z"
   },
   {
    "duration": 66,
    "start_time": "2022-12-14T13:40:21.067Z"
   },
   {
    "duration": 174,
    "start_time": "2022-12-14T13:40:21.135Z"
   },
   {
    "duration": 6,
    "start_time": "2022-12-14T13:40:21.312Z"
   },
   {
    "duration": 79394,
    "start_time": "2022-12-14T13:40:21.319Z"
   },
   {
    "duration": 1673,
    "start_time": "2022-12-14T13:41:40.714Z"
   },
   {
    "duration": 10,
    "start_time": "2022-12-14T13:41:42.389Z"
   },
   {
    "duration": 190,
    "start_time": "2022-12-14T13:41:42.401Z"
   },
   {
    "duration": 175,
    "start_time": "2022-12-14T13:41:42.593Z"
   },
   {
    "duration": 173,
    "start_time": "2022-12-14T13:41:42.769Z"
   },
   {
    "duration": 53,
    "start_time": "2022-12-14T13:41:42.945Z"
   },
   {
    "duration": 85,
    "start_time": "2022-12-14T20:00:01.223Z"
   },
   {
    "duration": 40,
    "start_time": "2022-12-14T20:00:13.330Z"
   },
   {
    "duration": 1490,
    "start_time": "2022-12-14T20:00:19.273Z"
   },
   {
    "duration": 186,
    "start_time": "2022-12-14T20:00:22.844Z"
   },
   {
    "duration": 5,
    "start_time": "2022-12-14T20:00:24.574Z"
   },
   {
    "duration": 13,
    "start_time": "2022-12-14T20:00:26.876Z"
   },
   {
    "duration": 28,
    "start_time": "2022-12-14T20:00:29.300Z"
   },
   {
    "duration": 5,
    "start_time": "2022-12-14T20:00:32.523Z"
   },
   {
    "duration": 4,
    "start_time": "2022-12-14T20:00:34.611Z"
   },
   {
    "duration": 11,
    "start_time": "2022-12-14T20:00:36.867Z"
   },
   {
    "duration": 5,
    "start_time": "2022-12-14T20:00:39.867Z"
   },
   {
    "duration": 5,
    "start_time": "2022-12-14T20:00:41.786Z"
   },
   {
    "duration": 12,
    "start_time": "2022-12-14T20:00:46.531Z"
   },
   {
    "duration": 12,
    "start_time": "2022-12-14T20:00:48.162Z"
   },
   {
    "duration": 75,
    "start_time": "2022-12-14T20:01:02.916Z"
   },
   {
    "duration": 7,
    "start_time": "2022-12-14T20:01:52.324Z"
   },
   {
    "duration": 66,
    "start_time": "2022-12-14T20:02:15.915Z"
   },
   {
    "duration": 13,
    "start_time": "2022-12-14T20:02:33.187Z"
   },
   {
    "duration": 9,
    "start_time": "2022-12-14T20:04:13.124Z"
   },
   {
    "duration": 8,
    "start_time": "2022-12-14T20:04:18.498Z"
   },
   {
    "duration": 9,
    "start_time": "2022-12-14T20:04:20.204Z"
   },
   {
    "duration": 3,
    "start_time": "2022-12-14T20:04:28.019Z"
   },
   {
    "duration": 9,
    "start_time": "2022-12-14T20:04:34.676Z"
   },
   {
    "duration": 4,
    "start_time": "2022-12-14T20:04:39.396Z"
   },
   {
    "duration": 14,
    "start_time": "2022-12-14T20:05:28.243Z"
   },
   {
    "duration": 10,
    "start_time": "2022-12-14T20:05:57.154Z"
   },
   {
    "duration": 3,
    "start_time": "2022-12-14T20:06:23.795Z"
   },
   {
    "duration": 4,
    "start_time": "2022-12-14T20:06:36.411Z"
   },
   {
    "duration": 4,
    "start_time": "2022-12-14T20:06:45.236Z"
   },
   {
    "duration": 10,
    "start_time": "2022-12-14T20:06:51.181Z"
   },
   {
    "duration": 4,
    "start_time": "2022-12-14T20:06:52.786Z"
   },
   {
    "duration": 9,
    "start_time": "2022-12-14T20:07:11.438Z"
   },
   {
    "duration": 5,
    "start_time": "2022-12-14T20:07:13.259Z"
   },
   {
    "duration": 10,
    "start_time": "2022-12-14T20:07:32.755Z"
   },
   {
    "duration": 17,
    "start_time": "2022-12-14T20:08:00.748Z"
   },
   {
    "duration": 1313,
    "start_time": "2022-12-14T20:08:14.557Z"
   },
   {
    "duration": 40,
    "start_time": "2022-12-14T20:08:15.871Z"
   },
   {
    "duration": 5,
    "start_time": "2022-12-14T20:08:16.468Z"
   },
   {
    "duration": 12,
    "start_time": "2022-12-14T20:08:18.798Z"
   },
   {
    "duration": 28,
    "start_time": "2022-12-14T20:08:21.284Z"
   },
   {
    "duration": 6,
    "start_time": "2022-12-14T20:08:22.700Z"
   },
   {
    "duration": 4,
    "start_time": "2022-12-14T20:08:24.989Z"
   },
   {
    "duration": 16,
    "start_time": "2022-12-14T20:08:26.005Z"
   },
   {
    "duration": 5,
    "start_time": "2022-12-14T20:08:28.748Z"
   },
   {
    "duration": 4,
    "start_time": "2022-12-14T20:08:31.030Z"
   },
   {
    "duration": 12,
    "start_time": "2022-12-14T20:08:38.846Z"
   },
   {
    "duration": 11,
    "start_time": "2022-12-14T20:08:40.661Z"
   },
   {
    "duration": 6,
    "start_time": "2022-12-14T20:08:46.342Z"
   },
   {
    "duration": 12,
    "start_time": "2022-12-14T20:09:27.357Z"
   },
   {
    "duration": 14,
    "start_time": "2022-12-14T20:09:51.661Z"
   },
   {
    "duration": 4,
    "start_time": "2022-12-14T20:09:54.212Z"
   },
   {
    "duration": 72,
    "start_time": "2022-12-14T20:10:06.390Z"
   },
   {
    "duration": 36,
    "start_time": "2022-12-14T20:10:32.900Z"
   },
   {
    "duration": 14,
    "start_time": "2022-12-14T20:10:36.829Z"
   },
   {
    "duration": 286,
    "start_time": "2022-12-14T20:11:39.326Z"
   },
   {
    "duration": 138,
    "start_time": "2022-12-14T20:12:19.589Z"
   },
   {
    "duration": 80,
    "start_time": "2022-12-14T20:12:37.156Z"
   },
   {
    "duration": 11,
    "start_time": "2022-12-14T20:12:48.909Z"
   },
   {
    "duration": 10,
    "start_time": "2022-12-14T20:12:54.961Z"
   },
   {
    "duration": 17,
    "start_time": "2022-12-14T20:12:58.516Z"
   },
   {
    "duration": 22,
    "start_time": "2022-12-14T20:13:01.909Z"
   },
   {
    "duration": 16,
    "start_time": "2022-12-14T20:13:16.831Z"
   },
   {
    "duration": 8,
    "start_time": "2022-12-14T20:13:29.957Z"
   },
   {
    "duration": 12,
    "start_time": "2022-12-14T20:13:40.997Z"
   },
   {
    "duration": 11,
    "start_time": "2022-12-14T20:13:49.685Z"
   },
   {
    "duration": 13,
    "start_time": "2022-12-14T20:14:01.623Z"
   },
   {
    "duration": 193,
    "start_time": "2022-12-14T20:14:05.535Z"
   },
   {
    "duration": 99,
    "start_time": "2022-12-14T20:14:25.841Z"
   },
   {
    "duration": 18,
    "start_time": "2022-12-14T20:14:29.677Z"
   },
   {
    "duration": 23,
    "start_time": "2022-12-14T20:14:49.813Z"
   },
   {
    "duration": 59,
    "start_time": "2022-12-14T20:14:52.869Z"
   },
   {
    "duration": 17,
    "start_time": "2022-12-14T20:15:02.205Z"
   },
   {
    "duration": 10,
    "start_time": "2022-12-14T20:15:05.789Z"
   },
   {
    "duration": 8,
    "start_time": "2022-12-14T20:15:15.341Z"
   },
   {
    "duration": 10,
    "start_time": "2022-12-14T20:15:19.685Z"
   },
   {
    "duration": 39,
    "start_time": "2022-12-14T20:16:46.013Z"
   },
   {
    "duration": 8,
    "start_time": "2022-12-14T20:16:59.598Z"
   },
   {
    "duration": 5829,
    "start_time": "2022-12-14T20:18:56.124Z"
   },
   {
    "duration": 449,
    "start_time": "2022-12-14T20:21:05.277Z"
   },
   {
    "duration": 404,
    "start_time": "2022-12-14T20:21:40.157Z"
   },
   {
    "duration": 23,
    "start_time": "2022-12-14T20:22:23.702Z"
   },
   {
    "duration": 24,
    "start_time": "2022-12-14T20:23:04.606Z"
   },
   {
    "duration": 14,
    "start_time": "2022-12-14T20:23:22.207Z"
   },
   {
    "duration": 12,
    "start_time": "2022-12-14T20:23:36.029Z"
   },
   {
    "duration": 12,
    "start_time": "2022-12-14T20:23:45.253Z"
   },
   {
    "duration": 14,
    "start_time": "2022-12-14T20:23:49.781Z"
   },
   {
    "duration": 13,
    "start_time": "2022-12-14T20:24:05.942Z"
   },
   {
    "duration": 8,
    "start_time": "2022-12-14T20:24:18.012Z"
   },
   {
    "duration": 32,
    "start_time": "2022-12-14T20:24:35.503Z"
   },
   {
    "duration": 30,
    "start_time": "2022-12-14T20:24:56.030Z"
   },
   {
    "duration": 30,
    "start_time": "2022-12-14T20:25:04.652Z"
   },
   {
    "duration": 38,
    "start_time": "2022-12-14T20:25:27.949Z"
   },
   {
    "duration": 2,
    "start_time": "2022-12-14T20:25:40.132Z"
   },
   {
    "duration": 3,
    "start_time": "2022-12-14T20:25:51.903Z"
   },
   {
    "duration": 36,
    "start_time": "2022-12-14T20:27:45.278Z"
   },
   {
    "duration": 36,
    "start_time": "2022-12-14T20:28:05.038Z"
   },
   {
    "duration": 3,
    "start_time": "2022-12-14T20:28:08.909Z"
   },
   {
    "duration": 20,
    "start_time": "2022-12-14T20:28:25.749Z"
   },
   {
    "duration": 12,
    "start_time": "2022-12-14T20:31:12.325Z"
   },
   {
    "duration": 3,
    "start_time": "2022-12-14T20:31:46.143Z"
   },
   {
    "duration": 4,
    "start_time": "2022-12-14T20:32:00.352Z"
   },
   {
    "duration": 10,
    "start_time": "2022-12-14T20:32:17.359Z"
   },
   {
    "duration": 24,
    "start_time": "2022-12-14T20:32:45.385Z"
   },
   {
    "duration": 1418,
    "start_time": "2022-12-14T20:33:05.418Z"
   },
   {
    "duration": 47,
    "start_time": "2022-12-14T20:33:06.838Z"
   },
   {
    "duration": 5,
    "start_time": "2022-12-14T20:33:07.018Z"
   },
   {
    "duration": 14,
    "start_time": "2022-12-14T20:33:08.362Z"
   },
   {
    "duration": 30,
    "start_time": "2022-12-14T20:33:09.635Z"
   },
   {
    "duration": 5,
    "start_time": "2022-12-14T20:33:11.027Z"
   },
   {
    "duration": 3,
    "start_time": "2022-12-14T20:33:12.194Z"
   },
   {
    "duration": 16,
    "start_time": "2022-12-14T20:33:13.161Z"
   },
   {
    "duration": 5,
    "start_time": "2022-12-14T20:33:13.930Z"
   },
   {
    "duration": 7,
    "start_time": "2022-12-14T20:33:15.644Z"
   },
   {
    "duration": 12,
    "start_time": "2022-12-14T20:33:20.473Z"
   },
   {
    "duration": 15,
    "start_time": "2022-12-14T20:33:22.748Z"
   },
   {
    "duration": 6,
    "start_time": "2022-12-14T20:33:34.155Z"
   },
   {
    "duration": 12,
    "start_time": "2022-12-14T20:33:41.907Z"
   },
   {
    "duration": 10,
    "start_time": "2022-12-14T20:33:49.547Z"
   },
   {
    "duration": 5,
    "start_time": "2022-12-14T20:33:50.291Z"
   },
   {
    "duration": 11,
    "start_time": "2022-12-14T20:33:56.306Z"
   },
   {
    "duration": 3,
    "start_time": "2022-12-14T20:34:04.203Z"
   },
   {
    "duration": 8,
    "start_time": "2022-12-14T20:34:06.891Z"
   },
   {
    "duration": 22,
    "start_time": "2022-12-14T20:34:09.186Z"
   },
   {
    "duration": 113,
    "start_time": "2022-12-14T20:34:23.818Z"
   },
   {
    "duration": 72,
    "start_time": "2022-12-14T20:34:46.730Z"
   },
   {
    "duration": 178,
    "start_time": "2022-12-14T20:35:08.867Z"
   },
   {
    "duration": 309,
    "start_time": "2022-12-14T20:35:14.928Z"
   },
   {
    "duration": 20,
    "start_time": "2022-12-14T20:35:21.303Z"
   },
   {
    "duration": 10,
    "start_time": "2022-12-14T20:35:24.499Z"
   },
   {
    "duration": 27,
    "start_time": "2022-12-14T20:35:28.333Z"
   },
   {
    "duration": 17,
    "start_time": "2022-12-14T20:35:32.364Z"
   },
   {
    "duration": 20,
    "start_time": "2022-12-14T20:35:48.956Z"
   },
   {
    "duration": 31,
    "start_time": "2022-12-14T20:35:51.628Z"
   },
   {
    "duration": 19,
    "start_time": "2022-12-14T20:35:55.169Z"
   },
   {
    "duration": 9,
    "start_time": "2022-12-14T20:36:00.435Z"
   },
   {
    "duration": 4,
    "start_time": "2022-12-14T20:36:01.564Z"
   },
   {
    "duration": 11,
    "start_time": "2022-12-14T20:36:04.529Z"
   },
   {
    "duration": 3,
    "start_time": "2022-12-14T20:36:07.818Z"
   },
   {
    "duration": 8,
    "start_time": "2022-12-14T20:36:08.715Z"
   },
   {
    "duration": 19,
    "start_time": "2022-12-14T20:36:10.346Z"
   },
   {
    "duration": 11,
    "start_time": "2022-12-14T20:36:18.644Z"
   },
   {
    "duration": 74,
    "start_time": "2022-12-14T20:36:53.370Z"
   },
   {
    "duration": 22,
    "start_time": "2022-12-14T20:37:09.299Z"
   },
   {
    "duration": 52,
    "start_time": "2022-12-14T20:37:11.875Z"
   },
   {
    "duration": 38,
    "start_time": "2022-12-14T20:37:19.330Z"
   },
   {
    "duration": 9,
    "start_time": "2022-12-14T20:37:23.034Z"
   },
   {
    "duration": 11,
    "start_time": "2022-12-14T20:37:42.074Z"
   },
   {
    "duration": 5,
    "start_time": "2022-12-14T20:37:42.643Z"
   },
   {
    "duration": 17,
    "start_time": "2022-12-14T20:37:45.258Z"
   },
   {
    "duration": 3,
    "start_time": "2022-12-14T20:37:47.585Z"
   },
   {
    "duration": 10,
    "start_time": "2022-12-14T20:37:48.490Z"
   },
   {
    "duration": 34,
    "start_time": "2022-12-14T20:37:49.442Z"
   },
   {
    "duration": 12,
    "start_time": "2022-12-14T20:37:51.243Z"
   },
   {
    "duration": 24,
    "start_time": "2022-12-14T20:37:53.795Z"
   },
   {
    "duration": 23,
    "start_time": "2022-12-14T20:37:55.620Z"
   },
   {
    "duration": 45,
    "start_time": "2022-12-14T20:37:58.274Z"
   },
   {
    "duration": 11,
    "start_time": "2022-12-14T20:38:00.362Z"
   },
   {
    "duration": 20,
    "start_time": "2022-12-14T20:38:08.212Z"
   },
   {
    "duration": 19,
    "start_time": "2022-12-14T20:38:23.379Z"
   },
   {
    "duration": 51,
    "start_time": "2022-12-14T20:38:25.523Z"
   },
   {
    "duration": 22,
    "start_time": "2022-12-14T20:38:27.733Z"
   },
   {
    "duration": 9,
    "start_time": "2022-12-14T20:38:58.250Z"
   },
   {
    "duration": 101,
    "start_time": "2022-12-14T20:39:00.898Z"
   },
   {
    "duration": 12,
    "start_time": "2022-12-14T20:39:03.510Z"
   },
   {
    "duration": 6,
    "start_time": "2022-12-14T20:39:07.123Z"
   },
   {
    "duration": 18,
    "start_time": "2022-12-14T20:39:09.739Z"
   },
   {
    "duration": 4,
    "start_time": "2022-12-14T20:39:11.292Z"
   },
   {
    "duration": 5,
    "start_time": "2022-12-14T20:39:22.003Z"
   },
   {
    "duration": 4,
    "start_time": "2022-12-14T20:39:32.995Z"
   },
   {
    "duration": 10,
    "start_time": "2022-12-14T20:39:38.570Z"
   },
   {
    "duration": 12,
    "start_time": "2022-12-14T20:39:40.029Z"
   },
   {
    "duration": 11,
    "start_time": "2022-12-14T20:39:43.292Z"
   },
   {
    "duration": 4,
    "start_time": "2022-12-14T20:39:44.755Z"
   },
   {
    "duration": 9,
    "start_time": "2022-12-14T20:39:47.931Z"
   },
   {
    "duration": 5,
    "start_time": "2022-12-14T20:39:49.511Z"
   },
   {
    "duration": 13,
    "start_time": "2022-12-14T20:39:52.282Z"
   },
   {
    "duration": 5,
    "start_time": "2022-12-14T20:39:55.083Z"
   },
   {
    "duration": 69,
    "start_time": "2022-12-14T20:42:09.310Z"
   },
   {
    "duration": 15,
    "start_time": "2022-12-14T20:42:17.412Z"
   },
   {
    "duration": 6,
    "start_time": "2022-12-14T20:42:19.348Z"
   },
   {
    "duration": 94,
    "start_time": "2022-12-14T20:42:22.474Z"
   },
   {
    "duration": 5,
    "start_time": "2022-12-14T20:42:24.482Z"
   },
   {
    "duration": 17,
    "start_time": "2022-12-14T20:42:32.792Z"
   },
   {
    "duration": 129,
    "start_time": "2022-12-14T20:42:35.812Z"
   },
   {
    "duration": 6,
    "start_time": "2022-12-14T20:42:37.811Z"
   },
   {
    "duration": 9,
    "start_time": "2022-12-14T20:42:43.073Z"
   },
   {
    "duration": 41,
    "start_time": "2022-12-14T20:42:45.426Z"
   },
   {
    "duration": 6,
    "start_time": "2022-12-14T20:42:47.162Z"
   },
   {
    "duration": 10,
    "start_time": "2022-12-14T20:42:52.754Z"
   },
   {
    "duration": 43,
    "start_time": "2022-12-14T20:42:54.812Z"
   },
   {
    "duration": 7,
    "start_time": "2022-12-14T20:42:56.242Z"
   },
   {
    "duration": 9,
    "start_time": "2022-12-14T20:43:01.332Z"
   },
   {
    "duration": 46,
    "start_time": "2022-12-14T20:43:06.978Z"
   },
   {
    "duration": 6,
    "start_time": "2022-12-14T20:43:08.867Z"
   },
   {
    "duration": 458,
    "start_time": "2022-12-14T20:43:17.058Z"
   },
   {
    "duration": 63,
    "start_time": "2022-12-14T20:43:59.946Z"
   },
   {
    "duration": 8,
    "start_time": "2022-12-14T20:44:02.124Z"
   },
   {
    "duration": 11,
    "start_time": "2022-12-14T20:44:10.234Z"
   },
   {
    "duration": 4,
    "start_time": "2022-12-14T20:44:11.114Z"
   },
   {
    "duration": 66,
    "start_time": "2022-12-14T20:44:13.330Z"
   },
   {
    "duration": 7,
    "start_time": "2022-12-14T20:44:15.258Z"
   },
   {
    "duration": 471,
    "start_time": "2022-12-14T20:44:22.771Z"
   },
   {
    "duration": 1415,
    "start_time": "2022-12-14T20:44:31.235Z"
   },
   {
    "duration": 5155,
    "start_time": "2022-12-14T20:44:36.227Z"
   },
   {
    "duration": 1304,
    "start_time": "2022-12-14T20:45:16.867Z"
   },
   {
    "duration": 43,
    "start_time": "2022-12-14T20:45:18.698Z"
   },
   {
    "duration": 6,
    "start_time": "2022-12-14T20:45:19.378Z"
   },
   {
    "duration": 13,
    "start_time": "2022-12-14T20:45:20.518Z"
   },
   {
    "duration": 32,
    "start_time": "2022-12-14T20:45:21.610Z"
   },
   {
    "duration": 6,
    "start_time": "2022-12-14T20:45:23.138Z"
   },
   {
    "duration": 4,
    "start_time": "2022-12-14T20:45:26.571Z"
   },
   {
    "duration": 13,
    "start_time": "2022-12-14T20:45:27.660Z"
   },
   {
    "duration": 5,
    "start_time": "2022-12-14T20:45:30.217Z"
   },
   {
    "duration": 5,
    "start_time": "2022-12-14T20:45:31.562Z"
   },
   {
    "duration": 11,
    "start_time": "2022-12-14T20:45:34.722Z"
   },
   {
    "duration": 12,
    "start_time": "2022-12-14T20:45:35.188Z"
   },
   {
    "duration": 7,
    "start_time": "2022-12-14T20:45:39.337Z"
   },
   {
    "duration": 13,
    "start_time": "2022-12-14T20:45:47.781Z"
   },
   {
    "duration": 15,
    "start_time": "2022-12-14T20:45:51.171Z"
   },
   {
    "duration": 6,
    "start_time": "2022-12-14T20:45:52.738Z"
   },
   {
    "duration": 3,
    "start_time": "2022-12-14T20:46:00.242Z"
   },
   {
    "duration": 12,
    "start_time": "2022-12-14T20:46:02.251Z"
   },
   {
    "duration": 33,
    "start_time": "2022-12-14T20:46:02.883Z"
   },
   {
    "duration": 11,
    "start_time": "2022-12-14T20:46:04.787Z"
   },
   {
    "duration": 25,
    "start_time": "2022-12-14T20:46:08.538Z"
   },
   {
    "duration": 91,
    "start_time": "2022-12-14T20:46:10.642Z"
   },
   {
    "duration": 37,
    "start_time": "2022-12-14T20:46:13.042Z"
   },
   {
    "duration": 11,
    "start_time": "2022-12-14T20:46:14.987Z"
   },
   {
    "duration": 20,
    "start_time": "2022-12-14T20:46:24.404Z"
   },
   {
    "duration": 43,
    "start_time": "2022-12-14T20:46:29.481Z"
   },
   {
    "duration": 38,
    "start_time": "2022-12-14T20:46:31.425Z"
   },
   {
    "duration": 22,
    "start_time": "2022-12-14T20:46:38.770Z"
   },
   {
    "duration": 3,
    "start_time": "2022-12-14T20:46:53.922Z"
   },
   {
    "duration": 35,
    "start_time": "2022-12-14T20:46:55.699Z"
   },
   {
    "duration": 4,
    "start_time": "2022-12-14T20:46:56.340Z"
   },
   {
    "duration": 65,
    "start_time": "2022-12-14T20:46:58.858Z"
   },
   {
    "duration": 7,
    "start_time": "2022-12-14T20:47:01.050Z"
   },
   {
    "duration": 5498,
    "start_time": "2022-12-14T20:47:04.619Z"
   },
   {
    "duration": 1358,
    "start_time": "2022-12-14T20:47:15.548Z"
   },
   {
    "duration": 4,
    "start_time": "2022-12-14T20:47:33.802Z"
   },
   {
    "duration": 11,
    "start_time": "2022-12-14T20:47:35.881Z"
   },
   {
    "duration": 17,
    "start_time": "2022-12-14T20:47:38.273Z"
   },
   {
    "duration": 8,
    "start_time": "2022-12-14T20:47:40.858Z"
   },
   {
    "duration": 1901,
    "start_time": "2022-12-14T20:47:49.506Z"
   },
   {
    "duration": 73,
    "start_time": "2022-12-14T20:48:42.025Z"
   },
   {
    "duration": 68,
    "start_time": "2022-12-14T20:48:56.553Z"
   },
   {
    "duration": 48,
    "start_time": "2022-12-14T21:29:25.377Z"
   },
   {
    "duration": 1650,
    "start_time": "2022-12-14T21:29:34.316Z"
   },
   {
    "duration": 92,
    "start_time": "2022-12-14T21:29:35.968Z"
   },
   {
    "duration": 6,
    "start_time": "2022-12-14T21:29:36.062Z"
   },
   {
    "duration": 21,
    "start_time": "2022-12-14T21:29:36.069Z"
   },
   {
    "duration": 26,
    "start_time": "2022-12-14T21:29:36.093Z"
   },
   {
    "duration": 4,
    "start_time": "2022-12-14T21:29:36.121Z"
   },
   {
    "duration": 5,
    "start_time": "2022-12-14T21:29:36.126Z"
   },
   {
    "duration": 12,
    "start_time": "2022-12-14T21:29:36.133Z"
   },
   {
    "duration": 4,
    "start_time": "2022-12-14T21:29:36.147Z"
   },
   {
    "duration": 6,
    "start_time": "2022-12-14T21:29:36.153Z"
   },
   {
    "duration": 10,
    "start_time": "2022-12-14T21:29:38.153Z"
   },
   {
    "duration": 1428,
    "start_time": "2022-12-14T21:37:30.193Z"
   },
   {
    "duration": 42,
    "start_time": "2022-12-14T21:37:31.624Z"
   },
   {
    "duration": 5,
    "start_time": "2022-12-14T21:37:31.668Z"
   },
   {
    "duration": 14,
    "start_time": "2022-12-14T21:37:31.674Z"
   },
   {
    "duration": 26,
    "start_time": "2022-12-14T21:37:31.690Z"
   },
   {
    "duration": 4,
    "start_time": "2022-12-14T21:37:31.717Z"
   },
   {
    "duration": 3,
    "start_time": "2022-12-14T21:37:31.723Z"
   },
   {
    "duration": 12,
    "start_time": "2022-12-14T21:37:31.727Z"
   },
   {
    "duration": 3,
    "start_time": "2022-12-14T21:37:31.741Z"
   },
   {
    "duration": 5,
    "start_time": "2022-12-14T21:37:31.745Z"
   },
   {
    "duration": 12,
    "start_time": "2022-12-14T21:37:31.751Z"
   },
   {
    "duration": 10,
    "start_time": "2022-12-14T21:37:31.765Z"
   },
   {
    "duration": 40,
    "start_time": "2022-12-14T21:37:31.777Z"
   },
   {
    "duration": 11,
    "start_time": "2022-12-14T21:37:31.819Z"
   },
   {
    "duration": 10,
    "start_time": "2022-12-14T21:37:31.832Z"
   },
   {
    "duration": 3,
    "start_time": "2022-12-14T21:37:31.844Z"
   },
   {
    "duration": 13,
    "start_time": "2022-12-14T21:37:31.848Z"
   },
   {
    "duration": 4,
    "start_time": "2022-12-14T21:37:31.863Z"
   },
   {
    "duration": 10,
    "start_time": "2022-12-14T21:37:31.869Z"
   },
   {
    "duration": 52,
    "start_time": "2022-12-14T21:37:31.880Z"
   },
   {
    "duration": 11,
    "start_time": "2022-12-14T21:37:31.934Z"
   },
   {
    "duration": 24,
    "start_time": "2022-12-14T21:37:31.946Z"
   },
   {
    "duration": 50,
    "start_time": "2022-12-14T21:37:31.972Z"
   },
   {
    "duration": 135,
    "start_time": "2022-12-14T21:37:32.025Z"
   },
   {
    "duration": 8,
    "start_time": "2022-12-14T21:37:32.161Z"
   },
   {
    "duration": 45,
    "start_time": "2022-12-14T21:37:32.171Z"
   },
   {
    "duration": 514,
    "start_time": "2022-12-14T21:37:43.840Z"
   },
   {
    "duration": 88,
    "start_time": "2022-12-14T21:52:22.660Z"
   },
   {
    "duration": 179,
    "start_time": "2022-12-14T21:53:02.464Z"
   },
   {
    "duration": 4,
    "start_time": "2022-12-14T21:53:17.186Z"
   },
   {
    "duration": 40,
    "start_time": "2022-12-14T21:53:17.848Z"
   },
   {
    "duration": 4,
    "start_time": "2022-12-14T21:53:18.058Z"
   },
   {
    "duration": 11,
    "start_time": "2022-12-14T21:53:18.394Z"
   },
   {
    "duration": 28,
    "start_time": "2022-12-14T21:53:18.978Z"
   },
   {
    "duration": 5,
    "start_time": "2022-12-14T21:53:19.323Z"
   },
   {
    "duration": 4,
    "start_time": "2022-12-14T21:53:19.738Z"
   },
   {
    "duration": 12,
    "start_time": "2022-12-14T21:53:20.162Z"
   },
   {
    "duration": 6,
    "start_time": "2022-12-14T21:53:20.345Z"
   },
   {
    "duration": 5,
    "start_time": "2022-12-14T21:53:21.187Z"
   },
   {
    "duration": 10,
    "start_time": "2022-12-14T21:53:22.122Z"
   },
   {
    "duration": 12,
    "start_time": "2022-12-14T21:53:22.321Z"
   },
   {
    "duration": 5,
    "start_time": "2022-12-14T21:53:22.961Z"
   },
   {
    "duration": 11,
    "start_time": "2022-12-14T21:53:24.858Z"
   },
   {
    "duration": 9,
    "start_time": "2022-12-14T21:53:31.018Z"
   },
   {
    "duration": 4,
    "start_time": "2022-12-14T21:53:31.563Z"
   },
   {
    "duration": 11,
    "start_time": "2022-12-14T21:53:34.665Z"
   },
   {
    "duration": 3,
    "start_time": "2022-12-14T21:53:35.048Z"
   },
   {
    "duration": 8,
    "start_time": "2022-12-14T21:53:35.506Z"
   },
   {
    "duration": 30,
    "start_time": "2022-12-14T21:53:35.778Z"
   },
   {
    "duration": 12,
    "start_time": "2022-12-14T21:53:36.237Z"
   },
   {
    "duration": 24,
    "start_time": "2022-12-14T21:53:37.363Z"
   },
   {
    "duration": 19,
    "start_time": "2022-12-14T21:53:37.715Z"
   },
   {
    "duration": 40,
    "start_time": "2022-12-14T21:53:38.849Z"
   },
   {
    "duration": 11,
    "start_time": "2022-12-14T21:53:39.210Z"
   },
   {
    "duration": 3,
    "start_time": "2022-12-14T21:53:45.194Z"
   },
   {
    "duration": 4620,
    "start_time": "2022-12-14T21:53:48.355Z"
   },
   {
    "duration": 65,
    "start_time": "2022-12-14T21:54:34.601Z"
   },
   {
    "duration": 4506,
    "start_time": "2022-12-14T21:57:18.499Z"
   },
   {
    "duration": 352,
    "start_time": "2022-12-14T21:57:45.817Z"
   },
   {
    "duration": 34,
    "start_time": "2022-12-14T21:58:18.931Z"
   },
   {
    "duration": 38,
    "start_time": "2022-12-14T21:58:25.786Z"
   },
   {
    "duration": 322,
    "start_time": "2022-12-14T21:58:42.613Z"
   },
   {
    "duration": 25,
    "start_time": "2022-12-14T21:58:47.310Z"
   },
   {
    "duration": 22147,
    "start_time": "2022-12-14T21:59:05.588Z"
   },
   {
    "duration": 577,
    "start_time": "2022-12-14T21:59:54.329Z"
   },
   {
    "duration": 31,
    "start_time": "2022-12-14T21:59:59.259Z"
   },
   {
    "duration": 30,
    "start_time": "2022-12-14T22:00:28.913Z"
   },
   {
    "duration": 40,
    "start_time": "2022-12-14T22:00:31.250Z"
   },
   {
    "duration": 604,
    "start_time": "2022-12-14T22:01:10.176Z"
   },
   {
    "duration": 30,
    "start_time": "2022-12-14T22:01:43.843Z"
   },
   {
    "duration": 557,
    "start_time": "2022-12-14T22:01:51.170Z"
   },
   {
    "duration": 510,
    "start_time": "2022-12-14T22:02:03.283Z"
   },
   {
    "duration": 535,
    "start_time": "2022-12-14T22:02:19.913Z"
   },
   {
    "duration": 536,
    "start_time": "2022-12-14T22:02:34.651Z"
   },
   {
    "duration": 555,
    "start_time": "2022-12-14T22:02:47.410Z"
   },
   {
    "duration": 551,
    "start_time": "2022-12-14T22:02:56.939Z"
   },
   {
    "duration": 593,
    "start_time": "2022-12-14T22:03:05.193Z"
   },
   {
    "duration": 26,
    "start_time": "2022-12-14T22:03:08.209Z"
   },
   {
    "duration": 4,
    "start_time": "2022-12-14T22:03:57.026Z"
   },
   {
    "duration": 13,
    "start_time": "2022-12-14T22:03:59.186Z"
   },
   {
    "duration": 11,
    "start_time": "2022-12-14T22:04:03.706Z"
   },
   {
    "duration": 18,
    "start_time": "2022-12-14T22:04:23.585Z"
   },
   {
    "duration": 4,
    "start_time": "2022-12-14T22:04:31.211Z"
   },
   {
    "duration": 6,
    "start_time": "2022-12-14T22:04:36.957Z"
   },
   {
    "duration": 5,
    "start_time": "2022-12-14T22:04:45.513Z"
   },
   {
    "duration": 5,
    "start_time": "2022-12-14T22:05:04.386Z"
   },
   {
    "duration": 10,
    "start_time": "2022-12-14T22:05:40.684Z"
   },
   {
    "duration": 4,
    "start_time": "2022-12-14T22:05:44.434Z"
   },
   {
    "duration": 53,
    "start_time": "2022-12-14T22:05:48.779Z"
   },
   {
    "duration": 6,
    "start_time": "2022-12-14T22:05:50.433Z"
   },
   {
    "duration": 2,
    "start_time": "2022-12-14T22:06:21.898Z"
   },
   {
    "duration": 2,
    "start_time": "2022-12-14T22:06:23.514Z"
   },
   {
    "duration": 678,
    "start_time": "2022-12-14T22:06:45.098Z"
   },
   {
    "duration": 882,
    "start_time": "2022-12-14T22:07:00.394Z"
   },
   {
    "duration": 795,
    "start_time": "2022-12-14T22:07:33.803Z"
   },
   {
    "duration": 5,
    "start_time": "2022-12-14T22:07:36.386Z"
   },
   {
    "duration": 3,
    "start_time": "2022-12-14T22:08:44.458Z"
   },
   {
    "duration": 20022,
    "start_time": "2022-12-14T22:09:39.970Z"
   },
   {
    "duration": 4,
    "start_time": "2022-12-14T22:12:09.186Z"
   },
   {
    "duration": 5,
    "start_time": "2022-12-14T22:12:23.964Z"
   },
   {
    "duration": 10,
    "start_time": "2022-12-14T22:13:05.083Z"
   },
   {
    "duration": 11,
    "start_time": "2022-12-14T22:13:08.795Z"
   },
   {
    "duration": 5,
    "start_time": "2022-12-14T22:13:15.954Z"
   },
   {
    "duration": 7,
    "start_time": "2022-12-14T22:13:45.595Z"
   },
   {
    "duration": 10,
    "start_time": "2022-12-14T22:13:55.154Z"
   },
   {
    "duration": 5,
    "start_time": "2022-12-14T22:13:57.050Z"
   },
   {
    "duration": 12766,
    "start_time": "2022-12-14T22:14:48.827Z"
   },
   {
    "duration": 6,
    "start_time": "2022-12-14T22:15:09.801Z"
   },
   {
    "duration": 10,
    "start_time": "2022-12-14T22:15:13.754Z"
   },
   {
    "duration": 10,
    "start_time": "2022-12-14T22:15:15.722Z"
   },
   {
    "duration": 73,
    "start_time": "2022-12-14T22:15:46.593Z"
   },
   {
    "duration": 74,
    "start_time": "2022-12-14T22:16:30.403Z"
   },
   {
    "duration": 75,
    "start_time": "2022-12-14T22:16:49.788Z"
   },
   {
    "duration": 20,
    "start_time": "2022-12-14T22:17:02.785Z"
   },
   {
    "duration": 6,
    "start_time": "2022-12-14T22:17:04.985Z"
   },
   {
    "duration": 2,
    "start_time": "2022-12-14T22:17:18.802Z"
   },
   {
    "duration": 2,
    "start_time": "2022-12-14T22:17:22.922Z"
   },
   {
    "duration": 310,
    "start_time": "2022-12-14T22:17:53.985Z"
   },
   {
    "duration": 6,
    "start_time": "2022-12-14T22:18:05.241Z"
   },
   {
    "duration": 3,
    "start_time": "2022-12-14T22:18:53.586Z"
   },
   {
    "duration": 17752,
    "start_time": "2022-12-14T22:20:40.292Z"
   },
   {
    "duration": 10,
    "start_time": "2022-12-14T22:22:17.981Z"
   },
   {
    "duration": 6,
    "start_time": "2022-12-14T22:22:19.625Z"
   },
   {
    "duration": 10,
    "start_time": "2022-12-14T22:22:26.545Z"
   },
   {
    "duration": 5,
    "start_time": "2022-12-14T22:22:28.376Z"
   },
   {
    "duration": 388,
    "start_time": "2022-12-14T22:26:26.834Z"
   },
   {
    "duration": 419,
    "start_time": "2022-12-14T22:26:55.289Z"
   },
   {
    "duration": 384,
    "start_time": "2022-12-14T22:27:02.188Z"
   },
   {
    "duration": 390,
    "start_time": "2022-12-14T22:27:17.482Z"
   },
   {
    "duration": 311,
    "start_time": "2022-12-14T22:28:28.388Z"
   },
   {
    "duration": 420,
    "start_time": "2022-12-14T22:28:32.435Z"
   },
   {
    "duration": 404,
    "start_time": "2022-12-14T22:28:36.065Z"
   },
   {
    "duration": 403,
    "start_time": "2022-12-14T22:28:39.828Z"
   },
   {
    "duration": 350,
    "start_time": "2022-12-14T22:28:44.458Z"
   },
   {
    "duration": 312,
    "start_time": "2022-12-14T22:28:48.778Z"
   },
   {
    "duration": 339,
    "start_time": "2022-12-14T22:28:51.658Z"
   },
   {
    "duration": 458,
    "start_time": "2022-12-14T22:28:55.218Z"
   },
   {
    "duration": 444,
    "start_time": "2022-12-14T22:28:58.697Z"
   },
   {
    "duration": 392,
    "start_time": "2022-12-14T22:29:02.434Z"
   },
   {
    "duration": 410,
    "start_time": "2022-12-14T22:29:06.538Z"
   },
   {
    "duration": 10,
    "start_time": "2022-12-14T22:29:39.035Z"
   },
   {
    "duration": 12,
    "start_time": "2022-12-14T22:29:50.618Z"
   },
   {
    "duration": 10,
    "start_time": "2022-12-14T22:30:13.737Z"
   },
   {
    "duration": 123,
    "start_time": "2022-12-14T22:30:57.210Z"
   },
   {
    "duration": 167,
    "start_time": "2022-12-14T22:31:47.970Z"
   },
   {
    "duration": 179,
    "start_time": "2022-12-14T22:32:14.890Z"
   },
   {
    "duration": 46,
    "start_time": "2022-12-14T22:32:42.929Z"
   },
   {
    "duration": 1327,
    "start_time": "2022-12-14T22:34:25.568Z"
   },
   {
    "duration": 47,
    "start_time": "2022-12-14T22:34:28.856Z"
   },
   {
    "duration": 6,
    "start_time": "2022-12-14T22:34:31.056Z"
   },
   {
    "duration": 14,
    "start_time": "2022-12-14T22:34:32.599Z"
   },
   {
    "duration": 37,
    "start_time": "2022-12-14T22:34:35.618Z"
   },
   {
    "duration": 5,
    "start_time": "2022-12-14T22:34:38.712Z"
   },
   {
    "duration": 12,
    "start_time": "2022-12-14T22:34:41.906Z"
   },
   {
    "duration": 4,
    "start_time": "2022-12-14T22:34:45.057Z"
   },
   {
    "duration": 6,
    "start_time": "2022-12-14T22:34:58.113Z"
   },
   {
    "duration": 13,
    "start_time": "2022-12-14T22:35:01.242Z"
   },
   {
    "duration": 13,
    "start_time": "2022-12-14T22:35:01.888Z"
   },
   {
    "duration": 6,
    "start_time": "2022-12-14T22:35:05.913Z"
   },
   {
    "duration": 12,
    "start_time": "2022-12-14T22:35:11.440Z"
   },
   {
    "duration": 13,
    "start_time": "2022-12-14T22:35:15.562Z"
   },
   {
    "duration": 4,
    "start_time": "2022-12-14T22:35:16.911Z"
   },
   {
    "duration": 11,
    "start_time": "2022-12-14T22:35:20.124Z"
   },
   {
    "duration": 3,
    "start_time": "2022-12-14T22:35:20.872Z"
   },
   {
    "duration": 9,
    "start_time": "2022-12-14T22:35:21.503Z"
   },
   {
    "duration": 25,
    "start_time": "2022-12-14T22:35:22.576Z"
   },
   {
    "duration": 11,
    "start_time": "2022-12-14T22:35:23.328Z"
   },
   {
    "duration": 7,
    "start_time": "2022-12-14T22:35:26.544Z"
   },
   {
    "duration": 102,
    "start_time": "2022-12-14T22:35:27.455Z"
   },
   {
    "duration": 7,
    "start_time": "2022-12-14T22:35:45.371Z"
   },
   {
    "duration": 17,
    "start_time": "2022-12-14T22:35:56.503Z"
   },
   {
    "duration": 1416,
    "start_time": "2022-12-14T22:36:52.027Z"
   },
   {
    "duration": 87,
    "start_time": "2022-12-14T22:36:54.259Z"
   },
   {
    "duration": 5,
    "start_time": "2022-12-14T22:36:55.404Z"
   },
   {
    "duration": 13,
    "start_time": "2022-12-14T22:36:57.219Z"
   },
   {
    "duration": 27,
    "start_time": "2022-12-14T22:36:59.668Z"
   },
   {
    "duration": 5,
    "start_time": "2022-12-14T22:37:02.290Z"
   },
   {
    "duration": 4,
    "start_time": "2022-12-14T22:37:04.154Z"
   },
   {
    "duration": 16,
    "start_time": "2022-12-14T22:37:05.347Z"
   },
   {
    "duration": 4,
    "start_time": "2022-12-14T22:37:06.106Z"
   },
   {
    "duration": 69,
    "start_time": "2022-12-14T22:37:54.811Z"
   },
   {
    "duration": 6,
    "start_time": "2022-12-14T22:38:01.914Z"
   },
   {
    "duration": 11,
    "start_time": "2022-12-14T22:38:06.738Z"
   },
   {
    "duration": 11,
    "start_time": "2022-12-14T22:38:07.450Z"
   },
   {
    "duration": 5,
    "start_time": "2022-12-14T22:38:11.090Z"
   },
   {
    "duration": 16,
    "start_time": "2022-12-14T22:38:15.738Z"
   },
   {
    "duration": 12,
    "start_time": "2022-12-14T22:38:18.940Z"
   },
   {
    "duration": 5,
    "start_time": "2022-12-14T22:38:19.490Z"
   },
   {
    "duration": 12,
    "start_time": "2022-12-14T22:38:23.462Z"
   },
   {
    "duration": 5,
    "start_time": "2022-12-14T22:38:26.219Z"
   },
   {
    "duration": 8,
    "start_time": "2022-12-14T22:38:26.914Z"
   },
   {
    "duration": 21,
    "start_time": "2022-12-14T22:38:28.980Z"
   },
   {
    "duration": 11,
    "start_time": "2022-12-14T22:38:29.138Z"
   },
   {
    "duration": 19,
    "start_time": "2022-12-14T22:38:35.258Z"
   },
   {
    "duration": 15,
    "start_time": "2022-12-14T22:38:39.122Z"
   },
   {
    "duration": 8,
    "start_time": "2022-12-14T22:38:41.675Z"
   },
   {
    "duration": 29,
    "start_time": "2022-12-14T22:38:47.530Z"
   },
   {
    "duration": 7,
    "start_time": "2022-12-14T22:38:49.763Z"
   },
   {
    "duration": 19626,
    "start_time": "2022-12-14T22:39:00.026Z"
   },
   {
    "duration": 496,
    "start_time": "2022-12-14T22:39:29.596Z"
   },
   {
    "duration": 486,
    "start_time": "2022-12-14T22:39:33.952Z"
   },
   {
    "duration": 579,
    "start_time": "2022-12-14T22:39:43.667Z"
   },
   {
    "duration": 523,
    "start_time": "2022-12-14T22:39:56.482Z"
   },
   {
    "duration": 25,
    "start_time": "2022-12-14T22:40:17.939Z"
   },
   {
    "duration": 508,
    "start_time": "2022-12-14T22:40:43.048Z"
   },
   {
    "duration": 41742,
    "start_time": "2022-12-14T22:42:20.493Z"
   },
   {
    "duration": 27,
    "start_time": "2022-12-14T22:43:20.829Z"
   },
   {
    "duration": 6,
    "start_time": "2022-12-14T22:43:32.438Z"
   },
   {
    "duration": 87,
    "start_time": "2022-12-14T22:43:51.239Z"
   },
   {
    "duration": 31,
    "start_time": "2022-12-14T22:43:53.565Z"
   },
   {
    "duration": 503,
    "start_time": "2022-12-14T22:43:54.134Z"
   },
   {
    "duration": 32,
    "start_time": "2022-12-14T22:43:57.221Z"
   },
   {
    "duration": 4,
    "start_time": "2022-12-14T22:44:15.254Z"
   },
   {
    "duration": 5,
    "start_time": "2022-12-14T22:44:17.165Z"
   },
   {
    "duration": 12,
    "start_time": "2022-12-14T22:44:19.062Z"
   },
   {
    "duration": 5,
    "start_time": "2022-12-14T22:44:19.630Z"
   },
   {
    "duration": 3,
    "start_time": "2022-12-14T22:44:21.773Z"
   },
   {
    "duration": 701,
    "start_time": "2022-12-14T22:44:30.820Z"
   },
   {
    "duration": 5,
    "start_time": "2022-12-14T22:44:35.238Z"
   },
   {
    "duration": 3,
    "start_time": "2022-12-14T22:44:39.821Z"
   },
   {
    "duration": 11530,
    "start_time": "2022-12-14T22:44:40.462Z"
   },
   {
    "duration": 5,
    "start_time": "2022-12-14T22:45:25.524Z"
   },
   {
    "duration": 6,
    "start_time": "2022-12-14T22:45:25.932Z"
   },
   {
    "duration": 9,
    "start_time": "2022-12-14T22:45:27.085Z"
   },
   {
    "duration": 5,
    "start_time": "2022-12-14T22:45:29.013Z"
   },
   {
    "duration": 3,
    "start_time": "2022-12-14T22:45:31.565Z"
   },
   {
    "duration": 3,
    "start_time": "2022-12-14T22:45:32.198Z"
   },
   {
    "duration": 280,
    "start_time": "2022-12-14T22:45:33.101Z"
   },
   {
    "duration": 6,
    "start_time": "2022-12-14T22:45:34.429Z"
   },
   {
    "duration": 3,
    "start_time": "2022-12-14T22:45:37.341Z"
   },
   {
    "duration": 87,
    "start_time": "2022-12-15T06:47:48.567Z"
   },
   {
    "duration": 1659,
    "start_time": "2022-12-15T06:48:00.053Z"
   },
   {
    "duration": 92,
    "start_time": "2022-12-15T06:48:01.714Z"
   },
   {
    "duration": 6,
    "start_time": "2022-12-15T06:48:01.807Z"
   },
   {
    "duration": 34,
    "start_time": "2022-12-15T06:48:01.815Z"
   },
   {
    "duration": 41,
    "start_time": "2022-12-15T06:48:01.851Z"
   },
   {
    "duration": 15,
    "start_time": "2022-12-15T06:48:01.894Z"
   },
   {
    "duration": 19,
    "start_time": "2022-12-15T06:48:01.911Z"
   },
   {
    "duration": 35,
    "start_time": "2022-12-15T06:48:01.932Z"
   },
   {
    "duration": 46,
    "start_time": "2022-12-15T06:48:01.969Z"
   },
   {
    "duration": 27,
    "start_time": "2022-12-15T06:48:02.018Z"
   },
   {
    "duration": 32,
    "start_time": "2022-12-15T06:48:02.046Z"
   },
   {
    "duration": 62,
    "start_time": "2022-12-15T06:48:02.081Z"
   },
   {
    "duration": 13,
    "start_time": "2022-12-15T06:48:02.145Z"
   },
   {
    "duration": 49,
    "start_time": "2022-12-15T06:48:02.159Z"
   },
   {
    "duration": 37,
    "start_time": "2022-12-15T06:48:02.210Z"
   },
   {
    "duration": 60,
    "start_time": "2022-12-15T06:48:02.249Z"
   },
   {
    "duration": 32,
    "start_time": "2022-12-15T06:48:02.311Z"
   },
   {
    "duration": 24,
    "start_time": "2022-12-15T06:48:02.345Z"
   },
   {
    "duration": 56,
    "start_time": "2022-12-15T06:48:02.370Z"
   },
   {
    "duration": 57,
    "start_time": "2022-12-15T06:48:02.427Z"
   },
   {
    "duration": 11,
    "start_time": "2022-12-15T06:48:02.486Z"
   },
   {
    "duration": 30,
    "start_time": "2022-12-15T06:48:02.499Z"
   },
   {
    "duration": 66,
    "start_time": "2022-12-15T06:48:02.531Z"
   },
   {
    "duration": 124,
    "start_time": "2022-12-15T06:48:02.600Z"
   },
   {
    "duration": 70,
    "start_time": "2022-12-15T06:48:02.726Z"
   },
   {
    "duration": 3,
    "start_time": "2022-12-15T06:48:02.798Z"
   },
   {
    "duration": 50313,
    "start_time": "2022-12-15T06:48:02.803Z"
   },
   {
    "duration": 6,
    "start_time": "2022-12-15T06:48:53.119Z"
   },
   {
    "duration": 40,
    "start_time": "2022-12-15T06:48:53.126Z"
   },
   {
    "duration": 35,
    "start_time": "2022-12-15T06:48:53.167Z"
   },
   {
    "duration": 202,
    "start_time": "2022-12-15T06:48:53.203Z"
   },
   {
    "duration": 526,
    "start_time": "2022-12-15T06:48:53.407Z"
   },
   {
    "duration": 33,
    "start_time": "2022-12-15T06:48:53.934Z"
   },
   {
    "duration": 4,
    "start_time": "2022-12-15T06:48:53.968Z"
   },
   {
    "duration": 26,
    "start_time": "2022-12-15T06:48:53.974Z"
   },
   {
    "duration": 14,
    "start_time": "2022-12-15T06:48:54.002Z"
   },
   {
    "duration": 6,
    "start_time": "2022-12-15T06:48:54.018Z"
   },
   {
    "duration": 10,
    "start_time": "2022-12-15T06:48:54.026Z"
   },
   {
    "duration": 10,
    "start_time": "2022-12-15T06:48:54.037Z"
   },
   {
    "duration": 14,
    "start_time": "2022-12-15T06:48:54.048Z"
   },
   {
    "duration": 694,
    "start_time": "2022-12-15T06:48:54.063Z"
   },
   {
    "duration": 6,
    "start_time": "2022-12-15T06:48:54.759Z"
   },
   {
    "duration": 26,
    "start_time": "2022-12-15T06:48:54.766Z"
   },
   {
    "duration": 11797,
    "start_time": "2022-12-15T06:48:54.793Z"
   },
   {
    "duration": 8,
    "start_time": "2022-12-15T06:49:06.592Z"
   },
   {
    "duration": 16,
    "start_time": "2022-12-15T06:49:06.601Z"
   },
   {
    "duration": 11,
    "start_time": "2022-12-15T06:49:06.618Z"
   },
   {
    "duration": 5,
    "start_time": "2022-12-15T06:49:06.630Z"
   },
   {
    "duration": 4,
    "start_time": "2022-12-15T06:49:06.637Z"
   },
   {
    "duration": 7,
    "start_time": "2022-12-15T06:49:06.642Z"
   },
   {
    "duration": 292,
    "start_time": "2022-12-15T06:49:06.650Z"
   },
   {
    "duration": 5,
    "start_time": "2022-12-15T06:49:06.943Z"
   },
   {
    "duration": 4,
    "start_time": "2022-12-15T06:49:06.950Z"
   },
   {
    "duration": 16159,
    "start_time": "2022-12-15T06:49:06.956Z"
   },
   {
    "duration": 357,
    "start_time": "2022-12-15T06:49:23.116Z"
   },
   {
    "duration": 9,
    "start_time": "2022-12-15T06:49:23.474Z"
   },
   {
    "duration": 126,
    "start_time": "2022-12-15T06:49:23.484Z"
   },
   {
    "duration": 164,
    "start_time": "2022-12-15T06:49:23.612Z"
   },
   {
    "duration": 154,
    "start_time": "2022-12-15T06:49:23.778Z"
   },
   {
    "duration": 43,
    "start_time": "2022-12-15T06:49:23.934Z"
   },
   {
    "duration": 48,
    "start_time": "2022-12-15T06:49:23.979Z"
   },
   {
    "duration": 375,
    "start_time": "2022-12-15T06:57:00.688Z"
   },
   {
    "duration": 350,
    "start_time": "2022-12-15T06:57:02.326Z"
   },
   {
    "duration": 407,
    "start_time": "2022-12-15T06:57:03.641Z"
   },
   {
    "duration": 464,
    "start_time": "2022-12-15T06:57:04.669Z"
   },
   {
    "duration": 352,
    "start_time": "2022-12-15T06:57:08.947Z"
   },
   {
    "duration": 403,
    "start_time": "2022-12-15T06:57:10.033Z"
   },
   {
    "duration": 394,
    "start_time": "2022-12-15T06:57:12.013Z"
   },
   {
    "duration": 364,
    "start_time": "2022-12-15T06:57:13.497Z"
   },
   {
    "duration": 363,
    "start_time": "2022-12-15T06:57:14.417Z"
   },
   {
    "duration": 375,
    "start_time": "2022-12-15T06:57:15.135Z"
   },
   {
    "duration": 368,
    "start_time": "2022-12-15T06:57:16.260Z"
   },
   {
    "duration": 368,
    "start_time": "2022-12-15T06:57:17.239Z"
   },
   {
    "duration": 1384,
    "start_time": "2022-12-15T06:57:56.195Z"
   },
   {
    "duration": 39,
    "start_time": "2022-12-15T06:57:57.581Z"
   },
   {
    "duration": 5,
    "start_time": "2022-12-15T06:57:57.622Z"
   },
   {
    "duration": 14,
    "start_time": "2022-12-15T06:57:57.629Z"
   },
   {
    "duration": 38,
    "start_time": "2022-12-15T06:57:57.644Z"
   },
   {
    "duration": 15,
    "start_time": "2022-12-15T06:57:57.684Z"
   },
   {
    "duration": 5,
    "start_time": "2022-12-15T06:57:57.700Z"
   },
   {
    "duration": 15,
    "start_time": "2022-12-15T06:57:57.706Z"
   },
   {
    "duration": 4,
    "start_time": "2022-12-15T06:57:57.722Z"
   },
   {
    "duration": 14,
    "start_time": "2022-12-15T06:57:57.729Z"
   },
   {
    "duration": 9,
    "start_time": "2022-12-15T06:57:57.745Z"
   },
   {
    "duration": 12,
    "start_time": "2022-12-15T06:57:57.755Z"
   },
   {
    "duration": 28,
    "start_time": "2022-12-15T06:57:57.768Z"
   },
   {
    "duration": 21,
    "start_time": "2022-12-15T06:57:57.798Z"
   },
   {
    "duration": 10,
    "start_time": "2022-12-15T06:57:57.821Z"
   },
   {
    "duration": 7,
    "start_time": "2022-12-15T06:57:57.833Z"
   },
   {
    "duration": 13,
    "start_time": "2022-12-15T06:57:57.842Z"
   },
   {
    "duration": 5,
    "start_time": "2022-12-15T06:57:57.856Z"
   },
   {
    "duration": 11,
    "start_time": "2022-12-15T06:57:57.862Z"
   },
   {
    "duration": 38,
    "start_time": "2022-12-15T06:57:57.874Z"
   },
   {
    "duration": 15,
    "start_time": "2022-12-15T06:57:57.913Z"
   },
   {
    "duration": 19,
    "start_time": "2022-12-15T06:57:57.929Z"
   },
   {
    "duration": 52,
    "start_time": "2022-12-15T06:57:57.950Z"
   },
   {
    "duration": 119,
    "start_time": "2022-12-15T06:57:58.004Z"
   },
   {
    "duration": 7,
    "start_time": "2022-12-15T06:57:58.125Z"
   },
   {
    "duration": 3,
    "start_time": "2022-12-15T06:57:58.133Z"
   },
   {
    "duration": 47454,
    "start_time": "2022-12-15T06:57:58.137Z"
   },
   {
    "duration": 6,
    "start_time": "2022-12-15T06:58:45.597Z"
   },
   {
    "duration": 25,
    "start_time": "2022-12-15T06:58:45.604Z"
   },
   {
    "duration": 72,
    "start_time": "2022-12-15T06:58:45.631Z"
   },
   {
    "duration": 117,
    "start_time": "2022-12-15T06:58:45.705Z"
   },
   {
    "duration": 595,
    "start_time": "2022-12-15T06:58:45.824Z"
   },
   {
    "duration": 25,
    "start_time": "2022-12-15T06:58:46.421Z"
   },
   {
    "duration": 4,
    "start_time": "2022-12-15T06:58:46.448Z"
   },
   {
    "duration": 10,
    "start_time": "2022-12-15T06:58:46.454Z"
   },
   {
    "duration": 11,
    "start_time": "2022-12-15T06:58:46.466Z"
   },
   {
    "duration": 5,
    "start_time": "2022-12-15T06:58:46.496Z"
   },
   {
    "duration": 6,
    "start_time": "2022-12-15T06:58:46.502Z"
   },
   {
    "duration": 5,
    "start_time": "2022-12-15T06:58:46.509Z"
   },
   {
    "duration": 5,
    "start_time": "2022-12-15T06:58:46.516Z"
   },
   {
    "duration": 707,
    "start_time": "2022-12-15T06:58:46.523Z"
   },
   {
    "duration": 6,
    "start_time": "2022-12-15T06:58:47.231Z"
   },
   {
    "duration": 5,
    "start_time": "2022-12-15T06:58:47.239Z"
   },
   {
    "duration": 11213,
    "start_time": "2022-12-15T06:58:47.246Z"
   },
   {
    "duration": 4,
    "start_time": "2022-12-15T06:58:58.461Z"
   },
   {
    "duration": 11,
    "start_time": "2022-12-15T06:58:58.466Z"
   },
   {
    "duration": 18,
    "start_time": "2022-12-15T06:58:58.479Z"
   },
   {
    "duration": 5,
    "start_time": "2022-12-15T06:58:58.498Z"
   },
   {
    "duration": 12,
    "start_time": "2022-12-15T06:58:58.504Z"
   },
   {
    "duration": 7,
    "start_time": "2022-12-15T06:58:58.517Z"
   },
   {
    "duration": 287,
    "start_time": "2022-12-15T06:58:58.526Z"
   },
   {
    "duration": 6,
    "start_time": "2022-12-15T06:58:58.815Z"
   },
   {
    "duration": 5,
    "start_time": "2022-12-15T06:58:58.822Z"
   },
   {
    "duration": 16249,
    "start_time": "2022-12-15T06:58:58.829Z"
   },
   {
    "duration": 370,
    "start_time": "2022-12-15T06:59:15.080Z"
   },
   {
    "duration": 8,
    "start_time": "2022-12-15T06:59:15.451Z"
   },
   {
    "duration": 131,
    "start_time": "2022-12-15T06:59:15.461Z"
   },
   {
    "duration": 161,
    "start_time": "2022-12-15T06:59:15.596Z"
   },
   {
    "duration": 163,
    "start_time": "2022-12-15T06:59:15.759Z"
   },
   {
    "duration": 52,
    "start_time": "2022-12-15T06:59:15.924Z"
   },
   {
    "duration": 1694,
    "start_time": "2022-12-15T11:42:14.794Z"
   },
   {
    "duration": 173,
    "start_time": "2022-12-15T11:42:18.290Z"
   },
   {
    "duration": 6,
    "start_time": "2022-12-15T11:42:20.917Z"
   },
   {
    "duration": 15,
    "start_time": "2022-12-15T11:42:22.954Z"
   },
   {
    "duration": 41,
    "start_time": "2022-12-15T11:42:25.146Z"
   },
   {
    "duration": 4,
    "start_time": "2022-12-15T11:42:27.146Z"
   },
   {
    "duration": 3,
    "start_time": "2022-12-15T11:42:27.642Z"
   },
   {
    "duration": 12,
    "start_time": "2022-12-15T11:42:28.621Z"
   },
   {
    "duration": 4,
    "start_time": "2022-12-15T11:42:29.162Z"
   },
   {
    "duration": 6,
    "start_time": "2022-12-15T11:42:30.459Z"
   },
   {
    "duration": 10,
    "start_time": "2022-12-15T11:42:32.525Z"
   },
   {
    "duration": 13,
    "start_time": "2022-12-15T11:42:33.218Z"
   },
   {
    "duration": 5,
    "start_time": "2022-12-15T11:42:35.250Z"
   },
   {
    "duration": 11,
    "start_time": "2022-12-15T11:42:38.852Z"
   },
   {
    "duration": 9,
    "start_time": "2022-12-15T11:42:41.180Z"
   },
   {
    "duration": 4,
    "start_time": "2022-12-15T11:42:43.722Z"
   },
   {
    "duration": 11,
    "start_time": "2022-12-15T11:42:46.635Z"
   },
   {
    "duration": 4,
    "start_time": "2022-12-15T11:42:50.267Z"
   },
   {
    "duration": 8,
    "start_time": "2022-12-15T11:42:50.892Z"
   },
   {
    "duration": 23,
    "start_time": "2022-12-15T11:42:53.218Z"
   },
   {
    "duration": 12,
    "start_time": "2022-12-15T11:42:55.377Z"
   },
   {
    "duration": 18,
    "start_time": "2022-12-15T11:42:56.993Z"
   },
   {
    "duration": 18,
    "start_time": "2022-12-15T11:42:59.314Z"
   },
   {
    "duration": 31,
    "start_time": "2022-12-15T11:43:01.405Z"
   },
   {
    "duration": 6,
    "start_time": "2022-12-15T11:43:03.698Z"
   },
   {
    "duration": 43629,
    "start_time": "2022-12-15T11:43:27.706Z"
   },
   {
    "duration": 6,
    "start_time": "2022-12-15T11:48:21.444Z"
   },
   {
    "duration": 35,
    "start_time": "2022-12-15T11:48:27.874Z"
   },
   {
    "duration": 28,
    "start_time": "2022-12-15T11:48:35.226Z"
   },
   {
    "duration": 43,
    "start_time": "2022-12-15T11:48:37.555Z"
   },
   {
    "duration": 620,
    "start_time": "2022-12-15T11:48:43.371Z"
   },
   {
    "duration": 30,
    "start_time": "2022-12-15T11:48:53.018Z"
   },
   {
    "duration": 4,
    "start_time": "2022-12-15T11:49:03.155Z"
   },
   {
    "duration": 6,
    "start_time": "2022-12-15T11:49:05.721Z"
   },
   {
    "duration": 12,
    "start_time": "2022-12-15T11:49:07.907Z"
   },
   {
    "duration": 6,
    "start_time": "2022-12-15T11:49:08.529Z"
   },
   {
    "duration": 5,
    "start_time": "2022-12-15T11:49:10.338Z"
   },
   {
    "duration": 892,
    "start_time": "2022-12-15T11:49:18.666Z"
   },
   {
    "duration": 5,
    "start_time": "2022-12-15T11:49:22.106Z"
   },
   {
    "duration": 5,
    "start_time": "2022-12-15T11:49:26.130Z"
   },
   {
    "duration": 737,
    "start_time": "2022-12-15T11:49:31.834Z"
   },
   {
    "duration": 7,
    "start_time": "2022-12-15T11:49:34.074Z"
   },
   {
    "duration": 43394,
    "start_time": "2022-12-15T11:50:06.722Z"
   },
   {
    "duration": 6,
    "start_time": "2022-12-15T11:51:04.572Z"
   },
   {
    "duration": 697,
    "start_time": "2022-12-15T11:51:13.170Z"
   },
   {
    "duration": 6,
    "start_time": "2022-12-15T11:51:15.717Z"
   },
   {
    "duration": 882,
    "start_time": "2022-12-15T11:51:22.473Z"
   },
   {
    "duration": 7,
    "start_time": "2022-12-15T11:51:24.842Z"
   },
   {
    "duration": 11687,
    "start_time": "2022-12-15T11:51:33.802Z"
   },
   {
    "duration": 5,
    "start_time": "2022-12-15T11:52:10.681Z"
   },
   {
    "duration": 5,
    "start_time": "2022-12-15T11:52:11.530Z"
   },
   {
    "duration": 9,
    "start_time": "2022-12-15T11:52:13.978Z"
   },
   {
    "duration": 6,
    "start_time": "2022-12-15T11:52:14.458Z"
   },
   {
    "duration": 3,
    "start_time": "2022-12-15T11:52:16.513Z"
   },
   {
    "duration": 2,
    "start_time": "2022-12-15T11:52:16.817Z"
   },
   {
    "duration": 293,
    "start_time": "2022-12-15T11:52:17.066Z"
   },
   {
    "duration": 6,
    "start_time": "2022-12-15T11:52:19.098Z"
   },
   {
    "duration": 16495,
    "start_time": "2022-12-15T11:52:22.010Z"
   },
   {
    "duration": 361,
    "start_time": "2022-12-15T11:52:54.938Z"
   },
   {
    "duration": 379,
    "start_time": "2022-12-15T11:52:59.370Z"
   },
   {
    "duration": 93,
    "start_time": "2022-12-15T11:54:28.858Z"
   },
   {
    "duration": 67,
    "start_time": "2022-12-15T11:54:37.290Z"
   },
   {
    "duration": 13,
    "start_time": "2022-12-15T11:54:47.755Z"
   },
   {
    "duration": 122,
    "start_time": "2022-12-15T11:54:50.722Z"
   },
   {
    "duration": 184,
    "start_time": "2022-12-15T11:54:54.578Z"
   },
   {
    "duration": 163,
    "start_time": "2022-12-15T11:54:57.347Z"
   },
   {
    "duration": 70,
    "start_time": "2022-12-15T11:55:27.787Z"
   },
   {
    "duration": 47,
    "start_time": "2022-12-15T13:26:11.106Z"
   }
  ],
  "kernelspec": {
   "display_name": "Python 3 (ipykernel)",
   "language": "python",
   "name": "python3"
  },
  "language_info": {
   "codemirror_mode": {
    "name": "ipython",
    "version": 3
   },
   "file_extension": ".py",
   "mimetype": "text/x-python",
   "name": "python",
   "nbconvert_exporter": "python",
   "pygments_lexer": "ipython3",
   "version": "3.9.12"
  },
  "toc": {
   "base_numbering": 1,
   "nav_menu": {},
   "number_sections": true,
   "sideBar": true,
   "skip_h1_title": true,
   "title_cell": "Содержание",
   "title_sidebar": "Contents",
   "toc_cell": true,
   "toc_position": {},
   "toc_section_display": true,
   "toc_window_display": true
  }
 },
 "nbformat": 4,
 "nbformat_minor": 2
}
